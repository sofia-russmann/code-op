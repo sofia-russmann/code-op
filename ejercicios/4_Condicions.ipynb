{
  "cells": [
    {
      "cell_type": "markdown",
      "metadata": {
        "id": "pz_yU8si9vhn"
      },
      "source": [
        "## 4. Condicions"
      ]
    },
    {
      "cell_type": "markdown",
      "metadata": {
        "id": "Vy_wipiK9vhn"
      },
      "source": [
        "Al codi del programa, sovint hi ha declaracions que només voleu executar quan es compleixen determinades condicions. Per tant, cada llenguatge de programació admet declaracions condicionals. En aquest capítol explicarem com utilitzar les condicions en Python."
      ]
    },
    {
      "cell_type": "markdown",
      "metadata": {
        "id": "ecuDZL6a9vhn"
      },
      "source": [
        "### Boolean expressions"
      ]
    },
    {
      "cell_type": "markdown",
      "metadata": {
        "id": "e_BotQ159vhn"
      },
      "source": [
        "Una declaració condicional, sovint anomenada sentència \"if\", consta d'una prova i una o més accions. La prova és una anomenada \"expressió booleana\". Les accions s'executen quan la prova s'avalua com a `True`. Per exemple, una aplicació en un telèfon intel·ligent pot donar un avís si el nivell de bateria és inferior al 5%. Això vol dir que l'aplicació ha de comprovar si una determinada variable `battery_level` és inferior al valor 5, és a dir, si la comparació ``\n",
        "`battery_level < 5` s'avalua com a \"True\". Si la variable `battery_level` actualment conté el valor `17`, aleshores `battery_level < 5` s'avalua com a `False`."
      ]
    },
    {
      "cell_type": "markdown",
      "metadata": {
        "id": "5w0MvN369vhn"
      },
      "source": [
        "### Booleans"
      ]
    },
    {
      "cell_type": "markdown",
      "metadata": {
        "id": "pLa52IAL9vhp"
      },
      "source": [
        "`True` i `False` són els anomenats \"valors booleans\" que estan predefinits a Python. `True` i `False` són els <i>únics</i> valors booleans, i qualsevol cosa que no sigui `False` és `True`.\n",
        "\n",
        "Potser us preguntareu quin és el tipus de dades de `True` i `False`. La resposta és que són del tipus `bool`. Tanmateix, a Python <i>cada</i> valor es pot interpretar com un valor booleà, independentment del seu tipus de dades. És a dir, quan proveu una condició i la vostra prova té un valor que no és `True` o `False`, encara s'interpretarà com a `True` o `False`.\n",
        "\n",
        "Els valors següents s'interpreten com a `False`:\n",
        "- El valor especial `False`\n",
        "- El valor especial `None` \n",
        "- Tots els valors numèrics que són zero, per exemple, \"0\" i \"0.0\".\n",
        "- Cada seqüència buida, per exemple, una cadena buida (`\"\"`)\n",
        "- Cada \"mapeig\" buit, per exemple, un diccionari buit (els diccionaris segueixen en un capítol posterior)\n",
        "- Qualsevol trucada de funció o mètode que retorni un d'aquests valors llistats (això inclou funcions que no retornen res; més informació sobre això al següent capítol)\n",
        "\n",
        "Tots els altres valors s'interpretan com a `True`.\n",
        "\n",
        "Qualsevol expressió que s'avalua com a `True` o `False`\" s'anomena \"expressió booleana\"."
      ]
    },
    {
      "cell_type": "code",
      "source": [
        "a = []\n",
        "if not a:\n",
        "  print(\"I'm in a\")"
      ],
      "metadata": {
        "colab": {
          "base_uri": "https://localhost:8080/"
        },
        "id": "65K9hz6tut10",
        "outputId": "95db3cd0-4c1e-4ef5-a4e3-cb8b736dc635"
      },
      "execution_count": null,
      "outputs": [
        {
          "output_type": "stream",
          "name": "stdout",
          "text": [
            "I'm in a\n"
          ]
        }
      ]
    },
    {
      "cell_type": "markdown",
      "metadata": {
        "id": "3JexNxmn9vhq"
      },
      "source": [
        "### Comparisons"
      ]
    },
    {
      "cell_type": "markdown",
      "metadata": {
        "id": "4S6vMgD39vhq"
      },
      "source": [
        "Les expressions booleanes més habituals són les comparacions. Una comparació consta de dos valors i un operador de comparació entremig. Els operadors de comparació són:\n",
        "\n",
        "     <  menys de\n",
        "     <= menor o igual a\n",
        "     == igual a\n",
        "     >= igual o superior a\n",
        "     >  més gran que\n",
        "     != no és igual\n",
        "\n",
        "Un error comú és utilitzar un únic `=` com a operador de comparació, però l'únic `=` és l'operador d'assignació. En general, Python produirà un error de sintaxi o de temps d'execució si intenteu utilitzar un únic `=` per fer una comparació.\n",
        "\n",
        "Podeu utilitzar els operadors de comparació per comparar nombres i cadenes. La comparació de cadenes és una comparació alfabètica, per la qual totes les **majúscules van abans de totes les minúscules (i els dígits van abans de totes dues). ** Números, majúscules, minúscules\n",
        "\n",
        "Aquests són alguns exemples dels resultats de les comparacions:"
      ]
    },
    {
      "cell_type": "markdown",
      "source": [
        "Python compares all strings lexicographically, which means that \"apple\" is always less than \"banana,\" which is less than \"cherry,\" and so on. However, string comparisons are case-sensitive. All uppercase letters are less than lowercase letters. For example, Python determines that \"Zebra\" is less than \"apple.\" To avoid this confusion when comparing strings lexicographically, temporarily convert all the strings to uppercase or lowercase and then compare them."
      ],
      "metadata": {
        "id": "bq77ST5f57E4"
      }
    },
    {
      "cell_type": "code",
      "execution_count": null,
      "metadata": {
        "id": "VdyGU0OZ9vhq",
        "colab": {
          "base_uri": "https://localhost:8080/"
        },
        "outputId": "9d52b453-b773-48e6-e871-a187f64e3fd2"
      },
      "outputs": [
        {
          "output_type": "stream",
          "name": "stdout",
          "text": [
            "1. True\n",
            "2. True\n",
            "3. False\n",
            "4. True\n",
            "5. True\n",
            "6. False\n",
            "7. True\n",
            "8. False\n",
            "9. False\n",
            "10. True\n",
            "11. True\n",
            "12. True\n",
            "13. False\n",
            "False\n"
          ]
        }
      ],
      "source": [
        "print(\"1.\", 2 < 5 )\n",
        "print(\"2.\", 2 <= 5 )\n",
        "print(\"3.\", 3 > 3 )\n",
        "print(\"4.\", 3 >= 3 )\n",
        "print(\"5.\", 3 == 3.0 )\n",
        "print(\"6.\", 3 == \"3\" )\n",
        "print(\"7.\", \"syntax\" == \"syntax\" )\n",
        "print(\"8.\", \"syntax\" == \"semantics\" )\n",
        "print(\"9.\", \"syntax\" == \" syntax\" )\n",
        "print(\"10.\", \"Python\" != \"rubbish\" )\n",
        "print(\"11.\", \"Python\" > \"Perl\")\n",
        "print(\"12.\", \"banana\" < \"orange\") \n",
        "print(\"13.\", \"banana\" < \"Orange\")\n",
        "print(\"14.\", \"o\" == int)"
      ]
    },
    {
      "cell_type": "markdown",
      "metadata": {
        "id": "LT8ikP3F9vhq"
      },
      "source": [
        "En general, les comparacions de tipus de dades que no es poden comparar condueixen a errors d'execució."
      ]
    },
    {
      "cell_type": "code",
      "execution_count": null,
      "metadata": {
        "id": "uD17-2lN9vhq",
        "outputId": "110eec2b-048e-43bd-e134-8ea320c7dc5a"
      },
      "outputs": [
        {
          "ename": "TypeError",
          "evalue": "'<' not supported between instances of 'int' and 'str'",
          "output_type": "error",
          "traceback": [
            "\u001b[0;31m-------------------------------------------------\u001b[0m",
            "\u001b[0;31mTypeError\u001b[0m       Traceback (most recent call last)",
            "\u001b[0;32m<ipython-input-91-ee7dc9f694ad>\u001b[0m in \u001b[0;36m<module>\u001b[0;34m\u001b[0m\n\u001b[1;32m      1\u001b[0m \u001b[0;31m# This code gives a runtime error.\u001b[0m\u001b[0;34m\u001b[0m\u001b[0;34m\u001b[0m\u001b[0;34m\u001b[0m\u001b[0m\n\u001b[0;32m----> 2\u001b[0;31m \u001b[0mprint\u001b[0m\u001b[0;34m(\u001b[0m \u001b[0;36m3\u001b[0m \u001b[0;34m<\u001b[0m \u001b[0;34m\"3\"\u001b[0m \u001b[0;34m)\u001b[0m\u001b[0;34m\u001b[0m\u001b[0;34m\u001b[0m\u001b[0m\n\u001b[0m",
            "\u001b[0;31mTypeError\u001b[0m: '<' not supported between instances of 'int' and 'str'"
          ]
        }
      ],
      "source": [
        "# This code gives a runtime error.\n",
        "print( 3 < \"3\" )"
      ]
    },
    {
      "cell_type": "markdown",
      "metadata": {
        "id": "gDFDwYQN9vhq"
      },
      "source": [
        "Les funcions poden retornar un valor booleà. El codi següent defineix una funció `isPositive` que retorna `True` si el seu paràmetre és un nombre positiu, i `False` en cas contrari:"
      ]
    },
    {
      "cell_type": "code",
      "execution_count": null,
      "metadata": {
        "id": "de8HoT9u9vhq",
        "outputId": "5c589de1-3dda-432f-d78d-82e6d5a96b3c"
      },
      "outputs": [
        {
          "name": "stdout",
          "output_type": "stream",
          "text": [
            "True\n",
            "False\n"
          ]
        }
      ],
      "source": [
        "def is_positive(number):\n",
        "    return number >= 0\n",
        "\n",
        "print(is_positive(4))\n",
        "print(is_positive(-12.4))"
      ]
    },
    {
      "cell_type": "markdown",
      "metadata": {
        "id": "RO3RyDpo9vhr"
      },
      "source": [
        "###  `in` operator"
      ]
    },
    {
      "cell_type": "markdown",
      "metadata": {
        "id": "H_hzlFhl9vhr"
      },
      "source": [
        "Python té un operador especial anomenat \"operador de prova de pertinença\", que normalment s'abreuja a \"operador in\", ja que s'escriu com a \"in\". L'operador `in` prova si el valor del costat esquerre de l'operador es troba a la col·lecció del costat dret de l'operador.\n",
        "\n",
        "En aquest moment, només hem parlat d'una \"col·lecció\", que és la cadena. Una cadena és una col·lecció de caràcters. Podeu provar si un caràcter particular o una seqüència de caràcters forma part de la cadena utilitzant l'operador `in`. El contrari de l'operador `in` és l'operador `not in`, que dóna `True` quan `in` dóna `False`, i que dóna `False` quan `in` dóna `True`.\n",
        "\n",
        "Per exemple:"
      ]
    },
    {
      "cell_type": "code",
      "execution_count": null,
      "metadata": {
        "id": "wEmtYkEJ9vhr",
        "outputId": "e5c1b34e-8978-482d-b1a9-cf4b322689af",
        "colab": {
          "base_uri": "https://localhost:8080/"
        }
      },
      "outputs": [
        {
          "output_type": "stream",
          "name": "stdout",
          "text": [
            "True\n",
            "False\n",
            "False\n",
            "True\n",
            "False\n",
            "False\n"
          ]
        }
      ],
      "source": [
        "print(\"y\" in \"Python\")\n",
        "print(\"x\" in \"Python\")\n",
        "print(\"p\" in \"Python\")\n",
        "print(\"th\" in \"Python\")\n",
        "print(\"to\" in \"Python\")\n",
        "print(\"y\" not in \"Python\")"
      ]
    },
    {
      "cell_type": "markdown",
      "metadata": {
        "id": "fuuHbuP49vhr"
      },
      "source": [
        "### Operadors lògics"
      ]
    },
    {
      "cell_type": "markdown",
      "metadata": {
        "id": "u2q6fLWp9vhr"
      },
      "source": [
        "Les expressions booleanes es poden combinar amb operadors lògics. Hi ha tres operadors lògics, `and` , `or` i `not`.\n",
        "\n",
        "`and`  i `or` es col·loquen entre dues expressions booleanes. Quan `and` està entre dues expressions booleanes, el resultat és `True` si i només si ambdues expressions s'avaluen com a `True`; en cas contrari és `Fals`. Quan `or` es troba entre dues expressions booleanes, el resultat és `True` quan una o ambdues expressions s'avaluen com a `True`; només és `False` si ambdues expressions s'avaluen com a `False`.\n",
        "\n",
        "`not` es col·loca davant d'una expressió booleana per canviar-la de `True` a `False` o viceversa.\n",
        "\n",
        "Per exemple:"
      ]
    },
    {
      "cell_type": "code",
      "execution_count": null,
      "metadata": {
        "id": "3G_eAELV9vhr"
      },
      "outputs": [],
      "source": [
        "t = True\n",
        "f = False\n",
        "\n",
        "print(t and t)\n",
        "print(t and f)\n",
        "print(f and t)\n",
        "print(f and f)\n",
        "\n",
        "print(t or t)\n",
        "print(t or f)\n",
        "print(f or t)\n",
        "print(f or f)\n",
        "\n",
        "print(not t)\n",
        "print(not f)"
      ]
    },
    {
      "cell_type": "markdown",
      "metadata": {
        "id": "mf7lZeGQ9vhs"
      },
      "source": [
        "### Conditional statements"
      ]
    },
    {
      "cell_type": "markdown",
      "metadata": {
        "id": "DKnKSvTd9vhs"
      },
      "source": [
        "Les declaracions condicionals són, com va dir la introducció d'aquest capítol, declaracions que consisteixen en una prova i una o més accions, per les quals les accions només s'executen si la prova s'avalua com a `True`. Les declaracions condicionals també s'anomenen \"if-statements\", ja que s'escriuen amb la paraula clau especial `if`.\n",
        "\n",
        "Aquí teniu un exemple:"
      ]
    },
    {
      "cell_type": "code",
      "execution_count": null,
      "metadata": {
        "id": "NYD5W_Xl9vhs",
        "outputId": "3ff8acc4-8c9d-416d-9766-444763577067",
        "colab": {
          "base_uri": "https://localhost:8080/"
        }
      },
      "outputs": [
        {
          "output_type": "stream",
          "name": "stdout",
          "text": [
            "11\n"
          ]
        }
      ],
      "source": [
        "x = 11\n",
        "if x < 10:\n",
        "  print(\"x less then 10\")"
      ]
    },
    {
      "cell_type": "markdown",
      "metadata": {
        "id": "qry_gpFH9vhs"
      },
      "source": [
        "La sintaxi de la sentència `if` és la següent:\n",
        "    if <boolean expression>:\n",
        "        <statements>\n",
        "\n",
        "Tingueu en compte els dos punts (`:`) després de l'expressió booleana i el fet que `<statements>` està sagnat."
      ]
    },
    {
      "cell_type": "markdown",
      "metadata": {
        "id": "32AguLGw9vht"
      },
      "source": [
        "### Blocs de codi"
      ]
    },
    {
      "cell_type": "markdown",
      "metadata": {
        "id": "yGWhr0EU9vht"
      },
      "source": [
        "A la descripció sintàctica de la declaració `if` que es mostra més amunt, veieu que els `<statements>` estan \"sagnades\", és a dir, es col·loquen una tabulació a la dreta. Això és intencionat i <u>necessari</u>. Python considera les declaracions que es succeeixen i que estan al mateix nivell de sagnat part d'un bloc de codi. El bloc de codi que hi ha sota la primera línia de la instrucció \"if\" es considera la llista d'accions que s'executen quan l'expressió booleana s'avalua com a `True`.\n",
        "\n",
        "Per exemple:"
      ]
    },
    {
      "cell_type": "code",
      "execution_count": null,
      "metadata": {
        "id": "XxlMNP1X9vht",
        "outputId": "2be79455-fec2-4746-c64e-00a366a570de",
        "colab": {
          "base_uri": "https://localhost:8080/"
        }
      },
      "outputs": [
        {
          "output_type": "stream",
          "name": "stdout",
          "text": [
            "This line is only executed if x < 10.\n",
            "And the same holds for this line.\n",
            "This line, however, is always executed.\n"
          ]
        }
      ],
      "source": [
        "x = 8\n",
        "if x < 10:\n",
        "    print(\"This line is only executed if x < 10.\")\n",
        "    print(\"And the same holds for this line.\")\n",
        "print(\"This line, however, is always executed.\")"
      ]
    },
    {
      "cell_type": "markdown",
      "metadata": {
        "id": "iGe36pzC9vht"
      },
      "source": [
        "**Exercici**: canvieu el valor de `x` per veure com afecta el resultat del codi.\n",
        "\n",
        "Així, totes les declaracions sota el `if` que estan sagnades, pertanyen al bloc de codi que s'executa quan l'expressió booleana de la sentència `if` s'avalua com a `True`. Aquest bloc de codi s'omet si l'expressió booleana s'avalua com a `False`. Les declaracions que segueixen la construcció `if` que no estan sagnades (tan profundes com el bloc de codi sota el `if`), s'executen, independentment de si l'expressió booleana s'avalua com a `Vertader` o `False`."
      ]
    },
    {
      "cell_type": "markdown",
      "metadata": {
        "id": "NFp0IU5M9vht"
      },
      "source": [
        "Naturalment, no esteu restringits a tenir només una declaració `if` al vostre codi. En pots tenir tants com vulguis:"
      ]
    },
    {
      "cell_type": "code",
      "execution_count": null,
      "metadata": {
        "id": "KlbuBWSG9vht",
        "colab": {
          "base_uri": "https://localhost:8080/"
        },
        "outputId": "1cf459f7-15b4-4cf3-cc06-8b381b1dfaed"
      },
      "outputs": [
        {
          "output_type": "stream",
          "name": "stdout",
          "text": [
            "None\n"
          ]
        }
      ],
      "source": [
        "def print_status(x):  \n",
        "  return\n",
        "        \n",
        "print(print_status(5))"
      ]
    },
    {
      "cell_type": "markdown",
      "metadata": {
        "id": "ES4GpAFg9vht"
      },
      "source": [
        "**Exercici**: prova aquesta funció donant-li diferents paràmetres i mira com afecta el resultat."
      ]
    },
    {
      "cell_type": "code",
      "source": [],
      "metadata": {
        "id": "ujR0qlgvryiO"
      },
      "execution_count": null,
      "outputs": []
    },
    {
      "cell_type": "markdown",
      "metadata": {
        "id": "6eC948K39vhu"
      },
      "source": [
        "### Indentation"
      ]
    },
    {
      "cell_type": "markdown",
      "metadata": {
        "id": "FdwFzdeL9vhu"
      },
      "source": [
        "A Python, __la sagnació correcta és de la màxima importància__! Sense el sagnat correcte, Python no podrà reconèixer quines sentències pertanyen com un bloc de codi i, per tant, no pot executar el codi correctament.\n",
        "\n",
        "**Nota**: en molts llenguatges de programació (en realitat, en gairebé tots els llenguatges de programació), els blocs de codi es reconeixen perquè comencen i acabin amb un símbol o paraula clau específics. Per exemple, en llenguatges com Java i C++, els blocs de codi estan tancats per claudàtors, mentre que en llenguatges com Pascal i Modula, els blocs de codi s'inicien amb la paraula clau \"begin\" i acaben amb la paraula clau \"end\". Això vol dir que en gairebé tots els idiomes, no cal fer sagnat per reconèixer els blocs de codi. Tanmateix, trobareu que el codi escrit per programadors capaços sempre està ben sagnat, independentment de l'idioma. Això fa que sigui fàcil veure quin codi pertany, per exemple, quines ordres pertanyen a una instrucció `if`. Python fa que el sagnat sigui un requisit. Tot i que per als programadors experimentats que són nous a Python això sembla estrany al principi, ràpidament descobreixen que no els importa; de totes maneres estaven sagnant bé, i l'estratègia de Python fa que els programadors principiants també hagin d'escriure un codi bonic.\n",
        "\n",
        "Tingueu en compte que podeu fer un sagnat amb la tecla *Tab* o amb espais. La majoria dels editors (inclòs l'editor d'aquests quaderns) us feran un sagnat automàtic, és a dir, si, per exemple, escriviu la primera línia d'una declaració `if`, un cop premeu *Enter* per anar a la línia següent, automàticament \"saltarà\" un nivell de sagnat (si no ho fa, és molt probable que hagis oblidat els dos punts al final de l'expressió condicional). A més, quan hàgiu sagnat una línia fins a un cert nivell de sagnat, la línia següent farà servir el mateix nivell. Podeu desfer-vos dels sagnis amb la tecla *Retrocés*.\n",
        "\n",
        "Per als programes Python, un nivell normal de sagnat és de quatre espais, és a dir, una pressió de la tecla *Tab* hauria de \"saltar\" quatre espais. Sempre que estigueu en un editor, en aquest cas podeu utilitzar la tecla *Tab* o prémer la barra espaiadora quatre vegades per pujar un nivell de sagnat. Fins ara, tot bé. Tanmateix, és possible que tingueu problemes si porteu el codi a un altre editor, que pot tenir una configuració diferent per a la tecla *Tab*. Si editeu el vostre codi en un editor tan diferent, tot i que sembli bé, Python pot veure que hi ha conflictes de sagnat (una barreja de tabulacions i sagnies d'espai) i pot informar d'un error de sintaxi quan intenteu executar el vostre codi. . Per tant, la majoria d'editors ofereixen l'opció de substituir automàticament les tabulacions per espais, de manera que aquests problemes no sorgeixin. Si utilitzeu un editor de text per escriure codi Python, comproveu si conté aquesta opció i, si és així, assegureu-vos que les tabulacions s'estableixin en 4 i se substitueixen automàticament per espais."
      ]
    },
    {
      "cell_type": "markdown",
      "metadata": {
        "id": "2n0vfbIe9vhu"
      },
      "source": [
        "### Decisions bidireccionals"
      ]
    },
    {
      "cell_type": "markdown",
      "metadata": {
        "id": "QZCEABca9vhu"
      },
      "source": [
        "Sovint, una decisió es ramifica, per exemple, si sorgeix una determinada condició, voleu emprendre una acció concreta, però si no sorgeix, voleu fer una altra acció. Això és compatible amb Python en forma d'expansió a la sentència \"if\" que afegeix una branca \"else\":"
      ]
    },
    {
      "cell_type": "code",
      "execution_count": null,
      "metadata": {
        "id": "PjLDXJNA9vhv",
        "outputId": "47b2cbcb-0db0-4e31-ddc9-2057e35cdc9b",
        "colab": {
          "base_uri": "https://localhost:8080/"
        }
      },
      "outputs": [
        {
          "output_type": "stream",
          "name": "stdout",
          "text": [
            "44 is bigger than 2\n"
          ]
        }
      ],
      "source": [
        "def bigger_than_two(x):\n",
        "    if x > 2:\n",
        "        print(x, \"is bigger than 2\")\n",
        "    else:\n",
        "        print(\"smaller than or equal to 2\") \n",
        "        \n",
        "bigger_than_two(44)"
      ]
    },
    {
      "cell_type": "markdown",
      "metadata": {
        "id": "bAEMZ1619vhv"
      },
      "source": [
        "La sintaxi és la següent:\n",
        "\n",
        "    if <boolean expression>:\n",
        "        <statements>\n",
        "    else:\n",
        "        <statements>\n",
        "\n",
        "Tingueu en compte els dos punts (`:`) després de l'expressió booleana i de l'`else`.\n",
        "\n",
        "És important que la paraula `else` estigui alineada amb la paraula `if` a la qual pertany. Si no els alineeu correctament, es produirà un error de sagnat.\n",
        "\n",
        "Una conseqüència d'afegir una branca `else` a una instrucció `if` és que sempre s'executarà exactament un dels dos blocs de codi. Si l'expressió booleana de la sentència `if` s'avalua com a `True`, s'executarà el bloc de codi directament sota el `if`, i el bloc de codi directament sota el `else` s'ometrà. Si s'avalua com a `False`, el bloc de codi directament sota el `if` s'executarà, mentre que el bloc de codi directament sota el `else` s'executarà.\n",
        "\n",
        "**Exercici**: escriviu una funció `isOdd` que retorni `True` si el seu paràmetre enter és imparell o `False` si és parell. Podeu utilitzar l'operador mòdul. Proveu la vostra funció amb diferents valors de paràmetre."
      ]
    },
    {
      "cell_type": "code",
      "execution_count": null,
      "metadata": {
        "id": "mqUP67sK9vhv",
        "outputId": "3c01aee0-1afc-499c-d39b-b9fef36cf260"
      },
      "outputs": [
        {
          "name": "stdout",
          "output_type": "stream",
          "text": [
            "False\n"
          ]
        }
      ],
      "source": [
        "# function isOdd\n",
        "def isOdd(value):\n",
        "    return \n",
        "\n",
        "print(isOdd(12))"
      ]
    },
    {
      "cell_type": "markdown",
      "metadata": {
        "id": "nRI0GA339vhv"
      },
      "source": [
        "### Multi-branch decisions"
      ]
    },
    {
      "cell_type": "markdown",
      "metadata": {
        "id": "WxdxkF8o9vhv"
      },
      "source": [
        "De tant en tant, et trobes amb decisions de diverses branques, on s'ha d'executar un dels múltiples blocs d'ordres, però mai més d'un bloc. Aquestes decisions de diverses branques es poden implementar mitjançant una expansió addicional de la declaració `if`, és a dir, en forma d'una o més declaracions `elif` (`elif` significa `else if`):"
      ]
    },
    {
      "cell_type": "code",
      "execution_count": null,
      "metadata": {
        "id": "csWdHpV59vhv",
        "outputId": "2bb2b5db-f795-45a5-e46b-b1a514a42387",
        "colab": {
          "base_uri": "https://localhost:8080/"
        }
      },
      "outputs": [
        {
          "output_type": "stream",
          "name": "stdout",
          "text": [
            "You're still a child!\n"
          ]
        }
      ],
      "source": [
        "def age_status(age):\n",
        "    if age < 12:\n",
        "        print(\"You're still a child!\")\n",
        "    elif age < 18:\n",
        "        print(\"You are a teenager!\")\n",
        "    elif age < 30:\n",
        "        print(\"You're pretty young!\")\n",
        "    elif age < 50:\n",
        "        print(\"Wisening up, are we?\")\n",
        "    else:\n",
        "        print(\"Aren't the years weighing heavy on your shoulders?\")\n",
        "        \n",
        "age_status(8)"
      ]
    },
    {
      "cell_type": "markdown",
      "metadata": {
        "id": "am8sWMhv9vhv"
      },
      "source": [
        "Canvieu el valor del paràmetre i proveu la funció `age_status`.\n",
        "\n",
        "La sintaxi és la següent:\n",
        "\n",
        "    if <boolean expression>:\n",
        "        <statements>\n",
        "    elif <boolean expression>:\n",
        "        <statements>\n",
        "    else:\n",
        "        <statements>\n",
        "\n",
        "La sintaxi anterior només mostra un `elif`, però podeu tenir-ne diversos. Les diferents proves en una construcció `if`-`elif`-`else` s'executen en ordre. La primera expressió booleana que s'avalua com a `True` farà que s'executi el bloc de codi que pertany a aquesta expressió. No s'executarà cap dels altres blocs de codi de la construcció.\n",
        "\n",
        "En altres paraules: primer s'avaluarà l'expressió booleana al costat del `if`. Si s'avalua com a `True`, s'executarà el bloc de codi que hi ha sota el `if`. Si s'avalua com a `False`, s'avaluarà l'expressió booleana del primer `elif`. Si això resulta ser `True`, s'executarà el bloc de codi que hi ha a sota. Si és `False`, Python comprovarà l'expressió booleana per al següent `elif`. Etcétera. Només quan totes les expressions booleanes del `if` i totes les `elif`s s'avaluen com a `False`, s'executarà el bloc de codi que hi ha a sota de `else`.\n",
        "\n",
        "La conseqüència és que al codi anterior, per al primer `elif`, no cal que proveu `edat >= 12 i edat < 18`. Només provar `age < 18` és suficient, perquè si `age` fos menor que `12`, ja l'expressió booleana del `if` s'hauria avaluat com a `True`, i l'expressió booleana del primer `elif` no ho faria. fins i tot s'han trobat per Python.\n",
        "\n",
        "Tingueu en compte que la inclusió de la branca `else` sempre és opcional. Tanmateix, en la majoria dels casos en què necessitem `elif`s, l'incloem de totes maneres, encara que només sigui per comprovar errors.\n",
        "\n",
        "**Exercici:** Escriu una funció que prengui un paràmetre \"pes\". Si el \"pes\" és superior a 20 (quilos), escriviu: \"Hi ha un recàrrec de 25 $ per l'equipatge massa pesat\". Si \"pes\" és inferior a 20, escriviu: \"Gràcies pel vostre negoci\". Si \"pes\" és exactament 20, escriviu: \"Pfew! El pes és correcte!\". Proveu la funció per a diferents valors de \"pes\" per assegurar-vos que el vostre codi funcioni."
      ]
    },
    {
      "cell_type": "code",
      "execution_count": null,
      "metadata": {
        "id": "uCKiLCTQ9vhy",
        "outputId": "11c8b6a7-b114-4cb3-d16a-6b8c73e20203"
      },
      "outputs": [
        {
          "name": "stdout",
          "output_type": "stream",
          "text": [
            "Pfew! The weight is just right!\n"
          ]
        }
      ],
      "source": [
        "# Weight function\n",
        "def Read_Weight(weight):\n",
        "    return\n",
        "        \n",
        "Read_Weight(20)\n",
        "        "
      ]
    },
    {
      "cell_type": "markdown",
      "metadata": {
        "id": "GYZ66YaF9vhy"
      },
      "source": [
        "### Nesting conditions\n"
      ]
    },
    {
      "cell_type": "markdown",
      "metadata": {
        "id": "GzFgEpoP9vhy"
      },
      "source": [
        "Tenint en compte les regles de les declaracions `if-elif-else` i la identificació, és perfectament possible utilitzar una sentència `if` dins d'una altra sentència `if`. Aquesta segona sentència `if` només s'executa si la condició de la primera sentència `if` s'avalua com a `True`, ja que pertany al bloc de codi de la primera sentència `if`. Això s'anomena \"nesting\"."
      ]
    },
    {
      "cell_type": "code",
      "execution_count": null,
      "metadata": {
        "id": "r4wYaqH29vhy",
        "colab": {
          "base_uri": "https://localhost:8080/"
        },
        "outputId": "f1f7961e-f647-4cbb-f521-249a15bf30de"
      },
      "outputs": [
        {
          "output_type": "stream",
          "name": "stdout",
          "text": [
            "77 is dividable by both 7 and 11.\n"
          ]
        }
      ],
      "source": [
        "x = 77\n",
        "if x%7 == 0:\n",
        "    # --- Here starts a nested block of code ---\n",
        "    if x%11 == 0:\n",
        "        print(x, \"is dividable by both 7 and 11.\")\n",
        "    else:\n",
        "        print(x, \"is dividable by 7, but not by 11.\")\n",
        "    # --- Here ends the nested block of code ---\n",
        "elif x%11 == 0:\n",
        "    print(x, \"is dividable by 11, but not by 7.\")\n",
        "else:\n",
        "    print(x, \"is dividable by neither 7 nor 11.\")"
      ]
    },
    {
      "cell_type": "markdown",
      "metadata": {
        "id": "dT4wG1uX9vhy"
      },
      "source": [
        "**Exercici**: canvieu el valor de `x` i observeu els resultats."
      ]
    },
    {
      "cell_type": "code",
      "source": [],
      "metadata": {
        "id": "IcP4oodWr4pi"
      },
      "execution_count": null,
      "outputs": []
    },
    {
      "cell_type": "markdown",
      "metadata": {
        "id": "cod29CUL9vhy"
      },
      "source": [
        "### Early exits"
      ]
    },
    {
      "cell_type": "markdown",
      "metadata": {
        "id": "KWP6prn69vhy"
      },
      "source": [
        "De tant en tant passa que es vol sortir d'una funció (o programa) abans d'hora quan es produeix una determinada condició. Per exemple, la vostra funció rep i processa un valor enter de manera extensiva. Però si el valor no es pot processar, la funció només hauria de retornar un missatge d'error. Podeu escriure la funció de la següent manera:"
      ]
    },
    {
      "cell_type": "code",
      "execution_count": null,
      "metadata": {
        "id": "psgF1uSX9vhz",
        "colab": {
          "base_uri": "https://localhost:8080/"
        },
        "outputId": "bec5067f-baaa-424c-e88a-9fd08c5478f3"
      },
      "outputs": [
        {
          "output_type": "stream",
          "name": "stdout",
          "text": [
            "Now I am processing your integer 2\n",
            "Lots and lots of processing\n",
            "Hundreds of lines of code here\n"
          ]
        }
      ],
      "source": [
        "def handle_number(num):\n",
        "    if num < 0:\n",
        "        print(\"I cannot handle a negative integer, you clod!\")\n",
        "    else:\n",
        "        print(\"Now I am processing your integer\", num)\n",
        "        print(\"Lots and lots of processing\")\n",
        "        print(\"Hundreds of lines of code here\")\n",
        "        \n",
        "handle_number(2)"
      ]
    },
    {
      "cell_type": "markdown",
      "metadata": {
        "id": "QrqCflJ99vhz"
      },
      "source": [
        "És una mica irritant que la major part del vostre programa ja tingui un sagnat, mentre que hauríeu preferit deixar el programa al missatge d'error i després tenir la resta del programa al nivell superior de sagnat.\n",
        "\n",
        "Podeu fer-ho utilitzant una declaració de `return` anticipada:"
      ]
    },
    {
      "cell_type": "code",
      "execution_count": null,
      "metadata": {
        "id": "Wjjqdy2D9vhz",
        "colab": {
          "base_uri": "https://localhost:8080/"
        },
        "outputId": "ffd7006f-8fbc-49fe-fc25-423f7ce68d67"
      },
      "outputs": [
        {
          "output_type": "stream",
          "name": "stdout",
          "text": [
            "Now I am processing your integer 12\n",
            "Lots and lots of processing\n",
            "Hundreds of lines of code here\n"
          ]
        }
      ],
      "source": [
        "def handle_number(num):\n",
        "    if num < 0:\n",
        "        print(\"I cannot handle a negative integer, you clod!\")\n",
        "        return\n",
        "    \n",
        "    print(\"Now I am processing your integer\", num)\n",
        "    print(\"Lots and lots of processing\")\n",
        "    print(\"Hundreds of lines of code here\")\n",
        "    \n",
        "handle_number(12)"
      ]
    },
    {
      "cell_type": "markdown",
      "metadata": {
        "id": "C5VprNeR9vhz"
      },
      "source": [
        "Quan executeu una trucada a aquesta funció amb un valor de paràmetre negatiu, la funció imprimeix un missatge d'error i finalitza sense executar la resta del codi."
      ]
    },
    {
      "cell_type": "markdown",
      "metadata": {
        "id": "Iyals3lT9vhz"
      },
      "source": [
        "### El que has après"
      ]
    },
    {
      "cell_type": "markdown",
      "metadata": {
        "id": "qwv8ZGLt9vhz"
      },
      "source": [
        "En aquest capítol, heu après:\n",
        "\n",
        "- Què són les expressions booleanes\n",
        "- Valors booleans `True` i `False`\n",
        "- Comparacions amb `<`, `<=`, `==`, `>`, `>=` i `!=`\n",
        "- L'operador `in`\n",
        "- Operadors lògics `and`, `or` i `not`\n",
        "- Sentències condicionals que utilitzen `if`, `elif` i `else`\n",
        "- Blocs de codi\n",
        "- Identació\n",
        "- Condicions imbricades"
      ]
    },
    {
      "cell_type": "markdown",
      "metadata": {
        "id": "ONMFBAOS9vhz"
      },
      "source": [
        "**Exercici 4.1 (opcional):** Les qualificacions són valors entre 0 i 10 (tant zero com 10 inclosos) i sempre s'arrodoneixen al mig punt més proper. Per traduir les notes a l'estil americà, de 8,5 a 10 es converteixen en \"A\", 7.5 i 8 es converteixen en \"B\", 6.5 i 7 es converteixen en \"C\", 5.5 i 6 es converteixen en \"D\" i altres notes en \"F\". Escriu una funció que implementi aquesta traducció i retorni la traducció nord-americana del valor al paràmetre `grade`. Si `qualificació` és inferior a zero o superior a 10, la funció imprimeix un missatge d'error i retorna una cadena buida. No cal que gestioneu les qualificacions que no acaben en `.0` o `.5`, tot i que ho podeu fer si voleu; en aquest cas, imprimiu un missatge d'error adequat."
      ]
    },
    {
      "cell_type": "code",
      "execution_count": null,
      "metadata": {
        "id": "nCGiYk3u9vh0",
        "outputId": "8caa1387-4d27-43fe-f72d-21752e265647"
      },
      "outputs": [
        {
          "name": "stdout",
          "output_type": "stream",
          "text": [
            "Grade is too low: -0.5 \n",
            "Converted to 0\n",
            "F\n",
            "Grade is too high: 10.5 \n",
            "Converted to 10\n",
            "A\n",
            "F\n",
            "D\n",
            "C\n",
            "B\n",
            "A\n",
            "Remember that grades must be converted to .5 or .0\n",
            "9.45 converted to: 9.5\n",
            "A\n"
          ]
        }
      ],
      "source": [
        "# Convert grades\n",
        "def Convert_Grades(grade):\n",
        "    return\n",
        "    \n",
        "Convert_Grades(-0.5) # !\n",
        "Convert_Grades(10.5) # !\n",
        "Convert_Grades(0.5) # F\n",
        "Convert_Grades(5.5) # D\n",
        "Convert_Grades(6.5) # C\n",
        "Convert_Grades(7.5) # B\n",
        "Convert_Grades(8.5) # A\n",
        "Convert_Grades(9.45)  # A\n"
      ]
    },
    {
      "cell_type": "markdown",
      "metadata": {
        "id": "VwhRnJ7Y9vh0"
      },
      "source": [
        "**Exercici 4.2 (opcional):** Definiu una funció que rep un paràmetre de cadena i retorna un nombre enter que indica quantes vocals *diferents* hi ha a la cadena. La versió majúscula d'una vocal minúscula es considera la mateixa vocal. `y` no es considera una vocal. Per exemple, per a la cadena \"Michael Palin\", la funció hauria de ser 3."
      ]
    },
    {
      "cell_type": "code",
      "execution_count": null,
      "metadata": {
        "id": "PcoVYg4q9vh0",
        "outputId": "ea4fa44e-d734-48b0-ced0-b2e854cc4578"
      },
      "outputs": [
        {
          "name": "stdout",
          "output_type": "stream",
          "text": [
            "There are 3 vowels in Michael Palin\n",
            "There is 1 vowel in Micl Plin\n"
          ]
        }
      ],
      "source": [
        "# Count vowels\n",
        "def Count_Vowels(string):\n",
        "    return\n",
        "  \n",
        "    \n",
        "Count_Vowels(\"Michael Palin\")\n",
        "Count_Vowels(\"Derrepente\")\n"
      ]
    },
    {
      "cell_type": "code",
      "source": [
        "def add_to( num, target=[]):\n",
        "    target.append(num)\n",
        "    return target\n"
      ],
      "metadata": {
        "colab": {
          "base_uri": "https://localhost:8080/"
        },
        "id": "vv0ot5nLVbk9",
        "outputId": "ee10f726-deac-4a85-aa71-c51f48ccd1b1"
      },
      "execution_count": null,
      "outputs": [
        {
          "output_type": "execute_result",
          "data": {
            "text/plain": [
              "[2]"
            ]
          },
          "metadata": {},
          "execution_count": 21
        }
      ]
    },
    {
      "cell_type": "code",
      "source": [
        "def add_to( element, target=None):\n",
        "    if target is None:\n",
        "        target=[]\n",
        "    target.append(element)\n",
        "    return target"
      ],
      "metadata": {
        "id": "iC5ZrFUHY9h1"
      },
      "execution_count": null,
      "outputs": []
    },
    {
      "cell_type": "code",
      "source": [
        "add_to(1)"
      ],
      "metadata": {
        "colab": {
          "base_uri": "https://localhost:8080/"
        },
        "id": "CnRKLVU_Y10z",
        "outputId": "48436894-c9e5-481c-f55f-4ee887a4e7c7"
      },
      "execution_count": null,
      "outputs": [
        {
          "output_type": "execute_result",
          "data": {
            "text/plain": [
              "[1]"
            ]
          },
          "metadata": {},
          "execution_count": 29
        }
      ]
    },
    {
      "cell_type": "code",
      "source": [
        "from copy import deepcopy\n",
        "\n",
        "segon = deepcopy(primer)\n",
        "segon.extend([\"bye\"])\n",
        "print(segon)"
      ],
      "metadata": {
        "colab": {
          "base_uri": "https://localhost:8080/"
        },
        "id": "vFsqaj1SVBJM",
        "outputId": "a513f923-3da3-49d5-ec46-d9cc63fc8d04"
      },
      "execution_count": null,
      "outputs": [
        {
          "output_type": "stream",
          "name": "stdout",
          "text": [
            "['hi', 'bye']\n"
          ]
        }
      ]
    },
    {
      "cell_type": "code",
      "source": [
        "print(primer)"
      ],
      "metadata": {
        "colab": {
          "base_uri": "https://localhost:8080/"
        },
        "id": "vIZsWfizWuWS",
        "outputId": "35a9eb35-788c-4162-8457-e46cd0d83541"
      },
      "execution_count": null,
      "outputs": [
        {
          "output_type": "stream",
          "name": "stdout",
          "text": [
            "['hi']\n"
          ]
        }
      ]
    },
    {
      "cell_type": "code",
      "source": [
        "nums = [\"boo\", \"barz\", \"bas\", \"kass\", \"les\"]\n",
        "\n",
        "len_nums = [len(num) for num in nums]\n",
        "len_nums"
      ],
      "metadata": {
        "id": "SZ742BhMW4tp",
        "colab": {
          "base_uri": "https://localhost:8080/"
        },
        "outputId": "781c5750-bf19-414b-d05b-d7e3e3dab797"
      },
      "execution_count": null,
      "outputs": [
        {
          "output_type": "execute_result",
          "data": {
            "text/plain": [
              "[3, 4, 3, 4, 3]"
            ]
          },
          "metadata": {},
          "execution_count": 83
        }
      ]
    },
    {
      "cell_type": "code",
      "source": [
        "list(range(1, 5))"
      ],
      "metadata": {
        "colab": {
          "base_uri": "https://localhost:8080/"
        },
        "id": "aOfW5DI5IT7w",
        "outputId": "b9e44f19-4bdc-4293-bc61-19e583f23e7b"
      },
      "execution_count": null,
      "outputs": [
        {
          "output_type": "execute_result",
          "data": {
            "text/plain": [
              "[1, 2, 3, 4]"
            ]
          },
          "metadata": {},
          "execution_count": 57
        }
      ]
    },
    {
      "cell_type": "code",
      "source": [
        "len_nums_for = []\n",
        "\n",
        "for ind in range(len(nums)):\n",
        "  num = nums[ind]\n",
        "  len_n = len(num)\n",
        "  len_nums_for.append(len_n)"
      ],
      "metadata": {
        "id": "T6eleqTB1Yuo"
      },
      "execution_count": null,
      "outputs": []
    },
    {
      "cell_type": "code",
      "source": [
        "for item in map(len,nums):\n",
        "  print(item)"
      ],
      "metadata": {
        "colab": {
          "base_uri": "https://localhost:8080/"
        },
        "id": "sbgJe5X1Jonw",
        "outputId": "dad71871-7900-4bde-cfe9-16698015d9aa"
      },
      "execution_count": null,
      "outputs": [
        {
          "output_type": "stream",
          "name": "stdout",
          "text": [
            "3\n",
            "4\n",
            "3\n",
            "4\n",
            "3\n"
          ]
        }
      ]
    },
    {
      "cell_type": "code",
      "source": [
        "len_nums"
      ],
      "metadata": {
        "colab": {
          "base_uri": "https://localhost:8080/"
        },
        "id": "fXCDLk0KFQdU",
        "outputId": "6fd2b6ff-836d-46b6-b8ef-c14035bd1de8"
      },
      "execution_count": null,
      "outputs": [
        {
          "output_type": "execute_result",
          "data": {
            "text/plain": [
              "[3, 4, 3, 4, 3]"
            ]
          },
          "metadata": {},
          "execution_count": 84
        }
      ]
    },
    {
      "cell_type": "code",
      "source": [
        "len_nums_for"
      ],
      "metadata": {
        "colab": {
          "base_uri": "https://localhost:8080/"
        },
        "id": "pg5R3YCDGFvT",
        "outputId": "75d34d4d-3621-4d0b-dfd6-b7e2ba08b38d"
      },
      "execution_count": null,
      "outputs": [
        {
          "output_type": "execute_result",
          "data": {
            "text/plain": [
              "[3, 4, 3, 4, 3]"
            ]
          },
          "metadata": {},
          "execution_count": 59
        }
      ]
    },
    {
      "cell_type": "code",
      "source": [
        "len_nums"
      ],
      "metadata": {
        "colab": {
          "base_uri": "https://localhost:8080/"
        },
        "id": "eHOLXqHNHoo2",
        "outputId": "87e571f6-295e-461b-ac28-4870d2b345b0"
      },
      "execution_count": null,
      "outputs": [
        {
          "output_type": "execute_result",
          "data": {
            "text/plain": [
              "{3, 4}"
            ]
          },
          "metadata": {},
          "execution_count": 78
        }
      ]
    },
    {
      "cell_type": "code",
      "source": [
        "def square_lambda(x):\n",
        "  return x**2"
      ],
      "metadata": {
        "id": "8EFL6pCNKuH5"
      },
      "execution_count": null,
      "outputs": []
    },
    {
      "cell_type": "code",
      "source": [
        "list(map(lambda x: x**2, len_nums))"
      ],
      "metadata": {
        "colab": {
          "base_uri": "https://localhost:8080/"
        },
        "id": "Ba6ceCN-Kd67",
        "outputId": "b228812c-9da7-433b-ca59-9751bc73eb64"
      },
      "execution_count": null,
      "outputs": [
        {
          "output_type": "execute_result",
          "data": {
            "text/plain": [
              "[9, 16, 9, 16, 9]"
            ]
          },
          "metadata": {},
          "execution_count": 92
        }
      ]
    },
    {
      "cell_type": "code",
      "source": [
        "def get_length(name):\n",
        "    return len(name)\n",
        "\n",
        "def we_like(name):\n",
        "    return name != 'Bar'\n",
        "\n",
        "def get_sum(nums):\n",
        "    total = 0\n",
        "    for n in nums:\n",
        "        total += n\n",
        "    return total\n",
        "\n",
        "names = ['Foo','Bar','Baz','Bar','Baz', \"CodeOp\", \"Bar\"]\n",
        "\n",
        "lengths = [get_length(n) for n in names if we_like(n)] # [3,3,3]\n",
        "\n",
        "total_length = get_sum(lengths) # [3,3,3]  1-> 0+3 , 2-> 3+3, 3-> 6+3, result = 9\n",
        "\n",
        "print(total_length)"
      ],
      "metadata": {
        "colab": {
          "base_uri": "https://localhost:8080/"
        },
        "id": "AxuyQx33LnqH",
        "outputId": "e98fcb21-6c33-4a6e-807a-bc50c5ed2189"
      },
      "execution_count": null,
      "outputs": [
        {
          "output_type": "stream",
          "name": "stdout",
          "text": [
            "15\n"
          ]
        }
      ]
    },
    {
      "cell_type": "code",
      "source": [],
      "metadata": {
        "id": "HSq8EfzTMVoM"
      },
      "execution_count": null,
      "outputs": []
    }
  ],
  "metadata": {
    "kernelspec": {
      "display_name": "Python 3",
      "language": "python",
      "name": "python3"
    },
    "language_info": {
      "codemirror_mode": {
        "name": "ipython",
        "version": 3
      },
      "file_extension": ".py",
      "mimetype": "text/x-python",
      "name": "python",
      "nbconvert_exporter": "python",
      "pygments_lexer": "ipython3",
      "version": "3.7.3"
    },
    "colab": {
      "provenance": []
    }
  },
  "nbformat": 4,
  "nbformat_minor": 0
}