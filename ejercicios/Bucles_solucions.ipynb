{
 "cells": [
  {
   "cell_type": "markdown",
   "metadata": {},
   "source": [
    "# Bucles"
   ]
  },
  {
   "cell_type": "markdown",
   "metadata": {},
   "source": [
    "#### only_adults\n",
    "Escriu una funció \"nomes_adults\" que\n",
    "pren com a entrada una llista de números i\n",
    "només retorna els números >= 18"
   ]
  },
  {
   "cell_type": "code",
   "execution_count": 21,
   "metadata": {},
   "outputs": [
    {
     "name": "stdout",
     "output_type": "stream",
     "text": [
      "nomes_adults_1\n",
      "[20, 32, 12, 2, 98, 40, 16, 8] -> [20, 32, 98, 40]\n",
      "nomes_adults_2\n",
      "[20, 32, 12, 2, 98, 40, 16, 8] -> [20, 32, 98, 40]\n"
     ]
    }
   ],
   "source": [
    "list_of_people = [20, 32, 12, 2, 98, 40, 16, 8]\n",
    "\n",
    "def nomes_adults_1(some_people):\n",
    "    return [person for person in some_people if person >= 18]\n",
    "\n",
    "def nomes_adults_2(some_people):\n",
    "    return list(filter(lambda person: person >= 18, some_people))\n",
    "\n",
    "print(\"nomes_adults_1\")\n",
    "print(list_of_people, '->', nomes_adults_1(list_of_people))\n",
    "print(\"nomes_adults_2\")\n",
    "print(list_of_people, '->', nomes_adults_2(list_of_people))"
   ]
  },
  {
   "cell_type": "markdown",
   "metadata": {},
   "source": [
    "----"
   ]
  },
  {
   "cell_type": "markdown",
   "metadata": {},
   "source": [
    "#### agafa_nomes_adults\n",
    "Escriu una funció \"agafa_nomes_adults\" que\n",
    "té com a entrada una llista de números i\n",
    "només retorna els números >= 18\n",
    "i elimina qualsevol valor de None de la llista"
   ]
  },
  {
   "cell_type": "code",
   "execution_count": 10,
   "metadata": {},
   "outputs": [
    {
     "name": "stdout",
     "output_type": "stream",
     "text": [
      "agafa_nomes_adults_1\n",
      "[20, 32, None, 12, 2, None, None, 98, 40, 16, None, 8] -> [20, 32, 98, 40]\n",
      "agafa_nomes_adults_2\n",
      "[20, 32, None, 12, 2, None, None, 98, 40, 16, None, 8] -> [20, 32, 98, 40]\n"
     ]
    }
   ],
   "source": [
    "list_of_people = [20, 32, None, 12, 2, None, None, 98, 40, 16, None, 8]\n",
    "\n",
    "def agafa_nomes_adults_1(people_list):\n",
    "    return [person for person in people_list if person is not None and person >= 18]\n",
    "    \n",
    "def agafa_nomes_adults_2(people_list):\n",
    "    return list(filter(lambda person: person is not None and person >= 18, people_list))\n",
    "\n",
    "print(\"agafa_nomes_adults_1\")\n",
    "print(list_of_people, '->', agafa_nomes_adults_1(list_of_people))\n",
    "print(\"agafa_nomes_adults_2\")\n",
    "print(list_of_people, '->', agafa_nomes_adults_2(list_of_people))"
   ]
  },
  {
   "cell_type": "markdown",
   "metadata": {},
   "source": [
    "----"
   ]
  },
  {
   "cell_type": "markdown",
   "metadata": {},
   "source": [
    "#### son_tots_adults\n",
    "Escriu una funció \"son_tots_adults\" que\n",
    "té com a entrada una llista de números\n",
    "i retorna True si tots són >= 18,\n",
    "i retorna False en cas contrari\n",
    "\n",
    "És un map, un filter o un reduce?"
   ]
  },
  {
   "cell_type": "code",
   "execution_count": 77,
   "metadata": {},
   "outputs": [
    {
     "name": "stdout",
     "output_type": "stream",
     "text": [
      "son_tots_adults_1\n",
      "[20, 32, 12, 2, 98, 40, 16, 8] -> False\n",
      "[20, 32, 19, 22, 98, 40, 116, 80] -> True\n",
      "\n",
      "son_tots_adults_2\n",
      "[20, 32, 12, 2, 98, 40, 16, 8] -> False\n",
      "[20, 32, 19, 22, 98, 40, 116, 80] -> True\n",
      "\n",
      "son_tots_adults_3\n",
      "[20, 32, 12, 2, 98, 40, 16, 8] -> False\n",
      "[20, 32, 19, 22, 98, 40, 116, 80] -> True\n",
      "\n",
      "son_tots_adults_4\n",
      "[20, 32, 12, 2, 98, 40, 16, 8] -> False\n",
      "[20, 32, 19, 22, 98, 40, 116, 80] -> True\n"
     ]
    }
   ],
   "source": [
    "from functools import reduce\n",
    "\n",
    "list_of_people_1 = [20, 32, 12, 2, 98, 40, 16, 8]\n",
    "list_of_people_2 = [20, 32, 19, 22, 98, 40, 116, 80]\n",
    "\n",
    "def son_tots_adults_1(people_list):\n",
    "    return all([person >= 18 for person in people_list])\n",
    "\n",
    "def son_tots_adults_2(people_list):\n",
    "    return all(map(lambda person: person >= 18, people_list))\n",
    "\n",
    "def son_tots_adults_3(people_list):\n",
    "    return bool(reduce(lambda x,y: x*y, map(lambda person: person >= 18, people_list)))\n",
    "\n",
    "def son_tots_adults_4(people_list):\n",
    "    return bool(reduce(lambda x,y: (x>=18)*(y>=18)*18, people_list))\n",
    "\n",
    "print(\"son_tots_adults_1\")\n",
    "print(list_of_people_1, '->', son_tots_adults_1(list_of_people_1))\n",
    "print(list_of_people_2, '->', son_tots_adults_1(list_of_people_2))\n",
    "print()\n",
    "print(\"son_tots_adults_2\")\n",
    "print(list_of_people_1, '->', son_tots_adults_2(list_of_people_1))\n",
    "print(list_of_people_2, '->', son_tots_adults_2(list_of_people_2))\n",
    "print()\n",
    "print(\"son_tots_adults_3\")\n",
    "print(list_of_people_1, '->', son_tots_adults_3(list_of_people_1))\n",
    "print(list_of_people_2, '->', son_tots_adults_3(list_of_people_2))\n",
    "print()\n",
    "print(\"son_tots_adults_4\")\n",
    "print(list_of_people_1, '->', son_tots_adults_4(list_of_people_1))\n",
    "print(list_of_people_2, '->', son_tots_adults_4(list_of_people_2))"
   ]
  },
  {
   "cell_type": "markdown",
   "metadata": {},
   "source": [
    "----"
   ]
  },
  {
   "cell_type": "markdown",
   "metadata": {},
   "source": [
    "#### comptar_nones\n",
    "Escriu una funció \"comptar_nones\" que\n",
    "té com a entrada una llista de qualsevol tipus d'element\n",
    "i retorna un recompte de quants d'aquests\n",
    "els elements són de tipus None.\n",
    "\n",
    "És un map, un filter o un reduce?"
   ]
  },
  {
   "cell_type": "code",
   "execution_count": 79,
   "metadata": {},
   "outputs": [
    {
     "name": "stdout",
     "output_type": "stream",
     "text": [
      "comptar_nones_1\n",
      "[1, 2, 'hi', None, True, None, None, 1, 'hola', False, None] -> 4\n",
      "\n",
      "comptar_nones_2\n",
      "[1, 2, 'hi', None, True, None, None, 1, 'hola', False, None] -> 4\n",
      "\n",
      "comptar_nones_3\n",
      "[1, 2, 'hi', None, True, None, None, 1, 'hola', False, None] -> 4\n",
      "\n",
      "comptar_nones_4\n",
      "[1, 2, 'hi', None, True, None, None, 1, 'hola', False, None] -> 4\n",
      "\n",
      "comptar_nones_5\n",
      "[1, 2, 'hi', None, True, None, None, 1, 'hola', False, None] -> 4\n",
      "\n",
      "comptar_nones_6\n",
      "[1, 2, 'hi', None, True, None, None, 1, 'hola', False, None] -> 4\n"
     ]
    }
   ],
   "source": [
    "list_with_nones = [1, 2, 'hi', None, True, None, None, 1, 'hola', False, None]\n",
    "\n",
    "def comptar_nones_1(some_list):\n",
    "    return len([element for element in some_list if element is None])\n",
    "\n",
    "def comptar_nones_2(some_list):\n",
    "    return len(list(filter(lambda element: element is None, some_list)))\n",
    "\n",
    "def comptar_nones_3(some_list):\n",
    "    return reduce(lambda x,y: x+y, map(lambda element: element is None, some_list))\n",
    "\n",
    "def comptar_nones_4(some_list):\n",
    "    return sum([element is None for element in some_list])\n",
    "\n",
    "def comptar_nones_5(some_list):\n",
    "    return sum(map(lambda element: element is None, some_list))\n",
    "\n",
    "def comptar_nones_6(some_list):\n",
    "    return some_list.count(None)\n",
    "\n",
    "print(\"comptar_nones_1\")\n",
    "print(list_with_nones, \"->\", comptar_nones_1(list_with_nones))\n",
    "print()\n",
    "print(\"comptar_nones_2\")\n",
    "print(list_with_nones, \"->\", comptar_nones_2(list_with_nones))\n",
    "print()\n",
    "print(\"comptar_nones_3\")\n",
    "print(list_with_nones, \"->\", comptar_nones_3(list_with_nones))\n",
    "print()\n",
    "print(\"comptar_nones_4\")\n",
    "print(list_with_nones, \"->\", comptar_nones_4(list_with_nones))\n",
    "print()\n",
    "print(\"comptar_nones_5\")\n",
    "print(list_with_nones, \"->\", comptar_nones_5(list_with_nones))\n",
    "print()\n",
    "print(\"comptar_nones_6\")\n",
    "print(list_with_nones, \"->\", comptar_nones_6(list_with_nones))"
   ]
  },
  {
   "cell_type": "markdown",
   "metadata": {},
   "source": [
    "----"
   ]
  },
  {
   "cell_type": "markdown",
   "metadata": {},
   "source": [
    "#### paraula_mes_llarga\n",
    "Escriu una funció \"paraula_mes_llarga\" que\n",
    "té com a entrada una llista de strings\n",
    "i retorna el string més llarg del fitxer\n",
    "llista.\n",
    "Consell: haureu d'utilitzar dos \"acumuladors\""
   ]
  },
  {
   "cell_type": "code",
   "execution_count": 93,
   "metadata": {},
   "outputs": [
    {
     "name": "stdout",
     "output_type": "stream",
     "text": [
      "paraula_mes_llarga_1\n",
      "['sumstring', 'aaa', 'Hasbulla', 'queno', 'Mitochondria', 'llapis', 'oh'] -> Mitochondria\n",
      "\n",
      "paraula_mes_llarga_2\n",
      "['sumstring', 'aaa', 'Hasbulla', 'queno', 'Mitochondria', 'llapis', 'oh'] -> Mitochondria\n",
      "\n",
      "paraula_mes_llarga_3\n",
      "['sumstring', 'aaa', 'Hasbulla', 'queno', 'Mitochondria', 'llapis', 'oh'] -> Mitochondria\n"
     ]
    }
   ],
   "source": [
    "my_list_of_strings = ['sumstring', 'aaa', 'Hasbulla', 'queno', 'Mitochondria', 'llapis', 'oh']\n",
    "\n",
    "def paraula_mes_llarga_1(list_of_strings):\n",
    "    longest_word = list_of_strings[0]\n",
    "    for word in list_of_strings[1:]:\n",
    "        if len(word) > len(longest_word):\n",
    "            longest_word = word\n",
    "    return longest_word\n",
    "\n",
    "def paraula_mes_llarga_2(list_of_strings):\n",
    "    return reduce(lambda x,y: x if len(x) > len(y) else y, list_of_strings)\n",
    "\n",
    "def paraula_mes_llarga_3(list_of_strings):\n",
    "    return max(list_of_strings, key=len)\n",
    "\n",
    "print(\"paraula_mes_llarga_1\")\n",
    "print(my_list_of_strings, \"->\", paraula_mes_llarga_1(my_list_of_strings))\n",
    "print()\n",
    "print(\"paraula_mes_llarga_2\")\n",
    "print(my_list_of_strings, \"->\", paraula_mes_llarga_2(my_list_of_strings))\n",
    "print()\n",
    "print(\"paraula_mes_llarga_3\")\n",
    "print(my_list_of_strings, \"->\", paraula_mes_llarga_3(my_list_of_strings))"
   ]
  },
  {
   "cell_type": "markdown",
   "metadata": {},
   "source": [
    "#### factorial\n",
    "Escriu una funció \"factorial\"\n",
    "\n",
    "Agafa un nombre i retorna el\n",
    "factorial d'aquest nombre.\n",
    "\n",
    "El factorial de n és el producte de tot\n",
    "nombres enters positius menors o iguals a n\n",
    "\n",
    "CONSELL: utilitzeu rang()\n",
    "https://docs.python.org/3/library/stdtypes.html#typesseq-range\n",
    "\n",
    "range(n) produeix un iterable de longitud n:\n",
    "[0,1,2,...,n-1]"
   ]
  },
  {
   "cell_type": "code",
   "execution_count": 108,
   "metadata": {},
   "outputs": [
    {
     "name": "stdout",
     "output_type": "stream",
     "text": [
      "factorial_1\n",
      "0 -> 1\n",
      "\n",
      "factorial_2\n",
      "0 -> 1\n",
      "\n",
      "factorial_3\n",
      "0 -> 1\n"
     ]
    }
   ],
   "source": [
    "num = 0\n",
    "\n",
    "def factorial_1(n):\n",
    "    total = 1\n",
    "    for i in range(2, n+1):\n",
    "        total *= i\n",
    "    return total\n",
    "\n",
    "def factorial_2(n):\n",
    "    return reduce(lambda x,y: x*y, range(1,n+1), 1)\n",
    "\n",
    "def factorial_3(n):\n",
    "    if n < 2:\n",
    "        return 1\n",
    "    return n * factorial_3(n-1)\n",
    "\n",
    "print(\"factorial_1\")\n",
    "print(num, \"->\", factorial_1(num))\n",
    "print()\n",
    "print(\"factorial_2\")\n",
    "print(num, \"->\", factorial_2(num))\n",
    "print()\n",
    "print(\"factorial_3\")\n",
    "print(num, \"->\", factorial_3(num))"
   ]
  },
  {
   "cell_type": "markdown",
   "metadata": {},
   "source": [
    "#### n_nombre_mes_alt\n",
    "Escriu una funció \"n_nombre_mes_alt\"\n",
    "amb dos paràmetres:\n",
    "1. una llista de nombres\n",
    "2. un integer\n",
    "\n",
    "\"n_nombre_mes_alt\" hauria de retornar l'enèsim\n",
    "nombre més alt de la llista, on n és el\n",
    "segon paràmetre de la funció.\n",
    "\n",
    "Suposem\n",
    "que els números seran únics (sense duplicats).\n",
    "Suposem també que n <= el nombre d'elements\n",
    "a la llista.\n",
    "\n",
    "NOTA: Utilitzeu només les operacions i funcions\n",
    "hem après fins ara! Sense trampes!\n",
    "\n",
    "CONSELL: es pot reutilitzar alguna cosa de l'anterior\n",
    "exercici? Això pot funcionar o no, segons\n",
    "com l'has implementat.\n",
    "\n",
    "CONSELL CONSELL: utilitzeu la funció \"rang\"!"
   ]
  },
  {
   "cell_type": "code",
   "execution_count": 109,
   "metadata": {},
   "outputs": [
    {
     "name": "stdout",
     "output_type": "stream",
     "text": [
      "n_nombre_mes_alt_1\n",
      "[213, 21, -12, 11, -9, 71, 8, 68, -113, 4, 53], 3 -> 68\n",
      "\n",
      "n_nombre_mes_alt_2\n",
      "[213, 21, -12, 11, -9, 71, 8, 68, -113, 4, 53], 3 -> 68\n",
      "\n",
      "n_nombre_mes_alt_3\n",
      "[213, 21, -12, 11, -9, 71, 8, 68, -113, 4, 53], 3 -> 68\n",
      "\n"
     ]
    }
   ],
   "source": [
    "llista_de_nombres = [213, 21, -12, 11, -9, 71, 8, 68, -113, 4, 53]\n",
    "n_highest_num = 3\n",
    "\n",
    "def n_nombre_mes_alt_1(list_of_num, n):\n",
    "    for num in range(n):\n",
    "        largest_num = list_of_num[0]\n",
    "        for element in list_of_num:\n",
    "            if element > largest_num:\n",
    "                largest_num = element\n",
    "        list_of_num.remove(largest_num)\n",
    "    return largest_num\n",
    "\n",
    "def n_nombre_mes_alt_2(list_of_num, n):\n",
    "    for num in range(n-1):\n",
    "        list_of_num.remove(max(list_of_num))\n",
    "    return max(list_of_num)\n",
    "\n",
    "def n_nombre_mes_alt_3(list_of_num, n):\n",
    "    list_of_num.sort()\n",
    "    return list_of_num[-n]\n",
    "\n",
    "\n",
    "print(\"n_nombre_mes_alt_1\")\n",
    "print(f\"{llista_de_nombres},\", n_highest_num, \"->\", n_nombre_mes_alt_1(llista_de_nombres, n_highest_num))\n",
    "print()\n",
    "\n",
    "llista_de_nombres = [213, 21, -12, 11, -9, 71, 8, 68, -113, 4, 53]\n",
    "\n",
    "print(\"n_nombre_mes_alt_2\")\n",
    "print(f\"{llista_de_nombres},\", n_highest_num, \"->\", n_nombre_mes_alt_2(llista_de_nombres, n_highest_num))\n",
    "print()\n",
    "\n",
    "llista_de_nombres = [213, 21, -12, 11, -9, 71, 8, 68, -113, 4, 53]\n",
    "\n",
    "print(\"n_nombre_mes_alt_3\")\n",
    "print(f\"{llista_de_nombres},\", n_highest_num, \"->\", n_nombre_mes_alt_3(llista_de_nombres, n_highest_num))\n",
    "print()\n"
   ]
  }
 ],
 "metadata": {
  "kernelspec": {
   "display_name": "Python 3",
   "language": "python",
   "name": "python3"
  },
  "language_info": {
   "codemirror_mode": {
    "name": "ipython",
    "version": 3
   },
   "file_extension": ".py",
   "mimetype": "text/x-python",
   "name": "python",
   "nbconvert_exporter": "python",
   "pygments_lexer": "ipython3",
   "version": "3.7.6"
  }
 },
 "nbformat": 4,
 "nbformat_minor": 4
}
