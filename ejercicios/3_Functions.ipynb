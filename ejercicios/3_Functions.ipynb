{
  "cells": [
    {
      "cell_type": "markdown",
      "metadata": {
        "id": "97oi9-j09vgj"
      },
      "source": [
        "# Introducció a Python - Exercicis"
      ]
    },
    {
      "cell_type": "markdown",
      "metadata": {
        "id": "tojlAwkm9vha"
      },
      "source": [
        "## 3. Functions"
      ]
    },
    {
      "cell_type": "markdown",
      "metadata": {
        "id": "rqOooWF99vha"
      },
      "source": [
        "Fins a aquest punt, ja hem introduït algunes \"funcions\" bàsiques, com ara `print ()` i `int ()`. En aquesta secció es parlarà de les funcions una mica més en profunditat i us ensenyarem a crear les vostres pròpies funcions.\n",
        "\n",
        "Una funció és un bloc de codi reutilitzable que realitza alguna acció. Per aconseguir que una funció faci la seva feina, la crideu amb alguns paràmetres adequats en el cas que la funció els requereixi. \n",
        "\n",
        "La idea és que no cal tenir coneixements sobre <i> com </i> una funció realitza la seva acció. Només has de saber tres coses:\n",
        "\n",
        "- El nom de la funció\n",
        "- Els paràmetres que necessita (si n'hi ha)\n",
        "- El valor que retorna (si n'hi ha)\n",
        "\n",
        "Ara es parlaran d'aquests per torn."
      ]
    },
    {
      "cell_type": "markdown",
      "metadata": {
        "id": "1_Xx4Vyr9vhb"
      },
      "source": [
        "### Nom de la funció"
      ]
    },
    {
      "cell_type": "markdown",
      "metadata": {
        "id": "PmC-pgas9vhb"
      },
      "source": [
        "Cada funció té un nom. Igual que un nom de variable, el nom d'una funció pot constar de lletres, dígits i guions baixos, i no pot començar amb un dígit. Gairebé totes les funcions estàndard de Python consisteixen només en lletres minúscules. Normalment un nom de funció expressa de manera concisa el que fa la funció.\n",
        "\n",
        "Quan es refereix a una funció, és convenció utilitzar el nom i posar un parèntesis d'obertura i tancament després del nom (per exemple `print()`), ja que les funcions sempre s'anomenen en codi amb aquests parèntesis."
      ]
    },
    {
      "cell_type": "markdown",
      "metadata": {
        "id": "DsmOAaHk9vhb"
      },
      "source": [
        "### Paràmetres"
      ]
    },
    {
      "cell_type": "markdown",
      "metadata": {
        "id": "gBkgDybs9vhb"
      },
      "source": [
        "Algunes funcions es criden amb paràmetres (\"arguments\"), que poden ser obligatoris o no. Els paràmetres es col·loquen entre els parèntesis que segueixen el nom de la funció. Si hi ha diversos paràmetres, poseu comes entre ells.\n",
        "\n",
        "Els paràmetres són els valors que l'usuari proporciona a la funció amb la qual treballar. Per exemple, la funció `int()` s'ha de cridar amb un paràmetre, que és el valor que la funció intentarà convertir en un nombre enter. La funció `print()` es pot cridar amb qualsevol nombre de paràmetres (fins i tot zero), que es mostrarà, després del qual anirà a una nova línia:"
      ]
    },
    {
      "cell_type": "code",
      "execution_count": null,
      "metadata": {
        "colab": {
          "base_uri": "https://localhost:8080/"
        },
        "id": "mABkBYhs9vhb",
        "outputId": "0d38ee01-ed44-452d-e745-b118ddffac79"
      },
      "outputs": [
        {
          "name": "stdout",
          "output_type": "stream",
          "text": [
            "5\n",
            "10\n",
            "parameter1 parameter2\n"
          ]
        }
      ],
      "source": [
        "print(5)\n",
        "print(5*2)\n",
        "print(\"parameter1\", \"parameter2\")"
      ]
    },
    {
      "cell_type": "markdown",
      "metadata": {
        "id": "U0xrqiJ09vhb"
      },
      "source": [
        "En general, una funció no pot canviar els paràmetres. Per exemple, mireu el codi següent:"
      ]
    },
    {
      "cell_type": "code",
      "execution_count": null,
      "metadata": {
        "colab": {
          "base_uri": "https://localhost:8080/"
        },
        "id": "crOjQNPv9vhb",
        "outputId": "beea2826-734f-41b1-d1fa-50aed9319e43"
      },
      "outputs": [
        {
          "name": "stdout",
          "output_type": "stream",
          "text": [
            "1\n",
            "1.56\n"
          ]
        }
      ],
      "source": [
        "x = 1.56\n",
        "print(int(x))\n",
        "print(x)"
      ]
    },
    {
      "cell_type": "markdown",
      "metadata": {
        "id": "WdTmP0C59vhb"
      },
      "source": [
        "Com podeu veure quan executeu aquest codi, la funció `int()` no ha canviat el valor real de `x`; només va dir a la funció `print()` quin és el valor enter de `x`. El motiu és que, en general, els paràmetres es \"passen per valor\". Això vol dir que la funció no té accés als paràmetres reals, sinó que obté còpies dels valors dels paràmetres. Dic \"en general\" perquè no tots els tipus de dades es \"passen per valor\", però les que hem comentat fins ara sí. Passarà un temps abans d'arribar a un capítol que introdueixi tipus de dades que es poden canviar per funcions quan es passen com a paràmetres, i deixarem clar com funciona això quan surti.\n",
        "\n",
        "Si una funció obté diversos paràmetres, el seu ordre és important. Per exemple, la funció `pow()` obté dos paràmetres i eleva el primer a la potència del segon."
      ]
    },
    {
      "cell_type": "code",
      "execution_count": null,
      "metadata": {
        "colab": {
          "base_uri": "https://localhost:8080/"
        },
        "id": "IwdhDvW69vhb",
        "outputId": "173e5b34-a74a-4de9-ebad-755a08a80b0b"
      },
      "outputs": [
        {
          "name": "stdout",
          "output_type": "stream",
          "text": [
            "8\n"
          ]
        }
      ],
      "source": [
        "base = 2\n",
        "exponent = 3\n",
        "\n",
        "print(pow(base, exponent))"
      ]
    },
    {
      "cell_type": "markdown",
      "metadata": {
        "id": "j7MaJjdJ9vhb"
      },
      "source": [
        "No importen els noms de les variables que s'utilitzen com a paràmetres, la primera s'eleva a la potència de la segona. Així, l'exemple següent donarà un resultat diferent del primer, ja que les mateixes variables es donen a la funció en un ordre diferent (més aviat confús)."
      ]
    },
    {
      "cell_type": "code",
      "execution_count": null,
      "metadata": {
        "colab": {
          "base_uri": "https://localhost:8080/"
        },
        "id": "O-mlP4kI9vhb",
        "outputId": "92ec2875-fc69-446b-f79c-9f4b0986e7d3"
      },
      "outputs": [
        {
          "name": "stdout",
          "output_type": "stream",
          "text": [
            "9\n"
          ]
        }
      ],
      "source": [
        "base = 2\n",
        "exponent = 3\n",
        "print( pow( exponent, base ) ) # confusing use of variables "
      ]
    },
    {
      "cell_type": "markdown",
      "metadata": {
        "id": "SGw2zdvY9vhc"
      },
      "source": [
        "Què passa si intenteu cridar una funció amb paràmetres amb els quals no pot funcionar? Per exemple, què passa si anomenem la funció `int()` amb una cadena que no conté un valor enter, o la funció `pow()` amb cadenes en lloc de números? En general, això provocarà errors d'execució al vostre codi. Per exemple, ambdues línies del codi a continuació donen un error d'execució."
      ]
    },
    {
      "cell_type": "code",
      "execution_count": null,
      "metadata": {
        "colab": {
          "base_uri": "https://localhost:8080/",
          "height": 221
        },
        "id": "k2vSregH9vhc",
        "outputId": "064e10ca-d295-4476-e1d7-de6ac4043b39"
      },
      "outputs": [
        {
          "ename": "ValueError",
          "evalue": "ignored",
          "output_type": "error",
          "traceback": [
            "\u001b[0;31m---------------------------------------------------------------------------\u001b[0m",
            "\u001b[0;31mValueError\u001b[0m                                Traceback (most recent call last)",
            "\u001b[0;32m<ipython-input-8-cd21f5d8b03f>\u001b[0m in \u001b[0;36m<module>\u001b[0;34m()\u001b[0m\n\u001b[1;32m      1\u001b[0m \u001b[0;31m# x = pow(3, \"two\")\u001b[0m\u001b[0;34m\u001b[0m\u001b[0;34m\u001b[0m\u001b[0;34m\u001b[0m\u001b[0m\n\u001b[1;32m      2\u001b[0m \u001b[0;31m# print(x)\u001b[0m\u001b[0;34m\u001b[0m\u001b[0;34m\u001b[0m\u001b[0;34m\u001b[0m\u001b[0m\n\u001b[0;32m----> 3\u001b[0;31m \u001b[0my\u001b[0m \u001b[0;34m=\u001b[0m \u001b[0mint\u001b[0m\u001b[0;34m(\u001b[0m\u001b[0;34m\"2.5\"\u001b[0m\u001b[0;34m)\u001b[0m\u001b[0;34m\u001b[0m\u001b[0;34m\u001b[0m\u001b[0m\n\u001b[0m\u001b[1;32m      4\u001b[0m \u001b[0mprint\u001b[0m\u001b[0;34m(\u001b[0m\u001b[0my\u001b[0m\u001b[0;34m)\u001b[0m\u001b[0;34m\u001b[0m\u001b[0;34m\u001b[0m\u001b[0m\n",
            "\u001b[0;31mValueError\u001b[0m: invalid literal for int() with base 10: '2.5'"
          ]
        }
      ],
      "source": [
        "x = pow(3, \"two\")\n",
        "print(x)\n",
        "y = int(\"2.5\")\n",
        "print(y)"
      ]
    },
    {
      "cell_type": "markdown",
      "metadata": {
        "id": "I60IABDg9vhc"
      },
      "source": [
        "### Retornant un valor"
      ]
    },
    {
      "cell_type": "markdown",
      "metadata": {
        "id": "CoP089CE9vhc"
      },
      "source": [
        "Una funció pot \"retornar\" un valor o no. Si una funció retorna un valor, aquest valor es pot utilitzar al vostre codi. Per exemple, la funció `int ()` retorna una representació entera del paràmetre que rep. Podeu col·locar aquest valor de retorn en una variable, mitjançant una assignació, o utilitzar-lo d'una manera diferent, per exemple, imprimir-lo immediatament. Fins i tot no podeu fer res amb ell, encara que hi ha poques raons per cridar la funció en aquest cas."
      ]
    },
    {
      "cell_type": "code",
      "execution_count": null,
      "metadata": {
        "colab": {
          "base_uri": "https://localhost:8080/"
        },
        "id": "noXgPSuL9vhc",
        "outputId": "f5dc7d46-6be2-4a18-b5c6-8b5f892df075"
      },
      "outputs": [
        {
          "name": "stdout",
          "output_type": "stream",
          "text": [
            "2\n",
            "3\n",
            "2.1\n"
          ]
        }
      ],
      "source": [
        "x = 2.1\n",
        "y = '3'\n",
        "z = int(x)\n",
        "print(z)\n",
        "print(int(y))\n",
        "print(x)"
      ]
    },
    {
      "cell_type": "markdown",
      "metadata": {
        "id": "M_CoPimu9vhc"
      },
      "source": [
        "Com podeu veure a l'exemple anterior, fins i tot podeu utilitzar les crides de funció com a paràmetres d'una funció; Per exemple, la segona crida a la funció `print()` de l'exemple rep com a paràmetre una crida a la funció `int()`. En aquest exemple, la crida a la funció `int()` s'executa abans de cridar la funció `print()`, ja que Python calcula primer els valors de tots els paràmetres abans de fer una crida de funció.\n",
        "\n",
        "No totes les funcions retornen un valor. Per exemple, la funció `print()` no. Si no aneu amb compte, això pot provocar un comportament estrany del vostre programa. Per exemple, examineu i executeu el codi següent:"
      ]
    },
    {
      "cell_type": "code",
      "execution_count": null,
      "metadata": {
        "colab": {
          "base_uri": "https://localhost:8080/"
        },
        "id": "v_4eq6V09vhc",
        "outputId": "2131baff-2830-425c-f8e1-6f2c5048a915"
      },
      "outputs": [
        {
          "name": "stdout",
          "output_type": "stream",
          "text": [
            "Hello, world!\n",
            "None\n"
          ]
        }
      ],
      "source": [
        "print(print(\"Hello, world!\"))"
      ]
    },
    {
      "cell_type": "code",
      "execution_count": null,
      "metadata": {
        "colab": {
          "base_uri": "https://localhost:8080/"
        },
        "id": "6dATmozIXWXh",
        "outputId": "3d70d0bb-bda5-4204-ea44-16b23ad3aeb9"
      },
      "outputs": [
        {
          "name": "stdout",
          "output_type": "stream",
          "text": [
            "Hello, world!\n",
            "None\n"
          ]
        }
      ],
      "source": [
        "x = print(\"Hello, world!\")\n",
        "\n",
        "print(x)"
      ]
    },
    {
      "cell_type": "markdown",
      "metadata": {
        "id": "lQ-KYnc09vhc"
      },
      "source": [
        "Podeu veure que aquest codi imprimeix dues línies, la primera conté el text \"Hello, world!\", i la segona la paraula \"None\". Què hi fa aquell \"None\" allà? Per esbrinar-ho, examinem com avalua Python aquesta afirmació.\n",
        "\n",
        "Quan Python troba aquesta declaració per primera vegada, veu `print( <alguna cosa> )`. Com que \"<alguna cosa>\" és un argument, comença per avaluar-ho. `<alguna cosa>` és en realitat `print( <alguna altra cosa>)`. Com que `<alguna altra cosa>` és un argument, ara ho avalua. `<alguna altra cosa>` és la cadena `\"Hola, món!\"`. Això no és una cosa que s'hagi d'avaluar, de manera que crida a `print()` amb aquesta cadena com a argument i \"captura\" el valor de retorn de `print()` perquè el necessita com a avaluació de `<alguna cosa>` .\n",
        "\n",
        "Aquí hi ha el quid: `print()` *no*  té cap valor de retorn, així que no hi ha res que Python pugui utilitzar per a `<alguna cosa>`. Per a situacions com aquesta, Python té un valor especial anomenat \"None\". Així que el primer `print()` es crida amb `None` com a argument, i això fa que Python mostri la paraula \"None\".\n",
        "\n",
        "`None` és un valor especial que indica \"cap valor\". Si intenteu imprimir aquest valor, Python imprimeix la paraula \"None\", però en realitat no imprimeix una cadena que sigui `None`. Només indica que no hi havia res per imprimir. `None` és diferent, per exemple, d'una cadena buida (`\"\"`). Una cadena buida segueix sent un valor, és a dir, una cadena de longitud zero. `None` no és cap cadena, cap enter, cap flotant, res. Així que aneu amb compte quan intenteu utilitzar una trucada de funció com a paràmetre; si la funció en realitat no retorna un valor, poden passar coses estranyes."
      ]
    },
    {
      "cell_type": "markdown",
      "metadata": {
        "id": "kxKOMcUU9vhd"
      },
      "source": [
        "### Una funció és una caixa negra"
      ]
    },
    {
      "cell_type": "markdown",
      "metadata": {
        "id": "txBC5lTp9vhd"
      },
      "source": [
        "Recalquem una vegada més que podeu considerar una funció com una \"caixa negra\": no necessiteu saber <i>com</i> la funció ni <i>com</i> s'implementa. El nom, els paràmetres i el valor de retorn són tot el que necessiteu saber. La funció pot, internament, crear variables i fer càlculs, però no tenen efecte sobre la resta del vostre codi... almenys si la funció està ben implementada. Una funció que no té cap efecte en el vostre codi s'anomena \"**funció pura**\" i les funcions que parlem aquí són totes \"funcions pures\". Tanmateix, de vegades es dissenyen funcions que realment tenen un efecte fora de la funció (per exemple, l'usuari pot proporcionar paràmetres que pateixen un canvi). Això pot estar bé, si és intencionat i està ben documentat. Aquestes funcions s'anomenen \"**modificadors**\". \n",
        "\n",
        "De moment, només podeu suposar que qualsevol funció que utilitzeu no té cap efecte sobre la resta del vostre codi. Per tant, cridar una funció és segur."
      ]
    },
    {
      "cell_type": "markdown",
      "metadata": {
        "id": "R1X4qujt9vhd"
      },
      "source": [
        "### Creating functions"
      ]
    },
    {
      "cell_type": "markdown",
      "metadata": {
        "id": "e8BdEH6o9vhg"
      },
      "source": [
        "### Com tracta Python amb les funcions"
      ]
    },
    {
      "cell_type": "markdown",
      "metadata": {
        "id": "lapIX-YB9vhg"
      },
      "source": [
        "Per poder crear funcions, has de saber com tracta Python amb les funcions.\n",
        "\n",
        "Mireu el petit programa de Python a continuació. Defineix una funció, anomenada `goodbyeWorld()`. Aquesta funció no té paràmetres. El bloc de codi de la funció imprimeix la línia \"Goodbye, world!\"\n",
        "\n",
        "La resta del programa no forma part d'una funció. Sovint anomenem programa \"principal\" les parts d'un programa que no estan dins d'una funció. El programa principal imprimeix la línia \"Hola, món!\", i després crida a la funció `goodbyeWorld()`."
      ]
    },
    {
      "cell_type": "code",
      "execution_count": null,
      "metadata": {
        "colab": {
          "base_uri": "https://localhost:8080/"
        },
        "id": "B9gxLwzo9vhg",
        "outputId": "47584c34-e70e-4b5e-b72c-3ff7a66a4be4"
      },
      "outputs": [
        {
          "name": "stdout",
          "output_type": "stream",
          "text": [
            "Hello, world!\n",
            "Goodbye, world!\n"
          ]
        }
      ],
      "source": [
        "def goodbyeWorld():\n",
        "    print(\"Goodbye, world!\")\n",
        "\n",
        "print(\"Hello, world!\")\n",
        "goodbyeWorld()"
      ]
    },
    {
      "cell_type": "markdown",
      "metadata": {
        "id": "M_1AAi399vhh"
      },
      "source": [
        "Quan executeu aquest programa, veureu que primer imprimeix \"Hola, món!\", i després \"Adéu, món!\". Això passa *tot i que* Python processa el codi de dalt a baix, de manera que vegi la línia `print( \"Goodby, world!\" )` abans de veure la línia `print( \"Hello, world!\" )`. Això es deu al fet que Python no executa realment el codi dins de les funcions, almenys, no fins al moment en què es crida la funció. Python ni tan sols mira el codi a les funcions. Només s'adona del nom de la funció, registra que aquesta funció està definida perquè es pugui utilitzar i després continua buscant el programa principal per executar-se."
      ]
    },
    {
      "cell_type": "markdown",
      "metadata": {
        "id": "ypvtMNsM9vhh"
      },
      "source": [
        "### Parameters and arguments"
      ]
    },
    {
      "cell_type": "markdown",
      "metadata": {
        "id": "pepfvl269vhh"
      },
      "source": [
        "Examineu el codi a continuació. Defineix una funció `hello()` amb un paràmetre, que s'anomena `nom`. La funció utilitza la variable `nom` al bloc de codi. No hi ha assignació explícita del nom de la variable, existeix perquè és un paràmetre de la funció.\n",
        "\n",
        "Quan es crida una funció, heu de proporcionar un valor per a cada paràmetre (obligatori) definit per a la funció. Aquest valor s'anomena \"argument\". Per tant, per cridar la funció `hello()`, heu de proporcionar un argument per al paràmetre `nom`. Col·loqueu aquest argument entre els parèntesis de la crida de funció. Tingueu en compte que al vostre programa principal no necessiteu saber que aquest paràmetre s'anomena `nom`. El que es diu no té importància. L'únic que heu de saber és que hi ha un paràmetre que necessita un valor, i preferiblement quin tipus de valor espera la funció (és a dir, el que l'autor de la funció espera que proporcioneu)."
      ]
    },
    {
      "cell_type": "code",
      "execution_count": null,
      "metadata": {
        "colab": {
          "base_uri": "https://localhost:8080/"
        },
        "id": "8lE2YKTo9vhh",
        "outputId": "9d213969-ca48-4d5c-fdbe-feba49b4f67d"
      },
      "outputs": [
        {
          "name": "stdout",
          "output_type": "stream",
          "text": [
            "Hello, Adrian\n",
            "Hello, Binky\n",
            "Hello, Caroline\n",
            "Hello, Dante\n"
          ]
        }
      ],
      "source": [
        "def hello(name):\n",
        "    print(\"Hello, \"+ name) \n",
        "    \n",
        "hello(\"Adrian\")\n",
        "hello(\"Binky\")\n",
        "hello(\"Caroline\")\n",
        "hello(\"Dante\")"
      ]
    },
    {
      "cell_type": "markdown",
      "metadata": {
        "id": "f8D1VEu09vhh"
      },
      "source": [
        "Els paràmetres d'una funció són ni més ni menys que variables que podeu utilitzar a la funció i obtenir el seu valor des de fora de la funció (és a dir, mitjançant una crida de funció). Els paràmetres són \"locals\" a la funció, és a dir, no són accessibles fora del bloc de codi de la funció, ni influeixen en cap valor de variable fora de la funció.\n",
        "\n",
        "Les funcions poden tenir diversos paràmetres. Per exemple, la funció següent multiplica dos paràmetres i imprimeix el resultat:"
      ]
    },
    {
      "cell_type": "code",
      "execution_count": null,
      "metadata": {
        "colab": {
          "base_uri": "https://localhost:8080/"
        },
        "id": "JVVXoPci9vhh",
        "outputId": "bf4e6e96-5b39-4385-fd65-1a5e23883667"
      },
      "outputs": [
        {
          "data": {
            "text/plain": [
              "6"
            ]
          },
          "execution_count": 19,
          "metadata": {},
          "output_type": "execute_result"
        }
      ],
      "source": [
        "def multiply(x, y):\n",
        "    result = x * y\n",
        "    print(result)\n",
        "       \n",
        "multiply(2020, 5278238)\n",
        "multiply(2, 3)"
      ]
    },
    {
      "cell_type": "markdown",
      "metadata": {
        "id": "U9KP4esQ9vhh"
      },
      "source": [
        "### `return`"
      ]
    },
    {
      "cell_type": "markdown",
      "metadata": {
        "id": "WBSGF6os9vhh"
      },
      "source": [
        "Els paràmetres es poden utilitzar per comunicar informació des de fora d'una funció al bloc de codi de la funció. Sovint, també voleu que la funció comuniqui informació al programa que està fora de la funció. La paraula clau `return` ho aconsegueix.\n",
        "\n",
        "Quan utilitzeu l'ordre `return` en una funció, això finalitza el processament de la funció, i Python continuarà amb el codi que cal executar després de la crida a la funció. Podeu posar un o més valors o variables després de la instrucció `return`. Aquests valors, i els valors de les variables, es comuniquen al programa fora de la funció. Si voleu utilitzar-los fora de la funció, podeu posar-los en una variable quan assigneu la crida a la funció a aquesta variable.\n",
        "\n",
        "Si això sona una mica complicat, probablement quedarà clar després d'estudiar l'exemple següent:"
      ]
    },
    {
      "cell_type": "code",
      "execution_count": 3,
      "metadata": {
        "colab": {
          "base_uri": "https://localhost:8080/"
        },
        "id": "UOcui_Ip9vhh",
        "outputId": "d7b1036b-a83c-4d1a-df41-b8f41c5d1e34"
      },
      "outputs": [
        {
          "name": "stdout",
          "output_type": "stream",
          "text": [
            "9\n",
            "12\n",
            "6\n"
          ]
        }
      ],
      "source": [
        "def square(a):\n",
        "    return a*a \n",
        "\n",
        "c = square(3)\n",
        "print(c)\n",
        "\n",
        "# haciendo pruebas\n",
        "def funcion(b):\n",
        "    a = 2*3*b\n",
        "    return a\n",
        "\n",
        "print(funcion(2))\n",
        "c = funcion(1)\n",
        "print(c)\n"
      ]
    },
    {
      "cell_type": "markdown",
      "metadata": {
        "id": "Dffm0mfC9vhh"
      },
      "source": [
        "La funció `square()` calcula el quadrat del seu únic paràmetre. A continuació, retorna aquest valor, utilitzant la instrucció `return`. El programa principal \"capta\" el valor assignant-lo a la variable `c`, després imprimeix el contingut de `c`.\n",
        "\n",
        "Tingueu en compte que la instrucció `return` de l'exemple anterior té un càlcul complet amb ella. Aquest càlcul es fa a la funció, que dóna lloc a un valor. És el resultat del càlcul, és a dir, el valor, que es retorna al programa principal.\n",
        "\n",
        "Tingueu en compte que cada línia de codi de la funció que es produeixi immediatament després d'un `return` al mateix nivell de sagnat sempre s'ignorarà. Per exemple, a la funció:"
      ]
    },
    {
      "cell_type": "code",
      "execution_count": null,
      "metadata": {
        "colab": {
          "base_uri": "https://localhost:8080/"
        },
        "id": "PBZ_F0RA9vhi",
        "outputId": "1ed4b49e-856a-4605-a975-5c54ef7358e4"
      },
      "outputs": [
        {
          "name": "stdout",
          "output_type": "stream",
          "text": [
            "9\n"
          ]
        }
      ],
      "source": [
        "def square(a):\n",
        "    result =   a*a  \n",
        "    return result \n",
        "    print(\"This line will never be printed\")\n",
        "\n",
        "c = square(3)\n",
        "print(c)"
      ]
    },
    {
      "cell_type": "markdown",
      "metadata": {
        "id": "yk6ph4MI9vhi"
      },
      "source": [
        "La línia de sota `return a*a` indica clarament com d'inútil és."
      ]
    },
    {
      "cell_type": "markdown",
      "metadata": {
        "id": "Vx3xlzjY9vhi"
      },
      "source": [
        "### Diferència entre \"return\" i \"print\"."
      ]
    },
    {
      "cell_type": "markdown",
      "metadata": {
        "id": "7CQwjfJ49vhj"
      },
      "source": [
        "Molts estudiants ho passen malament amb la diferència entre una funció que retorna un valor i una funció que imprimeix un valor. Compareu les dues peces de codi següents:"
      ]
    },
    {
      "cell_type": "code",
      "execution_count": null,
      "metadata": {
        "id": "6ENNh3Bj9vhj",
        "outputId": "5549760e-c23a-42f7-a56b-9c5e18301dad"
      },
      "outputs": [
        {
          "name": "stdout",
          "output_type": "stream",
          "text": [
            "3\n"
          ]
        }
      ],
      "source": [
        "def print3():\n",
        "    print(3)\n",
        "print3()"
      ]
    },
    {
      "cell_type": "markdown",
      "metadata": {
        "id": "Y9h0RI2t9vhj"
      },
      "source": [
        "and:"
      ]
    },
    {
      "cell_type": "code",
      "execution_count": null,
      "metadata": {
        "id": "MuxiNPGj9vhj",
        "outputId": "29ea5624-77cf-4d70-e3e4-8c82f93059af"
      },
      "outputs": [
        {
          "name": "stdout",
          "output_type": "stream",
          "text": [
            "3\n"
          ]
        }
      ],
      "source": [
        "def return3():\n",
        "    return 3\n",
        "print(return3())"
      ]
    },
    {
      "cell_type": "markdown",
      "metadata": {
        "id": "jyQT_ilH9vhj"
      },
      "source": [
        "Tant la funció `print3()` com `return3()` s'anomenen en els seus codis respectius, i donen lloc a la impressió del valor 3. La diferència és que la impressió d'aquest valor en el cas de `print3()` es produeix a la funció, mentre que la funció no retorna res, mentre que en el cas de `return3()` la funció només retorna el valor 3, que després s'imprimeix al programa principal. Per a l'usuari el resultat d'aquests codis és el mateix: tots dos mostren el número 3. Però per al programador les dues funcions implicades són força diferents.\n",
        "\n",
        "La funció `print3()` només es pot utilitzar per a un propòsit, és a dir, per mostrar el número 3. La funció `return3()`, però, es pot utilitzar allà on necessitem el número 3, independentment de si necessitem mostrar-lo, utilitzar-lo en un càlcul o assignar-lo a una variable. Per exemple, el codi següent eleva `2` a la potència de `3` i imprimeix el resultat:"
      ]
    },
    {
      "cell_type": "code",
      "execution_count": null,
      "metadata": {
        "id": "WBeuj1B59vhk",
        "outputId": "6e79bdf5-292f-44de-b989-941970920ebc"
      },
      "outputs": [
        {
          "name": "stdout",
          "output_type": "stream",
          "text": [
            "8\n"
          ]
        }
      ],
      "source": [
        "def return3():\n",
        "  \"\"\"operaciones\"\"\"\n",
        "  return 3\n",
        "\n",
        "x = 2 ** return3()\n",
        "print(x)"
      ]
    },
    {
      "cell_type": "markdown",
      "metadata": {
        "id": "GWYTasho9vhk"
      },
      "source": [
        "D'altra banda, el codi següent condueix a un error d'execució quan s'executa:"
      ]
    },
    {
      "cell_type": "code",
      "execution_count": null,
      "metadata": {
        "id": "i7SCi-8B9vhk",
        "outputId": "09453fac-35fe-4b07-fb7c-104df0b733cd"
      },
      "outputs": [
        {
          "name": "stdout",
          "output_type": "stream",
          "text": [
            "3\n"
          ]
        },
        {
          "ename": "TypeError",
          "evalue": "unsupported operand type(s) for ** or pow(): 'int' and 'NoneType'",
          "output_type": "error",
          "traceback": [
            "\u001b[0;31m-------------------------------------------------\u001b[0m",
            "\u001b[0;31mTypeError\u001b[0m       Traceback (most recent call last)",
            "\u001b[0;32m<ipython-input-84-55ef99620598>\u001b[0m in \u001b[0;36m<module>\u001b[0;34m\u001b[0m\n\u001b[1;32m      2\u001b[0m     \u001b[0mprint\u001b[0m\u001b[0;34m(\u001b[0m\u001b[0;36m3\u001b[0m\u001b[0;34m)\u001b[0m\u001b[0;34m\u001b[0m\u001b[0;34m\u001b[0m\u001b[0m\n\u001b[1;32m      3\u001b[0m \u001b[0;34m\u001b[0m\u001b[0m\n\u001b[0;32m----> 4\u001b[0;31m \u001b[0mx\u001b[0m \u001b[0;34m=\u001b[0m \u001b[0;36m2\u001b[0m \u001b[0;34m**\u001b[0m \u001b[0mprint3\u001b[0m\u001b[0;34m(\u001b[0m\u001b[0;34m)\u001b[0m\u001b[0;34m\u001b[0m\u001b[0;34m\u001b[0m\u001b[0m\n\u001b[0m\u001b[1;32m      5\u001b[0m \u001b[0mprint\u001b[0m\u001b[0;34m(\u001b[0m\u001b[0mx\u001b[0m\u001b[0;34m)\u001b[0m\u001b[0;34m\u001b[0m\u001b[0;34m\u001b[0m\u001b[0m\n",
            "\u001b[0;31mTypeError\u001b[0m: unsupported operand type(s) for ** or pow(): 'int' and 'NoneType'"
          ]
        }
      ],
      "source": [
        "def print3():\n",
        "    print(3)\n",
        "    \n",
        "x = 2 ** print3()\n",
        "print(x)"
      ]
    },
    {
      "cell_type": "markdown",
      "metadata": {
        "id": "P38_8mrv9vhl"
      },
      "source": [
        "La raó és que, mentre que `print3()` mostra el valor de 3 a la pantalla (fins i tot el veieu per sobre de l'error de temps d'execució), no produeix el valor real 3 de tal manera que el càlcul pugui utilitzar-lo. La funció `print3()` en realitat retorna el valor especial `None`, que no es pot utilitzar en un càlcul.\n",
        "\n",
        "Per tant, si voleu crear una funció que produeixi un valor que es pugui utilitzar en altres parts del programa, la funció ha de \"retornar\" aquest valor. Si voleu crear una funció que només mostri alguna cosa a la pantalla, podeu utilitzar una instrucció `print` a la funció per fer-ho, però la funció no necessita que `retorni` res."
      ]
    },
    {
      "cell_type": "markdown",
      "metadata": {
        "id": "d4yf5Orz9vhl"
      },
      "source": [
        "### Algunes funcions bàsiques"
      ]
    },
    {
      "cell_type": "markdown",
      "metadata": {
        "id": "tlDsWq4F9vhl"
      },
      "source": [
        "**Type casting:**<br>\n",
        "\n",
        "Ja hem introduït les funcions de càsting de tipus abans. Aquí podeu veure'n una descripció completa:\n",
        "\n",
        "- `float()` té un paràmetre i retorna una representació en coma flotant del valor d'aquest paràmetre. Si el paràmetre conté un nombre enter, retorna el mateix valor que un flotant (si l'imprimeixes, veuràs afegit `.0`). Si el paràmetre conté un valor flotant, retorna el mateix valor. Si el paràmetre conté una cadena que es pot interpretar com un nombre enter o un nombre flotant, retorna aquesta interpretació com un nombre flotant; en cas contrari, donarà un error d'execució.\n",
        "\n",
        "\n",
        "- `int()` té un paràmetre i retorna una representació entera del valor d'aquest paràmetre. Si el paràmetre conté un nombre enter, retorna el mateix nombre enter. Si el paràmetre conté una variable flotant, retorna la part sencera de la variable flotant, és a dir, el valor flotant arrodonit cap avall. Si el paràmetre conté una cadena i la cadena només conté dígits, opcionalment amb un signe menys anterior, retorna l'enter representat per aquests dígits; en cas contrari, donarà un error d'execució.\n",
        "\n",
        "\n",
        "- `str()` té un paràmetre i retorna una representació de cadena del valor d'aquest paràmetre."
      ]
    },
    {
      "cell_type": "markdown",
      "metadata": {
        "id": "dH5_UI5f9vhl"
      },
      "source": [
        "**Càlculs:**<br>\n",
        "Les funcions bàsiques de Python també tenen un suport limitat per als càlculs.\n",
        "\n",
        "- `abs()` té un paràmetre numèric (un nombre enter o un nombre flotant). Si el valor és positiu, retornarà el valor. Si el valor és negatiu, retornarà el valor multiplicat per \"-1\".\n",
        "- `max()` té dos o més paràmetres numèrics i retorna el més gran.\n",
        "- `min()` té dos o més paràmetres numèrics i retorna el més petit.\n",
        "- `pow()` té dos paràmetres numèrics i retorna el primer a la potència del segon. Opcionalment, té un tercer paràmetre numèric. Si es proporciona aquest tercer paràmetre, retornarà el valor* mòdul* d'aquest tercer paràmetre.\n",
        "- `round()` té un paràmetre numèric i l'arrodoneix, matemàticament, a un nombre sencer. Té un segon paràmetre opcional. El segon paràmetre ha de ser un nombre enter i, si es proporciona, la funció arrodonirà el primer paràmetre al nombre de decimals especificat pel segon paràmetre.\n",
        "\n",
        "**Exercici**: examina el codi següent i intenta determinar què mostra. A continuació, executeu el codi i comproveu si teniu raó."
      ]
    },
    {
      "cell_type": "code",
      "execution_count": 4,
      "metadata": {
        "id": "ITDndmPB9vhm"
      },
      "outputs": [
        {
          "name": "stdout",
          "output_type": "stream",
          "text": [
            "2\n",
            "3\n",
            "-2\n",
            "-8\n",
            "1.3\n"
          ]
        }
      ],
      "source": [
        "x = -2\n",
        "y = 3\n",
        "z = 1.27\n",
        "\n",
        "print(abs(x)) #2\n",
        "print(max(x, y, z)) #3\n",
        "print(min(x, y, z)) #-2\n",
        "print(pow(x, y)) #-8\n",
        "print(round(z, 1)) #2 nooo 1.3"
      ]
    },
    {
      "cell_type": "markdown",
      "metadata": {
        "id": "BznxEFAg9vhm"
      },
      "source": [
        "**`len()`:**<br>\n",
        "`len()` és una funció bàsica que obté un paràmetre i retorna la longitud d'aquest paràmetre. De moment, l'únic tipus de dades per al qual podeu utilitzar ara mateix `len()` és la cadena. `len()` retorna la longitud de la cadena, és a dir, el seu nombre de caràcters.\n",
        "\n",
        "**Exercici**: què imprimeix el codi següent? Executeu-lo i comproveu si teniu raó."
      ]
    },
    {
      "cell_type": "code",
      "execution_count": 5,
      "metadata": {
        "id": "5g0rmzCO9vhm"
      },
      "outputs": [
        {
          "name": "stdout",
          "output_type": "stream",
          "text": [
            "3\n",
            "8\n",
            "1\n"
          ]
        }
      ],
      "source": [
        "print(len('can'))\n",
        "print(len('can not '))\n",
        "print(len(' '))          # '' is an empty string, i.e., a string with no characters in it."
      ]
    },
    {
      "cell_type": "markdown",
      "metadata": {
        "id": "_Xc1xM6t9vhm"
      },
      "source": [
        "**Exercici**: I què passa amb el codi següent? Penseu bé, després comproveu el resultat."
      ]
    },
    {
      "cell_type": "code",
      "execution_count": 7,
      "metadata": {
        "id": "LFht1lYs9vhm"
      },
      "outputs": [
        {
          "name": "stdout",
          "output_type": "stream",
          "text": [
            "5\n",
            "can't\n"
          ]
        }
      ],
      "source": [
        "print(len('can\\'t')) #41\n",
        "print('can\\'t') #4\n",
        "\n",
        "print(len('a'a'))"
      ]
    }
  ],
  "metadata": {
    "colab": {
      "provenance": []
    },
    "kernelspec": {
      "display_name": "Python 3",
      "language": "python",
      "name": "python3"
    },
    "language_info": {
      "codemirror_mode": {
        "name": "ipython",
        "version": 3
      },
      "file_extension": ".py",
      "mimetype": "text/x-python",
      "name": "python",
      "nbconvert_exporter": "python",
      "pygments_lexer": "ipython3",
      "version": "3.11.2"
    }
  },
  "nbformat": 4,
  "nbformat_minor": 0
}
