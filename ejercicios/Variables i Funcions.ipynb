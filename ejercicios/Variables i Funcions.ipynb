{
 "cells": [
  {
   "cell_type": "markdown",
   "metadata": {},
   "source": [
    "# Exercici: variables i funcions"
   ]
  },
  {
   "cell_type": "markdown",
   "metadata": {},
   "source": [
    "L'ús de print() imprimirà qualsevol cosa\n",
    "entre els paràntesis al teu termianl.\n",
    "Canvia la frase que s'imprimeix a continuació,\n",
    "deseu i, a continuació, executeu l'script per veure els vostres canvis.\n",
    "Després de confirmar que funciona, comenta-ho."
   ]
  },
  {
   "cell_type": "code",
   "execution_count": 3,
   "metadata": {
    "scrolled": false
   },
   "outputs": [
    {
     "name": "stdout",
     "output_type": "stream",
     "text": [
      "bona nit companyes!\n"
     ]
    }
   ],
   "source": [
    "print('bona nit companyes!')"
   ]
  },
  {
   "cell_type": "markdown",
   "metadata": {},
   "source": [
    "## Variables"
   ]
  },
  {
   "attachments": {},
   "cell_type": "markdown",
   "metadata": {},
   "source": [
    "\n",
    "#### 1) #OK\n",
    "\n",
    "Utilitzant la línia print() de sota,\n",
    "a continuació, imprimiu el número 10, utilitzant els operadors\n",
    "(+) i (*).\n",
    "Multiplica i suma qualsevol combinació de nombres\n",
    "junts per obtenir el número 10.\n"
   ]
  },
  {
   "cell_type": "code",
   "execution_count": 6,
   "metadata": {},
   "outputs": [
    {
     "name": "stdout",
     "output_type": "stream",
     "text": [
      "10\n",
      "10\n"
     ]
    }
   ],
   "source": [
    "print(5*2)\n",
    "print(4+6)"
   ]
  },
  {
   "attachments": {},
   "cell_type": "markdown",
   "metadata": {},
   "source": [
    "#### 2)\n",
    "print s'utilitza sovint per com debugger.\n",
    "De fet, podeu afegir múltiples\n",
    "arguments dins del print (que són\n",
    "separats per una coma). Afegiu-ho tot\n",
    "a continuació per imprimir:\n",
    "\n",
    "\n",
    "3 + 4, \"hauria de ser igual a 7\"\n",
    "print(3)"
   ]
  },
  {
   "cell_type": "code",
   "execution_count": 27,
   "metadata": {},
   "outputs": [
    {
     "name": "stdout",
     "output_type": "stream",
     "text": [
      "3 + 4 , \"hauria de ser igual a 7\" (3)\n"
     ]
    }
   ],
   "source": [
    "print(3,\"+\",4,\",\",'\"hauria de ser igual a 7\"',\"(3)\")"
   ]
  },
  {
   "cell_type": "markdown",
   "metadata": {},
   "source": [
    "#### 3)\n",
    "\n",
    "Afegiu dues strings juntes per\n",
    "imprimir el vostre nom i cognom!"
   ]
  },
  {
   "cell_type": "code",
   "execution_count": 23,
   "metadata": {},
   "outputs": [
    {
     "name": "stdout",
     "output_type": "stream",
     "text": [
      "Sofia Russmann\n"
     ]
    }
   ],
   "source": [
    "print(\"Sofia\" + \" \" + \"Russmann\")"
   ]
  },
  {
   "attachments": {},
   "cell_type": "markdown",
   "metadata": {},
   "source": [
    "#### 4) #no lo entendí\n",
    "Using modulo to get the remainder of\n",
    "a number divided by 2 will tell you whether a\n",
    "number is even or odd. Try it below!\n",
    "\n"
   ]
  },
  {
   "cell_type": "code",
   "execution_count": 67,
   "metadata": {},
   "outputs": [
    {
     "name": "stdout",
     "output_type": "stream",
     "text": [
      "el meu nombre es parell\n"
     ]
    }
   ],
   "source": [
    "my_num = 8\n",
    "if my_num % 2 ==1:\n",
    "    print('el meu nombre es senar')\n",
    "else:\n",
    "    print('el meu nombre es parell')"
   ]
  },
  {
   "cell_type": "markdown",
   "metadata": {},
   "source": [
    "\n",
    "#### 5)\n",
    "Canvieu la ubicació de la Mia reassignant la variable ubicacio_actual\n",
    "amb una nova string! Per fer-ho, tindreu\n",
    "que afegir una nova línia de codi (no n'elimineu cap linia\n",
    "de codi escrit). Nota: també hauràs de deixar de comentar\n",
    "la impressió per imprimir la ubicació."
   ]
  },
  {
   "cell_type": "code",
   "execution_count": 16,
   "metadata": {},
   "outputs": [
    {
     "name": "stdout",
     "output_type": "stream",
     "text": [
      "Barcelona\n"
     ]
    }
   ],
   "source": [
    "nom = 'Mia'\n",
    "ubicacio_actual = 'school'\n",
    "ubicacio_actual = \"Barcelona\"\n",
    "print(ubicacio_actual)"
   ]
  },
  {
   "cell_type": "markdown",
   "metadata": {},
   "source": [
    "\n",
    "#### 6)\n",
    "Creeu variables perquè el missatge s'imprimeixi\n",
    "a la pantalla!\n"
   ]
  },
  {
   "cell_type": "code",
   "execution_count": 19,
   "metadata": {},
   "outputs": [
    {
     "name": "stdout",
     "output_type": "stream",
     "text": [
      "Mia va anar al bar a menjar croquetas\n"
     ]
    }
   ],
   "source": [
    "persona=\"Mia\"\n",
    "place=\"bar\"\n",
    "food=\"croquetas\"\n",
    "print(persona, 'va anar al', place, 'a menjar', food)"
   ]
  },
  {
   "cell_type": "markdown",
   "metadata": {},
   "source": [
    "\n",
    "#### 7)\n",
    "Ara, reassigneu totes les variables anteriors de manera que\n",
    "s'imprimeix un missatge nou a la pantalla!\n"
   ]
  },
  {
   "cell_type": "code",
   "execution_count": 20,
   "metadata": {},
   "outputs": [
    {
     "name": "stdout",
     "output_type": "stream",
     "text": [
      "Guillem va anar al park a menjar fuet\n"
     ]
    }
   ],
   "source": [
    "persona=\"Guillem\"\n",
    "place=\"park\"\n",
    "food=\"fuet\"\n",
    "print(persona, 'va anar al', place, 'a menjar', food)"
   ]
  },
  {
   "cell_type": "markdown",
   "metadata": {},
   "source": [
    "#### 8)\n",
    "Hi ha dues maneres d'augmentar\n",
    "nombre emmagatzemat a la variable 'compte'.\n",
    "Quina és la resposta per executar les 4 línies següents?\n",
    "Pista: cerca què fa += si no està clar!"
   ]
  },
  {
   "cell_type": "code",
   "execution_count": 21,
   "metadata": {},
   "outputs": [
    {
     "name": "stdout",
     "output_type": "stream",
     "text": [
      "4\n"
     ]
    }
   ],
   "source": [
    "count = 0\n",
    "count = count + 1\n",
    "count += 1\n",
    "count += count\n",
    "\n",
    "print(count)"
   ]
  },
  {
   "attachments": {},
   "cell_type": "markdown",
   "metadata": {},
   "source": [
    "\n",
    "#### 9) \n",
    "Intercanvi de temps! Al següent codi, volem intercanviar\n",
    "els valors s'emmagatzemen tant a 'a' com a 'b'.\n",
    "Aquest codi escrit a continuació no funciona. Per dur a terme\n",
    "aquesta tasca, haureu de crear-ne una variable addicional\n",
    "(podeu anomenar-la 'temp') per emmagatzemar-la\n",
    "\"a\" o \"b\" mentre intercanvieu. Dibuixa-ho si\n",
    "no estàs segur!\n"
   ]
  },
  {
   "cell_type": "code",
   "execution_count": 51,
   "metadata": {},
   "outputs": [],
   "source": [
    "a = 1\n",
    "b = 2\n",
    "a = b\n",
    "c = a\n",
    "a = b\n",
    "b = c"
   ]
  },
  {
   "cell_type": "code",
   "execution_count": 52,
   "metadata": {},
   "outputs": [
    {
     "name": "stdout",
     "output_type": "stream",
     "text": [
      "ABANS > es: 2 - i b es:  2\n"
     ]
    }
   ],
   "source": [
    "print('ABANS > es:', a, '- i b es: ', b)\n"
   ]
  },
  {
   "cell_type": "code",
   "execution_count": 7,
   "metadata": {},
   "outputs": [],
   "source": [
    "#EL VOSTRE CODI AQUÍ\n"
   ]
  },
  {
   "cell_type": "code",
   "execution_count": null,
   "metadata": {},
   "outputs": [],
   "source": [
    "print('DESPRES > a:', a, 'ha de ser 2 - i b:', b, 'ha de ser 1')"
   ]
  },
  {
   "cell_type": "markdown",
   "metadata": {},
   "source": [
    "#### 10)\n",
    "Què avaluarà això?\n",
    "Intenta fer que s'avaluï com a cert.\n",
    "Intenta fer-ho de diverses maneres!\n",
    "(suggeriment: proveu d'\"emetre\" el número\n",
    "a un string, o viceversa!)"
   ]
  },
  {
   "cell_type": "code",
   "execution_count": 68,
   "metadata": {},
   "outputs": [
    {
     "name": "stdout",
     "output_type": "stream",
     "text": [
      "True should be True\n",
      "True should be True\n"
     ]
    }
   ],
   "source": [
    "print(3 == 3, 'should be True')\n",
    "print('3' == str(3), 'should be True')"
   ]
  },
  {
   "cell_type": "markdown",
   "metadata": {},
   "source": [
    "## Functions"
   ]
  },
  {
   "cell_type": "markdown",
   "metadata": {},
   "source": [
    "\n",
    "\n",
    "#### 1)\n",
    "Creeu una funció anomenada\n",
    "\"triple\" que agafa un\n",
    "paràmetre x i retorns\n",
    "el valor de x multiplicat\n",
    "per tres.\n"
   ]
  },
  {
   "cell_type": "code",
   "execution_count": 43,
   "metadata": {},
   "outputs": [
    {
     "data": {
      "text/plain": [
       "6"
      ]
     },
     "execution_count": 43,
     "metadata": {},
     "output_type": "execute_result"
    }
   ],
   "source": [
    "def triple(a): \n",
    "    x= a * 3\n",
    "    return x\n",
    "triple (2)"
   ]
  },
  {
   "cell_type": "markdown",
   "metadata": {},
   "source": [
    "\n",
    "\n",
    "\n",
    "#### 2)\n",
    "Creeu una funció anomenada \"resta\" això\n",
    "agafa dos paràmetres i retorna el resultat de\n",
    "el segon valor restat del primer.\n"
   ]
  },
  {
   "cell_type": "code",
   "execution_count": 44,
   "metadata": {},
   "outputs": [
    {
     "data": {
      "text/plain": [
       "8"
      ]
     },
     "execution_count": 44,
     "metadata": {},
     "output_type": "execute_result"
    }
   ],
   "source": [
    "def resta(a,b): \n",
    "    x= a - b\n",
    "    return x\n",
    "resta (10,2)"
   ]
  },
  {
   "attachments": {},
   "cell_type": "markdown",
   "metadata": {},
   "source": [
    "\n",
    "\n",
    "\n",
    "\n",
    "#### 3) CORREGIR\n",
    "Creeu una funció anomenada \"resta_segura\" que\n",
    "agafa dos paràmetres i retorna el resultat de\n",
    "el segon valor restat del primer.\n",
    "Si no es poden restar els valors, retorna None.\n"
   ]
  },
  {
   "cell_type": "code",
   "execution_count": 73,
   "metadata": {},
   "outputs": [
    {
     "name": "stdout",
     "output_type": "stream",
     "text": [
      "<function resta_segura at 0x000001FD10252DE0>\n"
     ]
    }
   ],
   "source": [
    "def resta_segura(a,b): \n",
    "    if not isinstance(a, (int, float)) or not isinstance(b, (int, float)):\n",
    "        raise TypeError('Las dos variables deben ser numeros')\n",
    "    return a - b\n",
    "resta_segura(7,2)\n",
    "print(resta_segura)"
   ]
  },
  {
   "cell_type": "markdown",
   "metadata": {},
   "source": [
    "#### 4)\n",
    "Create a function named \"greet_person\". It should\n",
    "accept a string as an argument and return that\n",
    "string as part of a longer sentence that says hello:\n",
    "i.e. \"Sophia\" --> \"Hello, Sophia!\"\n",
    "If the function is called with an argument that is\n",
    "not a string, it should return \"Please provide a name.\"\n",
    "i.e. 5 --> \"Please provide a name.\"\n",
    "\n",
    "Creeu una funció anomenada \"saluda_persona\". Hauria\n",
    "accepta una cadena com a argument i retorna-la\n",
    "cadena com a part d'una frase més llarga que diu hola:\n",
    "és a dir, \"Sophia\" --> \"Hola, Sophia!\"\n",
    "Si la funció es crida amb un argument que és\n",
    "no és una cadena, hauria de retornar \"Si us plau, proporcioneu un nom\".\n",
    "és a dir, 5 --> \"Si us plau, proporcioneu un nom\"."
   ]
  },
  {
   "cell_type": "code",
   "execution_count": 65,
   "metadata": {},
   "outputs": [
    {
     "name": "stdout",
     "output_type": "stream",
     "text": [
      "Please provide a name\n",
      "None\n"
     ]
    }
   ],
   "source": [
    "def greet_person(a):\n",
    "    if type(a)==str:\n",
    "     resultado = 'Hello, ' + a\n",
    "     return resultado\n",
    "    else:\n",
    "       print(\"Please provide a name\")\n",
    "print (greet_person(5))"
   ]
  }
 ],
 "metadata": {
  "kernelspec": {
   "display_name": "Python 3",
   "language": "python",
   "name": "python3"
  },
  "language_info": {
   "codemirror_mode": {
    "name": "ipython",
    "version": 3
   },
   "file_extension": ".py",
   "mimetype": "text/x-python",
   "name": "python",
   "nbconvert_exporter": "python",
   "pygments_lexer": "ipython3",
   "version": "3.11.2"
  }
 },
 "nbformat": 4,
 "nbformat_minor": 4
}
