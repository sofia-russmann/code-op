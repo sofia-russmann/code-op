{
  "cells": [
    {
      "cell_type": "markdown",
      "metadata": {
        "id": "97oi9-j09vgj"
      },
      "source": [
        "# Introducció a Python - Exercicis"
      ]
    },
    {
      "cell_type": "markdown",
      "metadata": {
        "id": "Gwfc03x89vgn"
      },
      "source": [
        "## 1. Introducció"
      ]
    },
    {
      "cell_type": "markdown",
      "metadata": {
        "id": "B6uGsDjq9vgo"
      },
      "source": [
        "### Tipus de dades: - Strings"
      ]
    },
    {
      "cell_type": "markdown",
      "metadata": {
        "id": "21ShBE-y9vgo"
      },
      "source": [
        "Una cadena (en anglès string) és un tipus d'estructura de dades que conté una seqüència de caràcters, paraules, o frases amb un ordre i una llargada determinades, que pertanyen a un cert llenguatge formal o alfabet anàlogues a una fórmula o una oració. A Python, una *string* està tancada entre cometes dobles o simples. En principi, no importa quina de les dues utilitzeu, és a dir, `\"taronja\"` equival a `'taronja'`. Tanmateix, si teniu un text que conté una sola cometa, si voleu evitar problemes, heu de posar-lo entre cometes dobles, és a dir, `\"I can't stand it\"` és una string legal, mentre que `'I can't stand it'` no ho és."
      ]
    },
    {
      "cell_type": "markdown",
      "metadata": {
        "id": "jlx3P2Hz9vgo"
      },
      "source": [
        "### Tipus de dades - Nombres enters"
      ]
    },
    {
      "cell_type": "markdown",
      "metadata": {
        "id": "yIOqyKN49vgp"
      },
      "source": [
        "**Els nombres enters poden ser positius o negatius (o zero)**. Hi ha una certa mida màxima que poden arribar a ser els enters, que depèn del tipus d'ordinador i del sistema operatiu que utilitzeu. Tanmateix, per a la majoria de propòsits, no us trobareu amb aquests límits. Python no és com aquelles calculadores amb una pantalla de 10 dígits que no poden utilitzar números superiors als 10.000 milions.\n",
        "\n",
        "Hi ha diferents maneres d'escriure nombres enters que donen com a resultat el mateix valor. `1` és el mateix que `+1` (hi ha altres maneres d'escriure el valor `1`, però aquestes segueixen en un capítol posterior). Per tant, les dues ordres següents produeixen la mateixa sortida:"
      ]
    },
    {
      "cell_type": "code",
      "execution_count": null,
      "metadata": {
        "colab": {
          "base_uri": "https://localhost:8080/"
        },
        "id": "v5dmffp89vgq",
        "outputId": "d9b995c8-f4de-444e-c6f8-a1bcde555edc"
      },
      "outputs": [
        {
          "name": "stdout",
          "output_type": "stream",
          "text": [
            "1\n",
            "1\n"
          ]
        }
      ],
      "source": [
        "print(1)\n",
        "print(+1)"
      ]
    },
    {
      "cell_type": "code",
      "execution_count": null,
      "metadata": {
        "colab": {
          "base_uri": "https://localhost:8080/"
        },
        "id": "8iLTADC59vgt",
        "outputId": "7bfa9b58-3591-4803-c2ce-96e7565d57f2"
      },
      "outputs": [
        {
          "name": "stdout",
          "output_type": "stream",
          "text": [
            "-1\n"
          ]
        }
      ],
      "source": [
        "# Print -1\n",
        "\n",
        "print(-1)\n"
      ]
    },
    {
      "cell_type": "markdown",
      "metadata": {
        "id": "2Fbp6f9_9vgu"
      },
      "source": [
        "Això és diferent per a les *strings*, és clar. La cadena `\"1\"` no és la mateixa que la cadena `\"+1\"`.\n",
        "\n",
        "Quan feu servir nombres enters a Python, no els podeu escriure amb \"separadors de milers\" (comes en anglès) per fer-los més llegibles. És a dir, el número mil milions s'hauria d'escriure com a \"1000000000\" en lloc de \"1.000.000.000\".\n",
        "\n",
        "**Consulteu el codi següent i penseu en què es mostrarà quan l'executeu. Després executa-ho.**"
      ]
    },
    {
      "cell_type": "code",
      "execution_count": 1,
      "metadata": {
        "id": "JEGmFDBr9vgu"
      },
      "outputs": [
        {
          "name": "stdout",
          "output_type": "stream",
          "text": [
            "100 0\n"
          ]
        }
      ],
      "source": [
        "print(100,0000000)"
      ]
    },
    {
      "cell_type": "markdown",
      "metadata": {
        "id": "Dr92HBeJB6lO"
      },
      "source": [
        "El codi anterior imprimeix 2 números diferents 100 i 0, la resta de zeros s'eliminen perquè no són significatius."
      ]
    },
    {
      "cell_type": "markdown",
      "metadata": {
        "id": "yEhUB8999vgv"
      },
      "source": [
        "**Exercici**: si la vostra predicció del que faria aquest codi no era correcta, esbrineu per què produeix aquest resultat. Pista: el ressaltat de sintaxi aplicat pels quaderns pot proporcionar una idea."
      ]
    },
    {
      "cell_type": "markdown",
      "metadata": {
        "id": "Y78rq1Af9vgv"
      },
      "source": [
        "### Floats"
      ]
    },
    {
      "cell_type": "markdown",
      "metadata": {
        "id": "laLU57pb9vgx"
      },
      "source": [
        "Els floats, o \"nombres de coma flotant\", són nombres amb decimals. Per exemple, \"3.14159265\" és un float. Tingueu en compte que heu d'utilitzar un punt com a separador decimal. Molts països utilitzen una coma com a separador decimal, però Python utilitza la convenció dels països de parla anglesa i utilitza el punt.\n",
        "\n",
        "Si hi ha un nombre enter que per algun motiu voleu utilitzar com a flotant, podeu fer-ho afegint-hi `.0`.  És a dir, \"13\" és un nombre enter, mentre que \"13.0\" és un float. Tot i així, representen el mateix valor, i si feu servir Python per comparar-los (al que arribarem d'aquí a una estona), Python us dirà que tenen el mateix valor.\n",
        "\n",
        "Igual que amb els nombres enters, hi ha certs límits màxims per a floats i també hi ha una precisió màxima. És poc probable que arribeu mai a aquests límits màxims, ja que Python passarà a la notació científica quan els nombres siguin molt grans, però si feu servir Python per fer càlculs molt precisos, podríeu tenir problemes amb la precisió. Això no passarà durant aquest curs, i és poc probable que passi per a la majoria de les aplicacions, però si sou un físic els càlculs del qual impliquen un gran nombre de partícules a nivell molecular o quàntic, cal tenir en compte.\n",
        "\n",
        "Tingueu en compte que a causa de la forma en què Python emmagatzema els floats, determinats nombres no es poden expressar amb exactitud. Per exemple, si executeu el codi següent:"
      ]
    },
    {
      "cell_type": "code",
      "execution_count": null,
      "metadata": {
        "id": "j-_8YSN-9vgy",
        "outputId": "379e8466-8ee6-4035-c4d9-0b1bf7f33bc0"
      },
      "outputs": [
        {
          "name": "stdout",
          "output_type": "stream",
          "text": [
            "430.99999999999994\n"
          ]
        }
      ],
      "source": [
        "print((431/100)*100)"
      ]
    },
    {
      "cell_type": "markdown",
      "metadata": {
        "id": "NWojcQEB9vgy"
      },
      "source": [
        "veureu que la resposta no és 431 com podríeu esperar."
      ]
    },
    {
      "cell_type": "markdown",
      "metadata": {
        "id": "S0KI8n1H9vgz"
      },
      "source": [
        "### Basic calculations"
      ]
    },
    {
      "cell_type": "markdown",
      "metadata": {
        "id": "mmAH9Oye9vgz"
      },
      "source": [
        "Els càlculs bàsics combinen dos valors amb un operador entre ells. Alguns operadors senzills són:\n",
        "\n",
        "    +   addition\n",
        "    -   subtraction\n",
        "    *   multiplication\n",
        "    /   division\n",
        "    //  integer division\n",
        "    **  power\n",
        "    %   modulo\n",
        "    \n",
        "Aquests són alguns exemples:"
      ]
    },
    {
      "cell_type": "code",
      "execution_count": null,
      "metadata": {
        "id": "9xavptzO9vgz",
        "outputId": "bcd1894c-b38b-423d-ed28-f8974dc71cc3"
      },
      "outputs": [
        {
          "name": "stdout",
          "output_type": "stream",
          "text": [
            "19\n",
            "11\n",
            "60\n",
            "this one 4.25\n",
            "4\n",
            "50625\n",
            "1\n",
            "2\n"
          ]
        }
      ],
      "source": [
        "print(15+4) \n",
        "print(15-4)\n",
        "print(15*4)\n",
        "print(\"this one\", 17/4)\n",
        "print(17//4)\n",
        "print(15**4)\n",
        "print(17%4)\n",
        "print(18%4)"
      ]
    },
    {
      "cell_type": "markdown",
      "metadata": {
        "id": "LrbjtGbk9vgz"
      },
      "source": [
        "Suposem que sabeu què implica cadascun d'aquests operadors, excepte potser la divisió enter i\n",
        "operadors mòdul.\n",
        "\n",
        "La divisió entera (també anomenada \"floor division\") és simplement una divisió que arrodoneix a un nombre sencer. Si involucreu flotants en el càlcul, el resultat continuarà sent un flotant, però arrodonit cap avall. Si només involucreu nombres enters en el càlcul, el resultat serà un nombre enter.\n",
        "\n",
        "L'operador mòdul (`%`) troba el residu de la divisió d'un nombre entre un altre. Per exemple: si dividim 14 per 5, el resultat és 2.8, oi? Això vol dir que podem restar 5 dues vegades de 14, i encara tindrem un resultat positiu, però si el restem una tercera vegada, el resultat es tornarà negatiu. Per tant, després de restar 5 dues vegades de 14 tenim una resta que és menor que 5. Aquesta resta és el que produeix l'operador mòdul.\n",
        "\n",
        "**En termes molt simplistes: si tenim 14 galetes que hem de dividir entre 5 nens, cada nen obté 2 galetes. I encara ens queden 4 galetes, perquè en aquell moment hi ha més nens que galetes. Així, dividir 14 per 5 com a divisió entera és 2 (galetes per nen), mentre que 14 mòdul 5 és el 4 restant (galetes que hem deixat a la mà).**\n",
        "\n",
        "\n",
        "**Nota**: _el codi que es mostra a dalt consta de diverses línies. Es diu que cada línia és una \"instrucció\" i consta d'una ordre que executa Python (al codi anterior, una funció `print()` a cada línia). La majoria dels llenguatges de programació obliguen a acabar cada sentència amb un caràcter especial, normalment un punt i coma (`;`). Python no requereix un punt i coma després de cada ordre, però cada ordre ha d'estar (en general) a la seva pròpia línia. En principi, podeu col·locar diverses declaracions de Python en una línia, però llavors hauríeu de posar punt i coma entre les declaracions. Tanmateix, és pràctica i convenció de Python no fer-ho, ja que fa que el codi sigui lleig, difícil de llegir i difícil de mantenir. Per tant, si us plau, seguiu la convenció i doneu a cada afirmació la seva pròpia línia._"
      ]
    },
    {
      "cell_type": "markdown",
      "metadata": {
        "id": "256SlyF69vg0"
      },
      "source": [
        "### Càlculs més complexos"
      ]
    },
    {
      "cell_type": "markdown",
      "metadata": {
        "id": "XQ7nrNzd9vg0"
      },
      "source": [
        "Podeu combinar operadors en càlculs més grans, tal com podeu fer amb les calculadores més avançades. Per evitar confusions, també podeu utilitzar parèntesis en els vostres càlculs, i fins i tot podeu anidar aquests parèntesis. Python processarà els operadors en l'ordre prescrit pels matemàtics, sovint anomenat PEMDAS.\n",
        "\n",
        "Consulteu el càlcul següent i proveu de predir el que resultarà abans d'executar el codi."
      ]
    },
    {
      "cell_type": "code",
      "execution_count": 2,
      "metadata": {
        "id": "lP593tOf9vhA"
      },
      "outputs": [
        {
          "name": "stdout",
          "output_type": "stream",
          "text": [
            "9.0\n"
          ]
        }
      ],
      "source": [
        "print(5*2-3+4/2)"
      ]
    },
    {
      "cell_type": "markdown",
      "metadata": {
        "id": "BRbsNX2U9vhB"
      },
      "source": [
        "Hi ha un parell de coses a tenir en compte sobre aquest càlcul.\n",
        "\n",
        "Primer, el resultat final és un flotant (tot i que no té decimals, o, si voleu, només zero com a decimal). La raó és que una divisió forma part del càlcul, i per a Python això significa que hauria de convertir-ho en un càlcul de coma flotant.\n",
        "\n",
        "**Exercici (opcional):** proveu de convertir el valor retornat en un nombre enter (més informació sobre l'emissió de tipus més endavant)."
      ]
    },
    {
      "cell_type": "code",
      "execution_count": 3,
      "metadata": {
        "id": "1rbdgJLM9vhB",
        "outputId": "1c72eb9c-bd0c-4cde-fe97-66d3b822b759"
      },
      "outputs": [
        {
          "name": "stdout",
          "output_type": "stream",
          "text": [
            "9\n"
          ]
        }
      ],
      "source": [
        "# Convert the previous result into an integer\n",
        "print(int(5*2-3+4/2))"
      ]
    },
    {
      "cell_type": "markdown",
      "metadata": {
        "id": "iXqdkcl49vhB"
      },
      "source": [
        "En segon lloc, Python ignora els espais, de manera que el codi anterior és el mateix que:"
      ]
    },
    {
      "cell_type": "code",
      "execution_count": null,
      "metadata": {
        "id": "DjsJa8m-9vhB",
        "outputId": "53cd1b1c-170e-4728-f664-c52dafd85834"
      },
      "outputs": [
        {
          "name": "stdout",
          "output_type": "stream",
          "text": [
            "9.0\n"
          ]
        }
      ],
      "source": [
        "print( 5 * 2 - 3 + 4 / 2 )"
      ]
    },
    {
      "cell_type": "markdown",
      "metadata": {
        "id": "MSZDbUF29vhC"
      },
      "source": [
        "Fins i tot és el mateix que:"
      ]
    },
    {
      "cell_type": "code",
      "execution_count": null,
      "metadata": {
        "id": "Q-fy8yfV9vhC",
        "outputId": "267f0ae6-f015-4266-de62-25c1f39f4cb9"
      },
      "outputs": [
        {
          "name": "stdout",
          "output_type": "stream",
          "text": [
            "9.0\n"
          ]
        }
      ],
      "source": [
        "print( 5*2 - 3+4    / 2 )"
      ]
    },
    {
      "cell_type": "markdown",
      "metadata": {
        "id": "-6PMgH7x9vhC"
      },
      "source": [
        "Es podria pensar que el codi anterior hauria de resultar en 6.5 o 1.5, perquè <i>clarament</i> heu de calcular el `5*2` i el `3+4` abans de fer la resta i la divisió. No és el cas. No importa com de prop col·loqueu els operands, els espais s'ignoren. Si realment voleu calcular primer el `3+4`, l'heu de posar entre parèntesis. Aleshores, encara podeu utilitzar espais per millorar la llegibilitat, però no signifiquen res per a Python."
      ]
    },
    {
      "cell_type": "code",
      "execution_count": null,
      "metadata": {
        "id": "2_jbL0NP9vhC",
        "outputId": "159b1ea3-0084-4b16-8ada-1a1aacb5ed07"
      },
      "outputs": [
        {
          "name": "stdout",
          "output_type": "stream",
          "text": [
            "6.5\n",
            "1.5\n"
          ]
        }
      ],
      "source": [
        "print( (5*2) - (3+4)/2 )\n",
        "print( ((5*2)-(3+4)) / 2 )"
      ]
    },
    {
      "cell_type": "markdown",
      "metadata": {
        "id": "mwLB3pJV9vhD"
      },
      "source": [
        "**Exercici**: ara és el moment d'escriure el teu primer programa. Al bloc de codi següent, escriviu un programa que mostri el nombre de segons en una setmana. Per descomptat, no hauríeu d'agafar la calculadora o mòbil per fer el càlcul i després simplement imprimir el número resultant, sinó que hauríeu de fer el càlcul al codi Python."
      ]
    },
    {
      "cell_type": "code",
      "execution_count": null,
      "metadata": {
        "id": "0dV79S429vhD",
        "outputId": "4e1f8534-8a5f-42f4-dedf-6ef63a9060e0"
      },
      "outputs": [
        {
          "name": "stdout",
          "output_type": "stream",
          "text": [
            "604800\n"
          ]
        }
      ],
      "source": [
        "# Display the number of seconds in a week\n",
        "def dispSec():\n",
        "    return 7*24*60*60\n",
        "\n",
        "print(dispSec())"
      ]
    },
    {
      "cell_type": "markdown",
      "metadata": {
        "id": "olTnauIy9vhD"
      },
      "source": [
        "Tingueu en compte que hem escrit una \"línia de comentaris\" en aquest bloc de codi. Per a Python, si apareix una marca hash (`#`) en una línia de codi, això significa que hauria d'ignorar tot el que hi ha en aquesta línia a la dreta de la marca hash. D'aquesta manera podeu afegir explicacions textuals al vostre codi. Més endavant hi haurà més comentaris."
      ]
    },
    {
      "cell_type": "markdown",
      "metadata": {
        "id": "Ufah6KRG9vhE"
      },
      "source": [
        "### Expressions de cadena"
      ]
    },
    {
      "cell_type": "markdown",
      "metadata": {
        "id": "4xldz7IL9vhE"
      },
      "source": [
        "Alguns dels operadors indicats anteriorment també es poden utilitzar per a strings, encara que no tots.\n",
        "\n",
        "En particular, podeu utilitzar l'operador d'addició (`+`) per concatenar dues cadenes, i podeu utilitzar l'operador de multiplicació (`*`) amb un nombre i una cadena per crear una cadena que contingui una repetició de la cadena original. Comprova-ho:"
      ]
    },
    {
      "cell_type": "code",
      "execution_count": 4,
      "metadata": {
        "id": "37IbMl1z9vhE"
      },
      "outputs": [
        {
          "name": "stdout",
          "output_type": "stream",
          "text": [
            "hello2\n",
            "hello hello hello \n",
            " goodbye goodbye goodbye\n"
          ]
        }
      ],
      "source": [
        "print( \"hello\"+ \"2\" )\n",
        "print( 3*\"hello \" )\n",
        "print( \" goodbye\"*3 )"
      ]
    },
    {
      "cell_type": "markdown",
      "metadata": {
        "id": "SFH6KoZt9vhE"
      },
      "source": [
        "No podeu afegir un número a una cadena ni multiplicar dues cadenes. \n",
        "\n",
        "Aquest ús dels operadors no està definit i donarà missatges d'error. Cap dels altres operadors enumerats per a números tampoc funcionarà amb cadenes.\n",
        "\n",
        "**Exercici (opcional):** intenta escriure algunes operacions en cadenes que generaran errors."
      ]
    },
    {
      "cell_type": "code",
      "execution_count": 5,
      "metadata": {
        "id": "cEnhPlTv9vhE",
        "outputId": "93a40082-b354-4846-c143-2380677bc757"
      },
      "outputs": [
        {
          "ename": "TypeError",
          "evalue": "unsupported operand type(s) for ** or pow(): 'str' and 'int'",
          "output_type": "error",
          "traceback": [
            "\u001b[1;31m---------------------------------------------------------------------------\u001b[0m",
            "\u001b[1;31mTypeError\u001b[0m                                 Traceback (most recent call last)",
            "Cell \u001b[1;32mIn[5], line 2\u001b[0m\n\u001b[0;32m      1\u001b[0m \u001b[39m# Print some operations that will throw errors\u001b[39;00m\n\u001b[1;32m----> 2\u001b[0m \u001b[39mprint\u001b[39m(\u001b[39m\"\u001b[39;49m\u001b[39mhi\u001b[39;49m\u001b[39m\"\u001b[39;49m\u001b[39m*\u001b[39;49m\u001b[39m*\u001b[39;49m\u001b[39m3\u001b[39;49m)\n\u001b[0;32m      3\u001b[0m \u001b[39mprint\u001b[39m(\u001b[39m\"\u001b[39m\u001b[39mhi\u001b[39m\u001b[39m\"\u001b[39m\u001b[39m/\u001b[39m\u001b[39m3\u001b[39m)\n",
            "\u001b[1;31mTypeError\u001b[0m: unsupported operand type(s) for ** or pow(): 'str' and 'int'"
          ]
        }
      ],
      "source": [
        "# Print some operations that will throw errors\n",
        "print(\"hi\"**3)\n",
        "print(\"hi\"/3)"
      ]
    },
    {
      "cell_type": "markdown",
      "metadata": {
        "id": "vBV4bFac9vhF"
      },
      "source": [
        "### Type casting"
      ]
    },
    {
      "cell_type": "markdown",
      "metadata": {
        "id": "Hhp5bV1q9vhF"
      },
      "source": [
        "De vegades cal canviar el tipus de dades d'un valor per un altre tipus de dades. Podeu fer-ho utilitzant les funcions de casting de tipus.\n",
        "\n",
        "Analitzarem les funcions amb molt més detall més endavant, però de moment només cal saber que una funció té un nom i pot tenir paràmetres (valors) entre parèntesis després del nom. Farà alguna cosa amb els paràmetres i després pot donar un resultat. Per exemple, la funció `print()` mostra els valors dels paràmetres que se li donen entre parèntesis i no dóna res a canvi.\n",
        "\n",
        "Les funcions de conversió de tipus prenen el valor del paràmetre entre parèntesis i retornen un valor que és (gairebé) el mateix que el valor del paràmetre, però d'un tipus de dades diferent. Algunes d'aquestes funcions són les següents:\n",
        "\n",
        "- `int()` retornarà el valor entre parèntesis com un nombre enter (arrodonint cap avall si cal);<br>\n",
        "- `float()` retornarà el valor entre parèntesis com a flotant (afegiu `.0` si cal); i<br>\n",
        "- `str()` retornarà el valor entre parèntesis com una cadena.\n",
        "\n",
        "Vegeu la diferència entre les dues línies de codi següents:"
      ]
    },
    {
      "cell_type": "code",
      "execution_count": null,
      "metadata": {
        "id": "6hOIdQsK9vhF",
        "outputId": "d95cfd1d-c661-40d6-b040-c45821002deb"
      },
      "outputs": [
        {
          "name": "stdout",
          "output_type": "stream",
          "text": [
            "3.75\n",
            "3\n"
          ]
        }
      ],
      "source": [
        "print(15/4)\n",
        "print(int(15/4))"
      ]
    },
    {
      "cell_type": "markdown",
      "metadata": {
        "id": "I88oftJk9vhF"
      },
      "source": [
        "O les dues línies de codi següents:"
      ]
    },
    {
      "cell_type": "code",
      "execution_count": null,
      "metadata": {
        "id": "X9oQyYaH9vhF",
        "outputId": "21b80f52-0615-406e-da77-89cd23f9054d"
      },
      "outputs": [
        {
          "name": "stdout",
          "output_type": "stream",
          "text": [
            "19\n",
            "19.0\n"
          ]
        }
      ],
      "source": [
        "print( 15+4 )\n",
        "print( float( 15+4 ) )"
      ]
    },
    {
      "cell_type": "markdown",
      "metadata": {
        "id": "wzwFttXL9vhF"
      },
      "source": [
        "Hem esmentat que no podeu utilitzar l'operador d'addició per concatenar un número a una cadena. Tanmateix, si necessiteu fer alguna cosa així, podeu solucionar el problema utilitzant type casting:"
      ]
    },
    {
      "cell_type": "code",
      "execution_count": null,
      "metadata": {
        "id": "viMtTl1e9vhF",
        "outputId": "5689df11-186f-4ee6-cae6-5af5f6130928"
      },
      "outputs": [
        {
          "name": "stdout",
          "output_type": "stream",
          "text": [
            "I own 15 apples.\n"
          ]
        }
      ],
      "source": [
        "print( \"I own \" + str( 15 ) + \" apples.\" )"
      ]
    },
    {
      "cell_type": "markdown",
      "metadata": {
        "id": "N94bLZbp9vhG"
      },
      "source": [
        "### Style"
      ]
    },
    {
      "cell_type": "markdown",
      "metadata": {
        "id": "Q2RzOWb19vhG"
      },
      "source": [
        "Potser haureu notat que al codi d'exemple, fem servir molt espais en blanc. Per exemple, per als parèntesis units a les funcions, gairebé sempre tenim un espai en blanc després del parèntesi inicial i abans del parèntesi de tancament. En els càlculs, sovint tenim espais en blanc al voltant dels operadors si això fa que els càlculs siguin més llegibles. Sovint també inserim línies buides al nostre codi per fer-lo més **llegible** i fem servir **quatre espais de manera coherent com a sagnats**.\n",
        "\n",
        "La majoria d'aquestes coses són només \"estil\". Els espais en blanc al costat dels parèntesis i al voltant dels operadors no són necessaris, Python entén el codi igual de bé quan desapareixen. Aquestes quatre afirmacions són totes equivalents:"
      ]
    },
    {
      "cell_type": "code",
      "execution_count": null,
      "metadata": {
        "id": "GYboCNlf9vhG",
        "outputId": "a135e6c0-56f0-45af-b959-6eaf4df03ba2"
      },
      "outputs": [
        {
          "name": "stdout",
          "output_type": "stream",
          "text": [
            "5\n",
            "5\n",
            "5\n",
            "5\n"
          ]
        }
      ],
      "source": [
        "print( 2 + 3 )\n",
        "print(2+3)\n",
        "print( 2+3)\n",
        "print                 (            2             +           3              )"
      ]
    },
    {
      "cell_type": "markdown",
      "metadata": {
        "id": "5OLPgBYK9vhH"
      },
      "source": [
        "Adjuntar el parèntesi d'obertura a una funció és una cosa que fan gairebé tots els programadors, però per a la resta, els estils de col·locació d'espais en blanc difereixen entre programadors. Pots triar el teu propi estil en aquest sentit, no cal que segueixis el que fem servir aquí. Però us recomanem que feu servir l'estil escollit de manera coherent, cosa que farà que el vostre codi sigui més llegible fins i tot per als programadors que utilitzen un estil diferent."
      ]
    },
    {
      "cell_type": "markdown",
      "metadata": {
        "id": "ZzhaPbGc9vhH"
      },
      "source": [
        "### El que has après en aquesta secció"
      ]
    },
    {
      "cell_type": "markdown",
      "metadata": {
        "id": "KhsF-nAI9vhH"
      },
      "source": [
        "En aquesta secció, heu après:\n",
        "\n",
        "- Utilitzar la funció `print()` per mostrar els resultats\n",
        "- Tipus de dades: cadena, enters i flotant\n",
        "- Càlculs\n",
        "- Expressions bàsiques de cadena\n",
        "- Escriviu el càsting entre cadenes, nombres enters i flotants, utilitzant `str()`, `int()` i `float()`\n",
        "\n",
        "**Exercici 1.1:** El preu de la portada d'un llibre és de 24,95 EUR, però les llibreries tenen un descompte del 40%. Els costos d'enviament 3 EUR per a la primera còpia i 75 cèntims per cada còpia addicional. Calcula els costos totals a l'engròs per a 60 còpies."
      ]
    },
    {
      "cell_type": "code",
      "execution_count": null,
      "metadata": {
        "colab": {
          "base_uri": "https://localhost:8080/"
        },
        "id": "_sbRzj5QjMlE",
        "outputId": "00a4614b-6d6f-44f9-8f14-f267112e7fae"
      },
      "outputs": [
        {
          "name": "stdout",
          "output_type": "stream",
          "text": [
            "945.4499999999999\n"
          ]
        }
      ],
      "source": [
        "print(60*(24.95*0.6)+ 3 + 0.75*59) "
      ]
    },
    {
      "cell_type": "code",
      "execution_count": null,
      "metadata": {
        "id": "NcOm4Pb19vhH",
        "outputId": "440d2522-8f33-4ef9-bfb1-c4907f1691e9"
      },
      "outputs": [
        {
          "name": "stdout",
          "output_type": "stream",
          "text": [
            "945.4499999999999\n"
          ]
        }
      ],
      "source": [
        "\n",
        "\n",
        "# Print the total cost\n",
        "def CalcPriceShipping(price, disc , units):\n",
        "    disc = disc*0.01\n",
        "    priceWDiscount = price*(1-disc)\n",
        "    units = max(0,units)\n",
        "    cost = units*priceWDiscount\n",
        "    \n",
        "    if units>1:       \n",
        "        shipping = (3+.75*(units-1))\n",
        "    else:    \n",
        "        shipping = 3*units  \n",
        "    totalcost = cost+shipping\n",
        "    \n",
        "    return totalcost\n",
        "\n",
        "print(CalcPriceShipping(24.95,40,60))"
      ]
    },
    {
      "cell_type": "markdown",
      "metadata": {
        "id": "HQYpzVlk9vhH"
      },
      "source": [
        "**Exercici 1.2:** Quan alguna cosa no funciona amb el vostre codi, Python generarà errors. Sovint, aquests seran \"errors de sintaxi\" que indiquen que alguna cosa no funciona amb la forma del vostre codi (per exemple, el codi de l'exercici anterior va generar un `SyntaxError`). També hi ha \"errors de temps d'execució (runtime errors)\", que indiquen que el vostre codi era formalment correcte en si mateix, però que alguna cosa va fallar durant l'execució del codi. Un bon exemple és el `ZeroDivisionError`, que indica que heu intentat dividir un nombre per zero (cosa que, com ja sabeu, no està permès). Intenta fer que Python provoqui un `ZeroDivisionError`."
      ]
    },
    {
      "cell_type": "code",
      "execution_count": 6,
      "metadata": {
        "id": "FIDWqFwi9vhH",
        "outputId": "e5c3464f-8acd-4abe-e401-92b435929622"
      },
      "outputs": [
        {
          "ename": "ZeroDivisionError",
          "evalue": "division by zero",
          "output_type": "error",
          "traceback": [
            "\u001b[1;31m---------------------------------------------------------------------------\u001b[0m",
            "\u001b[1;31mZeroDivisionError\u001b[0m                         Traceback (most recent call last)",
            "Cell \u001b[1;32mIn[6], line 2\u001b[0m\n\u001b[0;32m      1\u001b[0m \u001b[39m# ZeroDivisionError\u001b[39;00m\n\u001b[1;32m----> 2\u001b[0m \u001b[39m10\u001b[39;49m\u001b[39m/\u001b[39;49m\u001b[39m0\u001b[39;49m\n",
            "\u001b[1;31mZeroDivisionError\u001b[0m: division by zero"
          ]
        }
      ],
      "source": [
        "# ZeroDivisionError\n",
        "10/0"
      ]
    },
    {
      "cell_type": "markdown",
      "metadata": {
        "id": "EIQnmWb99vhI"
      },
      "source": [
        "**Exercici 1.3 (opcional):** Mires el rellotge i veus que actualment són les 14.00h. Has configurat una alarma perquè soni 535 hores després. A quina hora sonarà l'alarma? Escriu un programa que imprimeixi la resposta. Consell: per obtenir la millor solució, necessitareu l'operador mòdul. Segon consell: la resposta és a les 21.00h, però per descomptat, aquest exercici no tracta de la resposta, sinó de com s'obté."
      ]
    },
    {
      "cell_type": "code",
      "execution_count": null,
      "metadata": {
        "colab": {
          "base_uri": "https://localhost:8080/"
        },
        "id": "o4lP2yl5jjSE",
        "outputId": "78ab6590-4c0b-48de-9e3f-e62455932f3b"
      },
      "outputs": [
        {
          "name": "stdout",
          "output_type": "stream",
          "text": [
            "21\n"
          ]
        }
      ],
      "source": [
        "print(14+535%24)"
      ]
    },
    {
      "cell_type": "code",
      "execution_count": null,
      "metadata": {
        "id": "t4ZqOC5X9vhI",
        "outputId": "19d0a875-5a43-44d1-f865-33513a555227"
      },
      "outputs": [
        {
          "name": "stdout",
          "output_type": "stream",
          "text": [
            "21\n"
          ]
        }
      ],
      "source": [
        "# Clock\n",
        "def HourCalc(startHour,addHours):\n",
        "    alarm = startHour + addHours%24\n",
        "    return alarm\n",
        "\n",
        "print(HourCalc(14,535))\n",
        "    "
      ]
    }
  ],
  "metadata": {
    "colab": {
      "collapsed_sections": [
        "DsmOAaHk9vhb",
        "I60IABDg9vhc",
        "kxKOMcUU9vhd",
        "R1X4qujt9vhd",
        "e8BdEH6o9vhg",
        "ypvtMNsM9vhh",
        "U9KP4esQ9vhh",
        "Vx3xlzjY9vhi",
        "d4yf5Orz9vhl",
        "pz_yU8si9vhn",
        "ecuDZL6a9vhn",
        "5w0MvN369vhn",
        "3JexNxmn9vhq",
        "RO3RyDpo9vhr",
        "fuuHbuP49vhr",
        "mf7lZeGQ9vhs",
        "32AguLGw9vht",
        "S6dNp1aH9vhu",
        "6eC948K39vhu",
        "2n0vfbIe9vhu",
        "nRI0GA339vhv",
        "GYZ66YaF9vhy",
        "cod29CUL9vhy",
        "Iyals3lT9vhz",
        "boGvTu2n9vh0",
        "lTNrovhX9vh0",
        "BSnG3em29vh1",
        "7QzESwAo9vh2",
        "74QkoyYq9vh3",
        "T6oan1xs9vh6",
        "pTiUE-Sl9vh6",
        "u6AMIg4C9vh6",
        "pihZDRul9vh7",
        "3eg0w9SL9vh8",
        "yP3WiyUU9vh8",
        "ER4eT84m9vh9",
        "oTdfCKUI9vh-",
        "2W6FHvrK9vh-",
        "9JWJmbBA9viB",
        "HqwQ4yZJ9viC",
        "nu-whRls9viD",
        "MhVBaRh59viE",
        "3PspILly9viE",
        "JUozMtJZ9viF",
        "-OFj8IrU9viF",
        "EfzW7-mU9viG",
        "Oe9fBIeC9viQ",
        "uWHliCE29viQ",
        "5TfVSXYv9viR",
        "iE1-vVWg9viS",
        "fBu9PLYX9viT",
        "6iqTj1D-9viT",
        "r_VTy9889vif",
        "0LX8QEza9vig",
        "93mnoOEm9vih",
        "sTUq9jKt9vih",
        "duxSNCtz9vii",
        "0UP1JixS9vii",
        "BViWhad19vii",
        "8RM5oPaz9vij",
        "clxWRQ9w9viv",
        "ZlkJfInV9viw"
      ],
      "provenance": []
    },
    "kernelspec": {
      "display_name": "Python 3",
      "language": "python",
      "name": "python3"
    },
    "language_info": {
      "codemirror_mode": {
        "name": "ipython",
        "version": 3
      },
      "file_extension": ".py",
      "mimetype": "text/x-python",
      "name": "python",
      "nbconvert_exporter": "python",
      "pygments_lexer": "ipython3",
      "version": "3.11.2"
    }
  },
  "nbformat": 4,
  "nbformat_minor": 0
}
