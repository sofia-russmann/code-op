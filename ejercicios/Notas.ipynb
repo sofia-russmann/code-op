{
 "cells": [
  {
   "cell_type": "code",
   "execution_count": 7,
   "metadata": {},
   "outputs": [
    {
     "name": "stdout",
     "output_type": "stream",
     "text": [
      "Hola Sofia!\n",
      "Hola Guadalupe!\n",
      "[1, 4, 9, 16, 25, 36, 49, 64, 81]\n",
      "[1, 4, 9, 16, 25, 36, 49, 64, 81]\n"
     ]
    }
   ],
   "source": [
    "my_list_of_ppl = ['Sofia', 'Guadalupe']\n",
    "for person in my_list_of_ppl:\n",
    "    print ('Hola ' + person + '!')\n",
    "\n",
    "#print(my_list_of_ppl)\n",
    "\n",
    "my_list_of_num = [1, 2, 3, 4, 5, 6, 7, 8, 9]\n",
    "my_squared_list = []\n",
    "for num in my_list_of_num:\n",
    "    my_squared_list.append(num **2)\n",
    "\n",
    "print(my_squared_list) \n",
    "\n",
    "my_list_of_num_2 = [1, 2, 3, 4, 5, 6, 7, 8, 9]\n",
    "my_squared_list_2 = [num_2**2 for num_2 in my_list_of_num_2]\n",
    "print(my_squared_list_2)"
   ]
  },
  {
   "cell_type": "code",
   "execution_count": 1,
   "metadata": {},
   "outputs": [
    {
     "name": "stdout",
     "output_type": "stream",
     "text": [
      "[20, 32, None, None, 98]\n"
     ]
    }
   ],
   "source": [
    "list_of_people = [20, 32, 12, 2, 98]\n",
    "\n",
    "def es_adult(persona):\n",
    "    if persona >= 18:\n",
    "        return persona\n",
    "    \n",
    "llista_adults = list(map(es_adult, list_of_people))\n",
    "\n",
    "print(llista_adults)"
   ]
  },
  {
   "cell_type": "code",
   "execution_count": null,
   "metadata": {},
   "outputs": [],
   "source": [
    "list_of_names = ['Ricky', 'Joan', 'Maria', 'Clara']\n",
    "\n",
    "list_with_hola = []\n",
    "for name in list_of_names:\n",
    "    list_with_hola.append(\"hola \" + name)\n",
    "    \n",
    "list_with_hola_1 = [\"hola \" + name for name in list_of_names]\n",
    "\n",
    "def add_hola(nom):\n",
    "    return \"hola \" + nom\n",
    "\n",
    "list_with_hola_2 = list(map(add_hola, list_of_names))\n",
    "\n",
    "list_with_hola_3 = list(map(lambda nom: \"hola \" + nom, list_of_names))\n",
    "\n",
    "print(list_with_hola)\n",
    "print(list_with_hola_1)\n",
    "print(list_with_hola_2)\n",
    "print(list_with_hola_3)"
   ]
  },
  {
   "cell_type": "code",
   "execution_count": 3,
   "metadata": {},
   "outputs": [
    {
     "name": "stdout",
     "output_type": "stream",
     "text": [
      "[20, 32, 98]\n",
      "[20, 32, 98]\n"
     ]
    }
   ],
   "source": [
    "list_of_people = [20, 32, 12, 2, 98]\n",
    "\n",
    "def es_adult(persona):\n",
    "    return persona >= 18\n",
    "\n",
    "llista_adults = list(filter(es_adult, list_of_people))\n",
    "llista_adults_2 = list(filter(lambda persona: persona >= 18, list_of_people))\n",
    "\n",
    "print(llista_adults)\n",
    "print(llista_adults_2)"
   ]
  },
  {
   "cell_type": "code",
   "execution_count": 4,
   "metadata": {},
   "outputs": [
    {
     "name": "stdout",
     "output_type": "stream",
     "text": [
      "18\n"
     ]
    }
   ],
   "source": [
    "from functools import reduce\n",
    "\n",
    "numbers = [0, 2, 4, 5, 7]\n",
    "\n",
    "def get_sum(num_1, num_2):\n",
    "    return num_1 + num_2\n",
    "\n",
    "result = reduce(get_sum, numbers)\n",
    "\n",
    "print(result)\n"
   ]
  },
  {
   "cell_type": "code",
   "execution_count": 1,
   "metadata": {},
   "outputs": [
    {
     "data": {
      "text/plain": [
       "[3, 3, 3]"
      ]
     },
     "execution_count": 1,
     "metadata": {},
     "output_type": "execute_result"
    }
   ],
   "source": [
    "# list comprehension\n",
    "names = ['Foo', 'Bar', 'Baz']\n",
    "\n",
    "def get_length(name):\n",
    "    return len(name)\n",
    "\n",
    "[get_length(n) for n in names]\n",
    "\n"
   ]
  },
  {
   "cell_type": "code",
   "execution_count": 11,
   "metadata": {},
   "outputs": [
    {
     "name": "stdout",
     "output_type": "stream",
     "text": [
      "[1, 4, 9, 16, 25]\n",
      "[1, 4, 9, 16, 25]\n"
     ]
    }
   ],
   "source": [
    "# map --> map(funtion_to_apply, list_of_inputs)\n",
    "\n",
    "items = [1,2,3,4,5]\n",
    "squared = []\n",
    "for i in items:\n",
    "    squared.append(i**2)\n",
    "\n",
    "print(squared)\n",
    "\n",
    "def squared_2(x):\n",
    "    return x**2\n",
    "\n",
    "squared_2=list(map(squared_2,items))\n",
    "\n",
    "print(squared_2)\n",
    "\n",
    "\n"
   ]
  },
  {
   "cell_type": "code",
   "execution_count": 14,
   "metadata": {},
   "outputs": [
    {
     "name": "stdout",
     "output_type": "stream",
     "text": [
      "25\n",
      "[1, 4, 9, 16, 25]\n"
     ]
    }
   ],
   "source": [
    "# lambda\n",
    "square_lambda = lambda x : x**2\n",
    "print(square_lambda(5))\n",
    "\n",
    "items = [1,2,3,4,5]\n",
    "squared= list(map(lambda x: x**2, items))\n",
    "print(squared)"
   ]
  },
  {
   "cell_type": "code",
   "execution_count": 18,
   "metadata": {},
   "outputs": [
    {
     "data": {
      "text/plain": [
       "['Foo', 'Baz']"
      ]
     },
     "execution_count": 18,
     "metadata": {},
     "output_type": "execute_result"
    }
   ],
   "source": [
    "# filter\n",
    "names = ['Foo', 'Bar', 'Baz']\n",
    "\n",
    "def we_like(name):\n",
    "    return name!='Bar'\n",
    "\n",
    "[n for n in names if we_like(n)]\n",
    "\n"
   ]
  },
  {
   "cell_type": "code",
   "execution_count": 20,
   "metadata": {},
   "outputs": [
    {
     "name": "stdout",
     "output_type": "stream",
     "text": [
      "[-5, -4, -3, -2, -1]\n"
     ]
    }
   ],
   "source": [
    "number_list=range(-5,5)\n",
    "less_than_zero = list(filter(lambda x:x<0, number_list))\n",
    "print(less_than_zero)"
   ]
  },
  {
   "cell_type": "code",
   "execution_count": 21,
   "metadata": {},
   "outputs": [
    {
     "data": {
      "text/plain": [
       "15"
      ]
     },
     "execution_count": 21,
     "metadata": {},
     "output_type": "execute_result"
    }
   ],
   "source": [
    "#Reduce\n",
    "\n",
    "numbers = [0,1,2,3,4,5]\n",
    "\n",
    "def get_sum(nums):\n",
    "    total = 0\n",
    "    for n in nums:\n",
    "        total += n\n",
    "    return total\n",
    "\n",
    "get_sum(numbers)"
   ]
  },
  {
   "cell_type": "code",
   "execution_count": 24,
   "metadata": {},
   "outputs": [
    {
     "name": "stdout",
     "output_type": "stream",
     "text": [
      "<function get_lowest at 0x00000184EAA5E3E0>\n"
     ]
    }
   ],
   "source": [
    "#nums = [0,1,2,3,4,5]\n",
    "\n",
    "def get_lowest(nums):\n",
    "    lowest = nums[0]\n",
    "    for n in nums:\n",
    "        if n < lowest:\n",
    "            lowest = n\n",
    "    return lowest\n",
    "\n",
    "print (get_lowest)"
   ]
  },
  {
   "cell_type": "code",
   "execution_count": 25,
   "metadata": {},
   "outputs": [
    {
     "name": "stdout",
     "output_type": "stream",
     "text": [
      "24\n"
     ]
    }
   ],
   "source": [
    "product = 1\n",
    "numbers = [1,2,3,4]\n",
    "for num in numbers:\n",
    "    product = product*num\n",
    "\n",
    "print(product)"
   ]
  },
  {
   "cell_type": "code",
   "execution_count": 27,
   "metadata": {},
   "outputs": [
    {
     "name": "stdout",
     "output_type": "stream",
     "text": [
      "120\n"
     ]
    }
   ],
   "source": [
    "from functools import reduce\n",
    "product = reduce((lambda x,y:x*y), [1,2,3,4,5])\n",
    "print(product)"
   ]
  },
  {
   "cell_type": "code",
   "execution_count": null,
   "metadata": {},
   "outputs": [],
   "source": [
    "def get_length(name):\n",
    "    return len(name)\n",
    "def we_like(name):\n",
    "    return name != 'Bar'\n",
    "def get_sum(nums):\n",
    "    total = 0\n",
    "    for n in nums:\n",
    "        total += n\n",
    "    return total\n",
    "names = ['Foo','Bar','Baz','Bar','Baz']\n",
    "lengths = [get_length(n) for n in names if we_like(n)]\n",
    "total_length = get_sum(lengths)\n"
   ]
  },
  {
   "cell_type": "code",
   "execution_count": 2,
   "metadata": {},
   "outputs": [
    {
     "name": "stdout",
     "output_type": "stream",
     "text": [
      "<class 'dict'>\n",
      "<class 'dict'>\n",
      "<class 'dict'>\n",
      "<class 'dict'>\n"
     ]
    }
   ],
   "source": [
    "#Diccionaris \n",
    "\n",
    "# list_of_grades = [\n",
    "#     ('David', 7.85),\n",
    "#     ('Carlos', 3.626),\n",
    "#     ('Jinping', 10.603),\n",
    "#     ('Luol', 9.91)\n",
    "# ]\n",
    "# dict_of_grades = {\n",
    "#     '8': 9,\n",
    "#     'Hasbulla': {'exam 1': 9, 'exam 2': 10},\n",
    "#     'David': 7.85,\n",
    "#     'Carlos': 3.626,\n",
    "#     'Jinping': 10.603,\n",
    "#     'Luol': 9.91,\n",
    "#     'Pep': 8.234,\n",
    "#     10.1: 'aixo es un num',\n",
    "#     'Boston': 'Red Sox',\n",
    "\n",
    "# }\n",
    "# MLB_team = {\n",
    "#     \"Colorado\": \"Rockies\",\n",
    "#     \"Boston\": \"Celtics\",\n",
    "#     \"Minnesota\": \"Twins\",\n",
    "# }\n",
    "\n",
    "scoreboard = [\n",
    "    {\n",
    "   'player': 'tr0llhuntah',\n",
    "   'score': 200,\n",
    "   'country': 'no',\n",
    "   'levels': ['Choco Mountain']\n",
    "    },\n",
    "   {'player': 'mUssaK4',\n",
    "   'score': 300,\n",
    "   'country': 'USA',\n",
    "   'levels': ['Choco Mountain', 'Rainbow Road', 'Foggy Swamp']\n",
    "   },\n",
    "   {'player': 'Seito99',\n",
    "   'score': 290,\n",
    "   'country': 'Georgia',\n",
    "   'levels': ['Choco Mountain', 'Rainbow Road', 'Foggy Swamp', 'Paradise Beach']\n",
    "   },\n",
    "   {'player': 'Kamacus',\n",
    "   'score': 185,\n",
    "   'country': 'Georgia',\n",
    "   'levels': ['Choco Mountain','Rainbow Road', 'Foggy Swamp']}\n",
    "   ]\n",
    "\n",
    "for element in scoreboard:\n",
    "    print(type(element))"
   ]
  },
  {
   "cell_type": "code",
   "execution_count": null,
   "metadata": {},
   "outputs": [],
   "source": []
  }
 ],
 "metadata": {
  "kernelspec": {
   "display_name": "Python 3",
   "language": "python",
   "name": "python3"
  },
  "language_info": {
   "codemirror_mode": {
    "name": "ipython",
    "version": 3
   },
   "file_extension": ".py",
   "mimetype": "text/x-python",
   "name": "python",
   "nbconvert_exporter": "python",
   "pygments_lexer": "ipython3",
   "version": "3.11.2"
  },
  "orig_nbformat": 4
 },
 "nbformat": 4,
 "nbformat_minor": 2
}
