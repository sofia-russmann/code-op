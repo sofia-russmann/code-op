{
  "cells": [
    {
      "cell_type": "markdown",
      "metadata": {
        "id": "97oi9-j09vgj"
      },
      "source": [
        "# Introducció a Python - Exercicis"
      ]
    },
    {
      "cell_type": "markdown",
      "metadata": {
        "id": "jeTb2p5V9vhJ"
      },
      "source": [
        "## 2. Variables"
      ]
    },
    {
      "cell_type": "markdown",
      "metadata": {
        "id": "k7X1cs3Z9vhJ"
      },
      "source": [
        "Quan es treballa amb codi, molt sovint esteu dissenyant un procediment (o \"algorisme\") que resol un problema de manera general. A l'apartat anterior, un dels exercicis havia de calcular el preu a l'engròs d'una pila de llibres, per a un determinat preu de llibre i un determinat nombre de llibres. El codi que vas escriure no va resoldre aquest problema per a un cas general, sinó només per al cas específic de 60 llibres amb un cost de 24,95 per llibre. Si voleu escriure codi que resolgui problemes d'una manera més general, heu d'utilitzar variables que emmagatzemen valors."
      ]
    },
    {
      "cell_type": "markdown",
      "metadata": {
        "id": "8rzK3q2p9vhJ"
      },
      "source": [
        "### Variables and values"
      ]
    },
    {
      "cell_type": "markdown",
      "metadata": {
        "id": "EZKQuRF69vhJ"
      },
      "source": [
        "Una variable és un lloc etiquetat a la memòria de l'ordinador que podeu utilitzar per emmagatzemar un valor. L'etiqueta que podeu triar vosaltres mateixos, i normalment s'anomena \"nom de la variable\".\n",
        "\n",
        "Per crear una variable (és a dir, triar el nom de la variable), heu d'\"assignar-li\" un valor. L'operador d'assignació és el símbol igual (`=`). A l'esquerra hi poseu el nom de la variable, i a la dreta hi poseu el valor que voleu emmagatzemar a la variable. Això s'il·lustra millor amb un exemple:"
      ]
    },
    {
      "cell_type": "code",
      "execution_count": null,
      "metadata": {
        "id": "_kMhdAp39vhM",
        "outputId": "e7f84302-65cc-4f95-e57d-f906b940df51"
      },
      "outputs": [
        {
          "name": "stdout",
          "output_type": "stream",
          "text": [
            "5\n"
          ]
        }
      ],
      "source": [
        "x = 5\n",
        "print(x)"
      ]
    },
    {
      "cell_type": "markdown",
      "metadata": {
        "id": "jdTC4EZg9vhM"
      },
      "source": [
        "Al bloc de codi anterior, passen dues coses. Primer, creem una variable amb el nom `x` i li donem un valor, en aquest cas `5`. Això s'anomena \"assignment\". Aleshores mostrem el contingut de la variable `x`, utilitzant `print()`. Tingueu en compte que `print()` no mostra la lletra `x`, sinó que en realitat mostra el valor que es va assignar a `x`.\n",
        "\n",
        "La variable `x` es comporta més o menys com una caixa on s'escriu una `x` amb un marcador negre gruixut per poder trobar-la més tard. Podeu posar alguna cosa a la caixa i després mirar-la per veure què hi poseu (tot i que només hi caben una cosa a la vegada). Podeu consultar el contingut de la caixa utilitzant el nom escrit a la caixa. El terme \"variable\" significa el nom de la variable, és a dir, la lletra \"x\" del quadre. El terme \"valor\" significa el valor que s'emmagatzema a la variable, és a dir, el contingut de la caixa.\n",
        "\n",
        "A la dreta de l'operador d'assignació podeu col·locar qualsevol cosa que resulti en un valor. Per tant, no cal que sigui un sol número. Pot ser, per exemple, un càlcul, una cadena o una crida a una funció que dóna lloc a un valor (com la funció `int()`)."
      ]
    },
    {
      "cell_type": "markdown",
      "metadata": {
        "id": "raFL50-Q9vhM"
      },
      "source": [
        "**Exercici**: al capítol anterior vas escriure un càlcul que determina el nombre de segons en una setmana. Copieu aquest càlcul al quadre següent, assignant-lo a \"x\". Executeu el codi."
      ]
    },
    {
      "cell_type": "code",
      "execution_count": null,
      "metadata": {
        "colab": {
          "base_uri": "https://localhost:8080/"
        },
        "id": "GNgTf-jB9vhN",
        "outputId": "ac390cb7-d2f1-48f8-f3ce-8dbfb374bfa8"
      },
      "outputs": [
        {
          "name": "stdout",
          "output_type": "stream",
          "text": [
            "604800\n"
          ]
        }
      ],
      "source": [
        "# Store in the variable x the number of seconds in a week\n",
        "x = 7*24*60*60\n",
        "print(x)"
      ]
    },
    {
      "cell_type": "markdown",
      "metadata": {
        "id": "VlnE4oUd9vhN"
      },
      "source": [
        "Quan assigneu un valor a un nom de variable al vostre programa, la primera vegada que ho feu per a un nom de variable específic, es crea la variable. Si més endavant al programa assigneu un altre valor al mateix nom de variable, aquest valor \"sobreescriu\" el valor anterior. A la metàfora de la caixa: buides la caixa i hi poses una altra cosa. Una variable sempre conté el valor que se li va assignar per darrera vegada."
      ]
    },
    {
      "cell_type": "code",
      "execution_count": null,
      "metadata": {
        "colab": {
          "base_uri": "https://localhost:8080/"
        },
        "id": "wA45A1IM9vhN",
        "outputId": "f1e84798-f5a5-40f1-83cd-5d06058bd085"
      },
      "outputs": [
        {
          "name": "stdout",
          "output_type": "stream",
          "text": [
            "5\n",
            "76\n",
            "I would like to purchase that orange inflatable beach ball and that small bucket and spade.\n",
            "-24\n"
          ]
        }
      ],
      "source": [
        "x = 5\n",
        "print(x)\n",
        "x = 7*9+13   # overwrite the previous value that was stored in x\n",
        "print(x)\n",
        "x = \"I would like to purchase that orange inflatable beach ball and that small bucket and spade.\"\n",
        "print(x)\n",
        "x = int(15/4)-27\n",
        "print(x)"
      ]
    },
    {
      "cell_type": "markdown",
      "metadata": {
        "id": "jHhy4UST9vhN"
      },
      "source": [
        "Una vegada que s'ha creat una variable (i, per tant, té un valor), podeu utilitzar-la al vostre codi on, d'altra manera, utilitzaríeu els valors. Podeu, per exemple, utilitzar-lo en càlculs."
      ]
    },
    {
      "cell_type": "code",
      "execution_count": null,
      "metadata": {
        "colab": {
          "base_uri": "https://localhost:8080/"
        },
        "id": "CtKl7LT_9vhN",
        "outputId": "43421585-af23-46ae-ffe3-1d28e5730753"
      },
      "outputs": [
        {
          "name": "stdout",
          "output_type": "stream",
          "text": [
            "x = 2\n",
            "y = 3\n",
            "x * y = 6\n",
            "x + y = 5\n"
          ]
        }
      ],
      "source": [
        "x = 2\n",
        "y = 3\n",
        "print(\"x =\", x)\n",
        "print(\"y =\", y)\n",
        "print(\"x * y =\", x * y)\n",
        "print(\"x + y =\", x + y)"
      ]
    },
    {
      "cell_type": "markdown",
      "metadata": {
        "id": "mTgFYY799vhO"
      },
      "source": [
        "Podeu copiar el contingut d'una variable a una altra utilitzant l'operador d'assignació."
      ]
    },
    {
      "cell_type": "code",
      "execution_count": null,
      "metadata": {
        "colab": {
          "base_uri": "https://localhost:8080/"
        },
        "id": "c9e8n04q9vhO",
        "outputId": "96aa62d6-28b7-4766-b0d4-d8f981868540"
      },
      "outputs": [
        {
          "name": "stdout",
          "output_type": "stream",
          "text": [
            "x = 2 and y = 3\n",
            "x = 3 and y = 2\n"
          ]
        }
      ],
      "source": [
        "x = 2\n",
        "y = 3\n",
        "print(\"x =\", x, \"and y =\", y)\n",
        "\n",
        "# We now want to swap the values of x and y.\n",
        "# We do this using a third variable z as an intermediary storage.\n",
        "\n",
        "z = 2\n",
        "x = y\n",
        "y = z\n",
        "\n",
        "print(\"x =\", x, \"and y =\", y)"
      ]
    },
    {
      "cell_type": "markdown",
      "metadata": {
        "id": "F2ei5h-19vhO"
      },
      "source": [
        "Quan assigneu alguna cosa a una variable, fins i tot podeu utilitzar la pròpia variable a la part dreta de l'operador d'assignació, sempre que s'hagi creat abans. La part dreta d'una tasca sempre s'avalua completament abans de dur a terme la tasca real."
      ]
    },
    {
      "cell_type": "code",
      "execution_count": null,
      "metadata": {
        "colab": {
          "base_uri": "https://localhost:8080/"
        },
        "id": "NOVjoEYy9vhP",
        "outputId": "d574a644-eb6f-465d-f693-932c5c6a2f1e"
      },
      "outputs": [
        {
          "name": "stdout",
          "output_type": "stream",
          "text": [
            "2\n",
            "5\n",
            "8\n"
          ]
        }
      ],
      "source": [
        "x = 2\n",
        "print(x)\n",
        "x = x + 3\n",
        "print(x)\n",
        "x += 3\n",
        "print(x)"
      ]
    },
    {
      "cell_type": "markdown",
      "metadata": {
        "id": "qIajzV_I9vhP"
      },
      "source": [
        "Tingueu en compte que s'ha de crear una variable abans de poder-la utilitzar! L'execució del codi següent produirà un error, perquè `days_in_a_year` no s'ha creat (encara) abans que l'utilitzem a la primera línia:"
      ]
    },
    {
      "cell_type": "code",
      "execution_count": null,
      "metadata": {
        "colab": {
          "base_uri": "https://localhost:8080/",
          "height": 168
        },
        "id": "9NmBRp769vhP",
        "outputId": "8f3b2321-af4b-4a7b-bb69-faff13fb2893"
      },
      "outputs": [
        {
          "ename": "NameError",
          "evalue": "ignored",
          "output_type": "error",
          "traceback": [
            "\u001b[0;31m---------------------------------------------------------------------------\u001b[0m",
            "\u001b[0;31mNameError\u001b[0m                                 Traceback (most recent call last)",
            "\u001b[0;32m<ipython-input-9-07acedd2152e>\u001b[0m in \u001b[0;36m<module>\u001b[0;34m()\u001b[0m\n\u001b[0;32m----> 1\u001b[0;31m \u001b[0mprint\u001b[0m\u001b[0;34m(\u001b[0m\u001b[0mdays_in_a_year\u001b[0m\u001b[0;34m)\u001b[0m\u001b[0;34m\u001b[0m\u001b[0;34m\u001b[0m\u001b[0m\n\u001b[0m",
            "\u001b[0;31mNameError\u001b[0m: name 'days_in_a_year' is not defined"
          ]
        }
      ],
      "source": [
        "print(days_in_a_year)"
      ]
    },
    {
      "cell_type": "markdown",
      "metadata": {
        "id": "LuXyM_u-9vhP"
      },
      "source": [
        "### Noms de variables"
      ]
    },
    {
      "cell_type": "markdown",
      "metadata": {
        "id": "i8rMu5Or9vhQ"
      },
      "source": [
        "Fins ara, només hem utilitzat variables anomenades `x`, `y` i `z` (i un error `dies_in_a_year`). Tanmateix, podeu triar els noms de les vostres variables com us agradin, sempre que seguiu unes quantes regles senzilles, a saber:\n",
        "\n",
        "- Un nom de variable només ha de constar de lletres, dígits i/o guions baixos (`_`)\n",
        "- Un nom de variable ha de començar amb una lletra o un guió baix\n",
        "- Un nom de variable no hauria de ser una paraula reservada\n",
        "\n",
        "\"Paraules reservades\" són:\n",
        "\n",
        "<div class=\"verbatim\"><pre>\n",
        "and       del       from      not       while    \n",
        "as        elif      global    or        with     \n",
        "assert    else      if        pass      yield    \n",
        "break     except    import    print              \n",
        "class     exec      in        raise              \n",
        "continue  finally   is        return             \n",
        "def       for       lambda    try</pre></div>\n",
        "\n",
        "Podeu utilitzar majúscules i minúscules en els noms de variables, però hauríeu d'adonar-vos que els noms de les variables distingeixen entre majúscules i minúscules, és a dir, la variable \"món\" no és el mateix que la variable \"Món\"."
      ]
    },
    {
      "cell_type": "markdown",
      "metadata": {
        "id": "I-9VjohM9vhQ"
      },
      "source": [
        "### Conventions"
      ]
    },
    {
      "cell_type": "markdown",
      "metadata": {
        "id": "z5kPkhY59vhQ"
      },
      "source": [
        "Es segueixen moltes convencions a l'hora d'escollir noms de variables. Els principals són els següents:\n",
        "\n",
        "- <i>Mai</i> trien noms de variables que també siguin noms de funcions (ja siguin funcions proporcionades per Python o funcions que ells mateixos hagin escrit). Si ho feu, el codi deixarà d'accedir a la funció corresponent i, aleshores, pot provocar errors força excèntrics.\n",
        "\n",
        "- S'intenten escollir noms de variables que tinguin sentit d'alguna manera per al codi. Per exemple, una variable que emmagatzema el nombre de segons en una setmana pot tenir el nom `secs_per_week`, però no el nom `i_hate_my_job`. Seria encara pitjor anomenar una variable que contingui el nombre de segons en una setmana `secs_per_month`.\n",
        "\n",
        "- Una excepció a l'elecció de noms de variables significatius és triar noms per a variables \"de llençar\", és a dir, variables que només utilitzeu en una secció molt petita del codi i que ja no són necessàries després, i que no tenen un bon significat per elles mateixes. Es solen triar un nom d'una sola lletra per a aquestes variables. Per exemple, si una variable es necessita per comptar ràpidament fins a 100, després del qual ja no és necessària, els programadors solen triar la lletra \"i\" o \"j\" per a aquesta variable.\n",
        "\n",
        "- Per evitar confusions amb majúscules i minúscules, es solen utilitzar només lletres minúscules en els noms de variables.\n",
        "\n",
        "- Si s'escull un nom de variable que consta de diverses paraules, posem un guió baix entre cadascuna de les paraules.\n",
        "\n",
        "- Mai trien noms de variables que comencen amb un guió baix. Aquests noms de variables es consideren reservats per als autors de l'intèrpret de Python.\n",
        "\n",
        "Esperem que us atengueu a aquestes convencions per al vostre propi codi. En particular, és important seguir la convenció d'escollir noms de variables significatius, perquè els noms de variables significatius fan que el codi sigui llegible i mantenible. Mireu, per exemple, el codi següent:"
      ]
    },
    {
      "cell_type": "code",
      "execution_count": null,
      "metadata": {
        "colab": {
          "base_uri": "https://localhost:8080/"
        },
        "id": "7lB_HnVj9vhQ",
        "outputId": "ff39e571-17b6-4d6b-f613-824299046472"
      },
      "outputs": [
        {
          "name": "stdout",
          "output_type": "stream",
          "text": [
            "485.96511304687505\n"
          ]
        }
      ],
      "source": [
        "a = 3.14159265\n",
        "b = 7.5\n",
        "c = 8.25\n",
        "d = a * b * b * c / 3\n",
        "print(d)"
      ]
    },
    {
      "cell_type": "markdown",
      "metadata": {
        "id": "0sl-4LSF9vhQ"
      },
      "source": [
        "Enteneu què fa aquest codi? Probablement veieu que \"a\" sembla una aproximació de pi, però què se suposa que és \"d\"?\n",
        "\n",
        "Aquest codi calcula el volum d'un con. Probablement no ho hauríeu endevinat, però això és el que fa. **Ara us demanem que canvieu el codi per calcular el volum d'un con que fa 4 metres d'alçada. Quin canvi faràs?** \n",
        "\n",
        "Si l'alçada forma part del càlcul, probablement sigui \"b\" o \"c\". Però quin és? Potser si sabeu una mica de matemàtiques i observeu el càlcul de `d`, us adoneu que `b` està al quadrat en aquest càlcul, que sembla referir-se a la base del con, que és un cercle. Així que probablement sigui `c`. Però no pots estar segur.\n",
        "\n",
        "Ara mireu el següent codi equivalent:"
      ]
    },
    {
      "cell_type": "code",
      "execution_count": null,
      "metadata": {
        "colab": {
          "base_uri": "https://localhost:8080/"
        },
        "id": "wsENcRJ59vhQ",
        "outputId": "047debf6-b8fd-4acf-d866-0e5b1e961536"
      },
      "outputs": [
        {
          "name": "stdout",
          "output_type": "stream",
          "text": [
            "485.96511304687505\n"
          ]
        }
      ],
      "source": [
        "PI = 3.14159265\n",
        "radius = 7.5\n",
        "height = 8.25\n",
        "volume_of_cone = PI * radius * radius * height / 3\n",
        "print(volume_of_cone)"
      ]
    },
    {
      "cell_type": "markdown",
      "metadata": {
        "id": "JKqSpfkX9vhQ"
      },
      "source": [
        "Això és molt més llegible, oi? Si us demanem que mireu aquest codi i expliqueu què fa, i feu el canvi sol·licitat, no dubteu a respondre.\n",
        "\n",
        "Aquest codi amb noms de variables significatius tendeix a convertir-se en \"**autodocumentant**\"; no cal afegir cap comentari perquè l'usuari entengui què fa i com ho fa. Tot i així, al codi de dalt una línia de comentari que diu:<br>\n",
        "`# càlcul del volum d'un con amb radi 7,5 i alçada 8,25`<br>\n",
        "no estaria fora de lloc."
      ]
    },
    {
      "cell_type": "markdown",
      "metadata": {
        "id": "FKppD5cf9vhR"
      },
      "source": [
        "### Constants"
      ]
    },
    {
      "cell_type": "markdown",
      "metadata": {
        "id": "HJ6kLtBG9vhR"
      },
      "source": [
        "Molts llenguatges de programació ofereixen la possibilitat de crear \"constants\", que són valors assignats a una variable que ja no es poden canviar després que el valor s'hagi assignat per primera vegada. És convenció en la majoria d'aquests idiomes que el nom d'una constant s'escriu amb totes les majúscules. Les constants poden ser útils per fer el codi més llegible. Per exemple, per calcular el total d'una factura de 24,95 EUR amb un càrrec de servei del 15%, podeu utilitzar:"
      ]
    },
    {
      "cell_type": "code",
      "execution_count": null,
      "metadata": {
        "colab": {
          "base_uri": "https://localhost:8080/"
        },
        "id": "cMR-wVky9vhR",
        "outputId": "9f96264d-fd3d-4115-f5fb-4022fce6334a"
      },
      "outputs": [
        {
          "name": "stdout",
          "output_type": "stream",
          "text": [
            "28.69\n"
          ]
        }
      ],
      "source": [
        "total = 24.95\n",
        "final_total = int(100 * total * 1.15) / 100\n",
        "print(final_total)"
      ]
    },
    {
      "cell_type": "markdown",
      "metadata": {
        "id": "Fbf-cdam9vhR"
      },
      "source": [
        "Tanmateix, és més llegible escriure:"
      ]
    },
    {
      "cell_type": "code",
      "execution_count": null,
      "metadata": {
        "id": "TfjMkGMX9vhR",
        "outputId": "8ff1ed66-be40-40ef-b8b0-8024b00230b7"
      },
      "outputs": [
        {
          "name": "stdout",
          "output_type": "stream",
          "text": [
            "28.69\n"
          ]
        }
      ],
      "source": [
        "SERVICE_CHARGE = 1.15\n",
        "CENTS_IN_EURO = 100\n",
        "\n",
        "total = 24.95\n",
        "final_total = int(CENTS_IN_EURO * total * SERVICE_CHARGE) / CENTS_IN_EURO\n",
        "print(final_total)"
      ]
    },
    {
      "cell_type": "markdown",
      "metadata": {
        "id": "ALyzW2io9vhR"
      },
      "source": [
        "No només és més llegible, sinó que també fa que el codi sigui més fàcil de canviar si el càrrec del servei es calcula de manera diferent en el futur. Especialment si el càrrec de servei es produeix al codi diverses vegades, si només es defineix una vegada com a constant a la part superior del codi, es pot trobar i canviar fàcilment. \n",
        "\n",
        "Tot i que les constants són molt útils per a finalitats de codificació, Python no les admet (la qual cosa és una llàstima), és a dir, en el codi anterior `SERVICE_CHARGE` és una variable normal i es pot canviar a qualsevol part del codi. Tot i així, és convenció que qualsevol variable que s'escriu amb totes les majúscules se <i>suposa</i> que és una constant i que <i>no</i> s'ha de canviar al codi, després d'haver obtingut el seu valor inicial a la part superior del codi."
      ]
    },
    {
      "cell_type": "markdown",
      "metadata": {
        "id": "qCnKb4Q69vhS"
      },
      "source": [
        "### Soft typing"
      ]
    },
    {
      "cell_type": "markdown",
      "metadata": {
        "id": "9sWozkli9vhS"
      },
      "source": [
        "Totes les variables tenen un tipus de dades. En molts llenguatges de programació, el tipus de variable es dóna quan es crea per primera vegada. Per exemple, en C++, quan creeu una variable, declareu el tipus al davant, per exemple:\n",
        "\n",
        "`int secs_per_week = 7 * 24 * 60 * 60;`\n",
        "\n",
        "Això s'anomena \"hard typing\" i té l'avantatge que si creeu una variable que voleu que sigui d'un tipus determinat, però després li assigneu un valor d'un altre tipus, el programa pot anunciar que heu comès un error. Això evita alguns errors molestos que es poden produir.\n",
        "\n",
        "A Python, no \"declareu\" el tipus d'una variable, però una variable encara té un tipus, és a dir, el tipus del valor que se li va assignar per darrera vegada. Això implica que si assigneu un valor nou a una variable, el seu tipus pot canviar. Això s'anomena \"soft typing\".\n",
        "\n",
        "Els tipus que heu vist fins ara són enters, float i string. Podeu utilitzar la funció `type()` per veure quin és el tipus d'una variable."
      ]
    },
    {
      "cell_type": "code",
      "execution_count": null,
      "metadata": {
        "colab": {
          "base_uri": "https://localhost:8080/"
        },
        "id": "r62EaPzZ9vhS",
        "outputId": "72aed386-6501-47f1-bd82-ce30653c5945"
      },
      "outputs": [
        {
          "name": "stdout",
          "output_type": "stream",
          "text": [
            "<class 'int'>\n",
            "<class 'float'>\n",
            "<class 'str'>\n"
          ]
        }
      ],
      "source": [
        "a = 3\n",
        "print(type(a))\n",
        "a = 3.0\n",
        "print(type(a))\n",
        "a = \"3.0\"\n",
        "print(type(a))"
      ]
    },
    {
      "cell_type": "markdown",
      "metadata": {
        "id": "o5eVogKx9vhS"
      },
      "source": [
        "Com que les variables tenen un tipus, l'efecte dels operadors pot canviar segons els tipus de variables implicades. Per exemple, en el codi següent, l'operador d'addició (`+`) s'utilitza dues vegades, però el seu efecte canvia a causa dels tipus de variables implicades."
      ]
    },
    {
      "cell_type": "code",
      "execution_count": 2,
      "metadata": {
        "colab": {
          "base_uri": "https://localhost:8080/"
        },
        "id": "OQo7Jmv69vhT",
        "outputId": "077978bb-00e8-4982-dc0e-2819e373daa9"
      },
      "outputs": [
        {
          "name": "stdout",
          "output_type": "stream",
          "text": [
            "5\n",
            "14\n"
          ]
        },
        {
          "ename": "TypeError",
          "evalue": "unsupported operand type(s) for +: 'int' and 'str'",
          "output_type": "error",
          "traceback": [
            "\u001b[1;31m---------------------------------------------------------------------------\u001b[0m",
            "\u001b[1;31mTypeError\u001b[0m                                 Traceback (most recent call last)",
            "Cell \u001b[1;32mIn[2], line 7\u001b[0m\n\u001b[0;32m      5\u001b[0m \u001b[39mprint\u001b[39m(a \u001b[39m+\u001b[39m b)\n\u001b[0;32m      6\u001b[0m \u001b[39mprint\u001b[39m(c \u001b[39m+\u001b[39m d)\n\u001b[1;32m----> 7\u001b[0m \u001b[39mprint\u001b[39m(a \u001b[39m+\u001b[39;49m c)\n",
            "\u001b[1;31mTypeError\u001b[0m: unsupported operand type(s) for +: 'int' and 'str'"
          ]
        }
      ],
      "source": [
        "a = 1\n",
        "b = 4\n",
        "c = \"1\"\n",
        "d = \"4\"\n",
        "print(a + b)\n",
        "print(c + d)\n",
        "print(a + c)"
      ]
    },
    {
      "cell_type": "markdown",
      "metadata": {
        "id": "-b9kKnBt9vhT"
      },
      "source": [
        "Com que \"a\" i \"b\" són tots dos nombres, per a \"a + b\" l'operador d'addició és una suma numèrica. Com que \"c\" i \"d\" són ambdues cadenes, l'operador d'addició per a \"c + d\" és la concatenació de la cadena.\n",
        "\n",
        "**Exercici**: al codi anterior, què passaria si proveu d'imprimir `a + c`? Si no ho saps, prova-ho."
      ]
    },
    {
      "cell_type": "markdown",
      "metadata": {
        "id": "KhvWldgI9vhT"
      },
      "source": [
        "### Shorthand operators"
      ]
    },
    {
      "cell_type": "markdown",
      "metadata": {
        "id": "9f5y7M_q9vhU"
      },
      "source": [
        "Mitjançant els operadors que heu après anteriorment, podeu canviar les variables del vostre codi tantes vegades com vulgueu. Podeu assignar nous valors a variables existents. Molt sovint, voleu fer canvis a les variables existents. Per exemple, és comú al codi que vulgueu afegir 1 a un número (esbrinaràs per què en un capítol posterior). Com que això passa amb força freqüència, Python ofereix una notació abreujada per tractar els canvis a les variables.\n",
        "\n",
        "El codi següent:"
      ]
    },
    {
      "cell_type": "code",
      "execution_count": null,
      "metadata": {
        "id": "9pOnWwV89vhU",
        "outputId": "1ea0bc16-e82d-4347-a3f5-8ca336b191c9"
      },
      "outputs": [
        {
          "name": "stdout",
          "output_type": "stream",
          "text": [
            "101\n"
          ]
        }
      ],
      "source": [
        "number_of_bananas = 100\n",
        "number_of_bananas = number_of_bananas + 1\n",
        "print(number_of_bananas)"
      ]
    },
    {
      "cell_type": "markdown",
      "metadata": {
        "id": "HKuRNzP59vhX"
      },
      "source": [
        "és equivalent a:"
      ]
    },
    {
      "cell_type": "code",
      "execution_count": null,
      "metadata": {
        "id": "Z5OO6GVt9vhX",
        "outputId": "da596a7c-c71c-4411-b711-0cd3301159e7"
      },
      "outputs": [
        {
          "name": "stdout",
          "output_type": "stream",
          "text": [
            "101\n"
          ]
        }
      ],
      "source": [
        "number_of_bananas = 100\n",
        "number_of_bananas += 1 \n",
        "print( number_of_bananas )"
      ]
    },
    {
      "cell_type": "markdown",
      "metadata": {
        "id": "yaHuun8Q9vhX"
      },
      "source": [
        "La diferència està en la segona línia. Si voleu afegir alguna cosa a una variable, podeu escriure `+=` com a operador d'assignació i a la part dreta de `+=` la cosa que voleu afegir a la variable. Això us estalvia la molèstia de repetir el nom de la variable a la part dreta i tendeix a fer que el vostre codi sigui més llegible (perquè els programadors esperen que codifiqueu \"afegir alguna cosa a una variable existent\" amb l'operador `+=`).\n",
        "\n",
        "De manera similar a l'operador `+=`, podeu utilitzar `-=` per restar alguna cosa d'una variable, `*=` per multiplicar una variable per alguna cosa, `/=` per dividir una variable per alguna cosa, `**=` per elevar una variable a una potència, i `%=` per convertir una variable en si mateixa mòdul del costat dret. La majoria d'aquests són poc comuns, excepte el `+=`, que s'utilitza molt, i el `-=`, que s'utilitza ocasionalment.\n",
        "\n",
        "**Exercici**: què mostrarà el codi que es mostra a continuació? Executeu-lo per veure si teniu raó."
      ]
    },
    {
      "cell_type": "code",
      "execution_count": null,
      "metadata": {
        "id": "0cUWYYHY9vhX",
        "outputId": "fba6986e-924b-4701-f86e-63d65a5805fe"
      },
      "outputs": [
        {
          "name": "stdout",
          "output_type": "stream",
          "text": [
            "1.0\n"
          ]
        }
      ],
      "source": [
        "number_of_bananas = 100\n",
        "number_of_bananas += 12\n",
        "number_of_bananas -= 13\n",
        "number_of_bananas *= 19\n",
        "number_of_bananas /= number_of_bananas\n",
        "print(number_of_bananas)"
      ]
    },
    {
      "cell_type": "markdown",
      "metadata": {
        "id": "EK4ZBp5c9vhY"
      },
      "source": [
        "### Commentaris"
      ]
    },
    {
      "cell_type": "markdown",
      "metadata": {
        "id": "V3eTelgZ9vhY"
      },
      "source": [
        "Els comentaris són textos en codi que Python ignora, però que expliquen parts del codi. Els comentaris no només són útils per a altres persones que poden necessitar utilitzar o canviar el vostre codi, sinó també per a vosaltres mateixos, ja que és possible que hàgiu de canviar el vostre propi codi algun temps després d'haver-lo escrit i potser no recordeu exactament què heu fet.\n",
        "\n",
        "Hi ha dues maneres principals d'incloure comentaris al codi Python. El primer és utilitzar una marca hash (`#`), que converteix tot a la dreta de la marca hash a la línia en comentari (per descomptat, això només és el cas si la marca hash no forma part d'una cadena). El segon és utilitzar cometes dobles triples o cometes simples triples per indicar l'inici i el final d'algun comentari, que es pot estendre en diverses línies.\n",
        "\n",
        "Obteniu més informació sobre els comentaris estudiant el codi següent."
      ]
    },
    {
      "cell_type": "code",
      "execution_count": null,
      "metadata": {
        "colab": {
          "base_uri": "https://localhost:8080/"
        },
        "id": "BisE7w6J9vhY",
        "outputId": "ef6440b8-cd67-4eee-932d-cade18d2cd6f"
      },
      "outputs": [
        {
          "name": "stdout",
          "output_type": "stream",
          "text": [
            "Something...\n",
            "and something else..\n",
            "Done.\n"
          ]
        }
      ],
      "source": [
        "# comment: insert your code here.\n",
        "# BTW: Have you noticed that everything behind the hashtag \n",
        "print( \"Something...\" ) # on a line is ignored by your python interpreter?\n",
        "print( \"and something else..\" ) # this is really helpful to comment on your code!\n",
        "\"\"\"Another way\n",
        "of commenting on your code is via \n",
        "triple quotes -- these can be distributed over multiple \"\"\" # lines\n",
        "'''which can also be done\n",
        "with single quotes''' # but be careful with there being quotes IN your comments\n",
        "# when you use this multi-line method\n",
        "print( \"Done.\" )"
      ]
    },
    {
      "cell_type": "markdown",
      "metadata": {
        "id": "Hk6nZ6I09vhZ"
      },
      "source": [
        "### El que has après"
      ]
    },
    {
      "cell_type": "markdown",
      "metadata": {
        "id": "4UzaZCCU9vhZ"
      },
      "source": [
        "En aquesta secció, heu après:\n",
        "- Quines són les variables\n",
        "- Assignació d'un valor a una variable\n",
        "- Noms legals de variables\n",
        "- Bons noms per a variables\n",
        "- Soft typing\n",
        "- Sentències abreujades per canviar els valors de les variables\n",
        "- Comentari del codi"
      ]
    },
    {
      "cell_type": "markdown",
      "metadata": {
        "id": "Whvm2fry9vhZ"
      },
      "source": [
        "**Exercici 2.1:** Definiu tres variables `var1`, `var2` i `var3`. Calculeu la mitjana d'aquestes variables i assigneu-la a \"mitjana\". Imprimeix la mitjana. Afegeix tres comentaris."
      ]
    },
    {
      "cell_type": "code",
      "execution_count": 5,
      "metadata": {
        "id": "NMqOSX8t3ptN"
      },
      "outputs": [
        {
          "name": "stdout",
          "output_type": "stream",
          "text": [
            "8.666666666666666\n"
          ]
        }
      ],
      "source": [
        "# Declaro las variables\n",
        "var1 = 7\n",
        "var2 = 10\n",
        "var3 = 9\n",
        "# Declaro la variable mitjana\n",
        "mitjana = (var1 + var2 + var3) / 3\n",
        "# Devuelvo el valor de la mitjana\n",
        "print(mitjana)"
      ]
    },
    {
      "cell_type": "markdown",
      "metadata": {
        "id": "j1WPcF0E9vha"
      },
      "source": [
        "**Exercici 2.2 (opcional):** Escriu codi que classifica una quantitat determinada de diners (per exemple, 120 unitats monetaries) (que emmagatzemes en una variable `import`), especificada en cèntims, com a unitats monetàries més grans. El vostre codi mostra l'equivalent monetari en dòlars (100 ct), quarts (25 ct), dimes (10 ct), níquels (5 ct) i cèntims (1 ct). \n",
        "\n",
        "El vostre programa hauria d'informar del nombre màxim de dòlars que s'ajusten a la quantitat, després del nombre màxim de quarts els diners restants, a continuació, del nombre màxim de \"dimes\" que s'ajusten a la resta després de restar els dòlars i els quarts, i així successivament per níquels i cèntims. \n",
        "\n",
        "El resultat és que expresseu la quantitat amb el nombre mínim de monedes necessàries.\n",
        "\n",
        "Exemple:\n",
        "\n",
        "```\n",
        "Valor de entrada :  \n",
        "* 120 \n",
        "\n",
        "Resulta en: \n",
        "\n",
        "* Total coin/s: 3 \n",
        "From which: 1 dollar/s, 0 quarter/s, 2 dime/s, 0 nickel/s, and 0 pennie/s.\n",
        "\n",
        "```\n",
        "\n"
      ]
    }
  ],
  "metadata": {
    "colab": {
      "provenance": []
    },
    "kernelspec": {
      "display_name": "Python 3",
      "language": "python",
      "name": "python3"
    },
    "language_info": {
      "codemirror_mode": {
        "name": "ipython",
        "version": 3
      },
      "file_extension": ".py",
      "mimetype": "text/x-python",
      "name": "python",
      "nbconvert_exporter": "python",
      "pygments_lexer": "ipython3",
      "version": "3.11.2"
    }
  },
  "nbformat": 4,
  "nbformat_minor": 0
}
