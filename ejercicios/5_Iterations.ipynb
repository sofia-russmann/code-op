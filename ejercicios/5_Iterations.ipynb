{
 "cells": [
  {
   "cell_type": "markdown",
   "metadata": {
    "id": "boGvTu2n9vh0"
   },
   "source": [
    "## 5. Iterations"
   ]
  },
  {
   "cell_type": "markdown",
   "metadata": {
    "id": "Et108MT_9vh0"
   },
   "source": [
    "Els ordinadors no s'avorreixen. Si voleu que l'ordinador repeteixi una tasca determinada centenars de milers de vegades, no protesta. Els humans odien massa repeticions. Per tant, les tasques repetitives haurien de ser realitzades per ordinadors. Tots els llenguatges de programació admeten repeticions. La classe general de constructes de programació que permeten la definició de repeticions s'anomenen \"iteracions\". Un terme encara més comú per a aquestes tasques és \"bucles\".\n",
    "\n",
    "Aquesta secció explica tot el que necessiteu saber sobre els bucles a Python. Assegureu-vos de dedicar-vos el vostre temps a aquesta secció i treballeu-hi fins que l'enteneu completament. Els bucles són un concepte tan bàsic en la programació que cal entendre'ls en tots els seus detalls. Cada secció després d'aquesta necessita bucles."
   ]
  },
  {
   "cell_type": "markdown",
   "metadata": {
    "id": "lTNrovhX9vh0"
   },
   "source": [
    "### `while` loop"
   ]
  },
  {
   "cell_type": "markdown",
   "metadata": {
    "id": "_rYTS2rt9vh1"
   },
   "source": [
    "Suposem que voleu imprimir els cinc primers múltiples del número 23. Amb el material de la secció anterior, ho programaríeu de la següent manera:"
   ]
  },
  {
   "cell_type": "code",
   "execution_count": null,
   "metadata": {
    "id": "DQ7ITdQQ9vh1",
    "outputId": "7fa4c26e-4abd-45aa-b09e-712f404551f7"
   },
   "outputs": [
    {
     "name": "stdout",
     "output_type": "stream",
     "text": [
      "23\n",
      "46\n",
      "69\n",
      "92\n",
      "115\n"
     ]
    }
   ],
   "source": [
    "print(1 * 23)\n",
    "print(2 * 23)\n",
    "print(3 * 23)\n",
    "print(4 * 23)\n",
    "print(5 * 23)"
   ]
  },
  {
   "cell_type": "markdown",
   "metadata": {
    "id": "rjJz0m549vh1"
   },
   "source": [
    "Però, i si volem que imprimiu els primers 500 múltiples? Creeu un bloc de codi de més de 500 línies? Segur que hi ha d'haver una manera més fàcil de fer-ho?\n",
    "\n",
    "És clar que n'hi ha. Podeu utilitzar un bucle per fer-ho.\n",
    "\n",
    "El primer bucle que aprendràs és el bucle `while`. Una sentència `while` és bastant semblant a una sentència `if`. La sintaxi és:\n",
    "\n",
    "    while <boolean expression>:\n",
    "        <statements>\n",
    "\n",
    "Igual que una sentència `if`, la sentència `while` prova una expressió booleana, i si l'expressió s'avalua com a `True`, executa el bloc de codi que hi ha a sota. Tanmateix, contràriament a la declaració `if`, un cop finalitzat el bloc de codi, el codi torna a \"loop\" a l'expressió booleana per provar-ho de nou. Si encara s'avalua com a `True`, el bloc de codi que hi ha a sota s'executa una vegada més. I després d'haver acabat, torna enrere, i una altra vegada, i una altra vegada...\n",
    "\n",
    "Nota: si l'expressió booleana s'avalua immediatament com a `False`, aleshores el bloc de codi que hi ha a sota de `while` s'omet completament, igual que amb una instrucció `if`."
   ]
  },
  {
   "cell_type": "markdown",
   "metadata": {
    "id": "BSnG3em29vh1"
   },
   "source": [
    "### Bucle `while`, primer exemple"
   ]
  },
  {
   "cell_type": "markdown",
   "metadata": {
    "id": "34-wy2hb9vh1"
   },
   "source": [
    "Prenguem un exemple senzill: volem escriure una funció que imprimeixi els números de l'1 al 5. Amb un bucle `while`, això es pot fer de la següent manera:"
   ]
  },
  {
   "cell_type": "code",
   "execution_count": 4,
   "metadata": {
    "colab": {
     "base_uri": "https://localhost:8080/"
    },
    "id": "KojtDr-v9vh1",
    "outputId": "d6bed200-5583-4a2c-8324-63628b07fd11"
   },
   "outputs": [
    {
     "name": "stdout",
     "output_type": "stream",
     "text": [
      "1\n",
      "True\n",
      "2\n",
      "True\n",
      "3\n",
      "True\n",
      "4\n",
      "False\n",
      "Done\n"
     ]
    }
   ],
   "source": [
    "def print_1to5():                                    \n",
    "    num = 1\n",
    "    while (num < 5):\n",
    "        print(num)\n",
    "        num += 1\n",
    "        print(num < 5)\n",
    "    print(\"Done\")\n",
    "    \n",
    "print_1to5()"
   ]
  },
  {
   "cell_type": "markdown",
   "metadata": {
    "id": "UOrTMG0W9vh1"
   },
   "source": [
    "És crucial que entenguis aquest codi, així que anem a parlar-ne pas a pas.\n",
    "\n",
    "La primera línia de la funció inicialitza una variable `num`. Aquesta és la variable que imprimirà el codi, de manera que s'inicialitza a `1`, ja que `1` és el primer valor que s'ha d'imprimir.\n",
    "\n",
    "Aleshores comença el bucle `while`. L'expressió booleana diu `num <= 5`. Com que `num` és `1`, i `1` és realment més petit que (o igual a) `5`, l'expressió booleana s'avalua com a `True`. Per tant, s'executa el bloc de codi sota el `while`.\n",
    "\n",
    "La primera línia del bloc de codi a sota del `while` imprimeix el valor de `num`, que és `1`. La segona línia afegeix `1` al valor de `num`, la qual cosa fa que `num` mantingui el valor `2`. A continuació, el codi torna a l'expressió booleana (és a dir, l'última línia del codi, la impressió de \"Done\", no s'executa perquè no forma part del bucle i el bucle encara no s'ha acabat).\n",
    "\n",
    "Com que `num` és `2`, l'expressió booleana encara s'avalua com a `True`. El bloc de codi s'executa una vegada més. Es mostra `2`, `num` obté el valor `3` i el codi torna a l'expressió booleana.\n",
    "\n",
    "Com que `num` és `3`, l'expressió booleana encara s'avalua com a `True`. El bloc de codi s'executa una vegada més. Es mostra `3`, `num` obté el valor `4` i el codi torna a l'expressió booleana.\n",
    "\n",
    "Com que `num` és `4`, l'expressió booleana encara s'avalua com a `True`. El bloc de codi s'executa una vegada més. Es mostra `4`, `num` obté el valor `5` i el codi torna a l'expressió booleana.\n",
    "\n",
    "Com que `num` és `5`, l'expressió booleana encara s'avalua com a `True` (perquè `5 <= 5`). El bloc de codi s'executa una vegada més. Es mostra `5`, `num` obté el valor `6` i el codi torna a l'expressió booleana.\n",
    "\n",
    "Com que `num` és `6`, l'expressió booleana ara s'avalua com a `False` (perquè `6` és més gran que `5`). Per tant, el bloc de codi es salta i el codi continua amb la primera línia per sota del bloc de codi, que és l'última línia del codi. S'imprimeix la paraula \"Fet\" i el codi acaba.\n",
    "\n",
    "**Exercici**: canvieu el codi anterior perquè la funció imprimeixi els números 1, 3, 5, 7 i 9."
   ]
  },
  {
   "cell_type": "code",
   "execution_count": null,
   "metadata": {
    "id": "0I14THQLXFhf"
   },
   "outputs": [],
   "source": []
  },
  {
   "cell_type": "markdown",
   "metadata": {
    "id": "7QzESwAo9vh2"
   },
   "source": [
    "### Bucle `while`, segon exemple"
   ]
  },
  {
   "cell_type": "markdown",
   "metadata": {
    "id": "YVjk1e9R9vh2"
   },
   "source": [
    "Si enteneu el primer exemple, probablement també entendreu com imprimir els cinc primers múltiples de 23. Això s'implementa de la següent manera:"
   ]
  },
  {
   "cell_type": "code",
   "execution_count": null,
   "metadata": {
    "colab": {
     "base_uri": "https://localhost:8080/"
    },
    "id": "vpDwPAcP9vh2",
    "outputId": "710f2ecc-8553-452f-860a-27475ba4f3aa"
   },
   "outputs": [
    {
     "name": "stdout",
     "output_type": "stream",
     "text": [
      "23\n",
      "46\n",
      "69\n",
      "92\n",
      "115\n",
      "Done\n"
     ]
    }
   ],
   "source": [
    "def print_23multiples():\n",
    "    count = 1\n",
    "    while count <= 5:\n",
    "        print(count*23)\n",
    "        count += 1\n",
    "    print(\"Done\")\n",
    "\n",
    "print_23multiples()"
   ]
  },
  {
   "cell_type": "markdown",
   "metadata": {
    "id": "Cv-fkQu89vh2"
   },
   "source": [
    "Estudieu aquest codi de prop. La variable `count` s'utilitza per comptar la freqüència amb què el codi ha passat pel bucle. Com que el bucle s'ha de fer cinc vegades, `count` s'inicia a `1` i l'expressió booleana del bucle continua fins que `count` és superior a `5`. Així, en el bucle, el \"compte\" augmenta en \"1\" al final de cada cicle a través del bucle.\n",
    "\n",
    "També podem escriure la funció de la següent manera:"
   ]
  },
  {
   "cell_type": "code",
   "execution_count": null,
   "metadata": {
    "colab": {
     "base_uri": "https://localhost:8080/"
    },
    "id": "Y2cdz6k59vh3",
    "outputId": "9232a323-7d2d-4b6a-997c-33e5396d359b"
   },
   "outputs": [
    {
     "name": "stdout",
     "output_type": "stream",
     "text": [
      "23\n",
      "46\n",
      "69\n",
      "92\n",
      "115\n",
      "Done\n"
     ]
    }
   ],
   "source": [
    "def print_23multiples():\n",
    "    count = 0\n",
    "    total = 0\n",
    "    while count < 5:\n",
    "        count += 1\n",
    "        total += (count*23)\n",
    "        print(count*23)  \n",
    "    print(\"Done\")\n",
    "\n",
    "print_23multiples()"
   ]
  },
  {
   "cell_type": "markdown",
   "metadata": {
    "id": "Qd4qHd_c9vh3"
   },
   "source": [
    "Potser us preguntareu per què `count` s'inicia a `0` i l'expressió booleana comprova si `count < 5`. Per què no inicieu `compte` a `1` i comproveu si `compte <= 5`? El motiu és la convenció: s'acostuma a iniciar els índexs a `0`, i si estem comptant, compten \"fins al nombre però sense incloure\". Quan continueu amb la programació, trobareu que la majoria del codi s'adhereix a aquesta convenció. La majoria de construccions de programació estàndard que utilitzen índexs o compten coses també apliquen aquesta convenció. Per tant, és una bona idea acostumar-se a aquesta convenció, ja que facilita la lectura del codi.\n",
    "\n",
    "Nota: la variable `count` és el que els programadors anomenen \"variable de llençar\". El seu únic propòsit és comptar amb quina freqüència s'ha recorregut el bucle, i no té cap significat real abans o després del bucle. Els programadors solen triar un nom de variable d'un sol caràcter per a aquesta variable, normalment  `i` o `j`. En aquest exemple hem escollit el nom `count` perquè és il·lustratiu del que fa la variable per al codi, però un nom d'un sol caràcter per a aquesta variable hauria estat acceptable.\n",
    "\n",
    "**Exercici**: canvieu el bloc de codi anterior perquè la funció també imprimeixi el total i la mitjana dels cinc nombres."
   ]
  },
  {
   "cell_type": "markdown",
   "metadata": {
    "id": "74QkoyYq9vh3"
   },
   "source": [
    "### Endless loops"
   ]
  },
  {
   "cell_type": "markdown",
   "metadata": {
    "id": "nxzQIrXi9vh3"
   },
   "source": [
    "Se suposa que el codi següent ha de començar al número 1 i sumar números, fins que es troba amb un nombre que, quan es quadra, es pot dividir per 1000. El codi conté, però, un error. Mireu si podeu detectar-lo (sense executar el codi!)."
   ]
  },
  {
   "cell_type": "code",
   "execution_count": null,
   "metadata": {
    "id": "VMWtUmBW9vh3"
   },
   "outputs": [],
   "source": [
    "number = 1\n",
    "total = 0\n",
    "while(number * number) % 1000 != 0:\n",
    "    print(total)\n",
    "    total += number\n",
    "    break # comment this to see the infinite loop in action (not recommended)\n",
    "print(\"Total is\", total)\n"
   ]
  },
  {
   "cell_type": "markdown",
   "metadata": {
    "id": "8dfT9hP-9vh6"
   },
   "source": [
    "L'encapçalament d'aquesta subsecció us ha donat la resposta, és clar: aquest codi conté un bucle que mai acaba. Si l'executeu, sembla que el programa \"es penja\", és a dir, s'asseu allà i no fa res. En realitat és molt actiu, però està en una addició sense fi. `number` comença a `1`, i mai s'incrementa en el bucle, de manera que l'expressió booleana sempre serà `True`. Això s'anomena \"bucle sense fi\", i és l'únic gran perill en utilitzar bucles `while`.\n",
    "\n",
    "Si heu executat aquest codi, podeu anar al menú \"kernel\" i triar \"Interrupció\". Si heu executat el codi sense modificacions, ho haureu de fer.\n",
    "\n",
    "Si no heu detectat que aquest és un exemple de bucle sense fi, potser haureu vist què passava si haguéssim escrit codi que imprimeixi alguna cosa al bucle. Malauradament, els navegadors acostumen a no gestionar bé els quaderns que imprimeixen moltes coses, i probablement necessitareu un reinici de l'ordinador, o almenys l'apagament del navegador mitjançant un gestor de tasques, per resoldre el problema.\n",
    "\n",
    "Com que cada programador escriu de tant en tant bucles interminables per accident, és una bona pràctica quan programeu un bucle afegir immediatament una instrucció a un bucle que faci un canvi que es prova a l'expressió booleana, de manera que no us oblideu.\n",
    "\n",
    "**Exercici**: corregeix el codi anterior perquè ja no sigui un bucle sense fi."
   ]
  },
  {
   "cell_type": "markdown",
   "metadata": {
    "id": "T6oan1xs9vh6"
   },
   "source": [
    "### Exercicis de pràctica de bucle `while`"
   ]
  },
  {
   "cell_type": "markdown",
   "metadata": {
    "id": "g0LFdL0B9vh6"
   },
   "source": [
    "Ara hauríeu de practicar una mica amb bucles `while` senzills.\n",
    "\n",
    "**Exercici**: al bloc de codi següent, escriviu una funció de compte enrere. Pren un paràmetre enter `count`, i compta enrere fins a zero, imprimint cada nombre que troba (per exemple, 10, 9, 8, ...). No imprimeix `0`, en lloc d'imprimir \"Blast off!\"."
   ]
  },
  {
   "cell_type": "code",
   "execution_count": null,
   "metadata": {
    "colab": {
     "base_uri": "https://localhost:8080/"
    },
    "id": "piPMT5An9vh6",
    "outputId": "effe6f56-e464-45d8-b266-9ce19f5e7417"
   },
   "outputs": [
    {
     "name": "stdout",
     "output_type": "stream",
     "text": [
      "10\n",
      "9\n",
      "8\n",
      "7\n",
      "6\n",
      "5\n",
      "4\n",
      "3\n",
      "2\n",
      "1\n",
      "Blast off!\n"
     ]
    }
   ],
   "source": [
    "# Countdown\n",
    "def CountDown(count):\n",
    "  return\n",
    "\n",
    "CountDown(10)"
   ]
  },
  {
   "cell_type": "markdown",
   "metadata": {
    "id": "Op-i0Qu59vh6"
   },
   "source": [
    "**Exercici (opcional)**: el factorial d'un nombre enter positiu és aquest nombre sencer, multiplicat per tots els nombres enters positius que són inferiors (excepte zero). Escriu el factorial com el nombre amb un signe d'exclamació després. Per exemple, el factorial de 5 és `5! = 5 * 4 * 3 * 2 * 1 = 120`. Escriu una funció que calculi el factorial del seu paràmetre (número enter). Proveu la vostra funció per a diferents valors de paràmetre, però no feu servir nombres molt grans ja que els factorials creixen exponencialment. Consell: per fer-ho amb un bucle `while`, necessiteu almenys una variable més."
   ]
  },
  {
   "cell_type": "code",
   "execution_count": null,
   "metadata": {
    "id": "fJr8TFEsnCPN"
   },
   "outputs": [],
   "source": [
    "# Factorial\n",
    "def factorial(n):\n",
    "    return \n",
    "\n",
    "print(factorial(10))"
   ]
  },
  {
   "cell_type": "markdown",
   "metadata": {
    "id": "pTiUE-Sl9vh6"
   },
   "source": [
    "### `for` loop"
   ]
  },
  {
   "cell_type": "markdown",
   "metadata": {
    "id": "7F4czuoI9vh6"
   },
   "source": [
    "Una forma alternativa d'implementar bucles és utilitzar un bucle `for`. Els bucles `for` solen ser més fàcils i segurs d'utilitzar que els bucles `while`, però no es poden aplicar a tots els problemes d'iteració. Els bucles `while` són més generals. En altres paraules, tot el que pot fer un bucle `for`, un bucle `while` també ho pot fer, però no al revés.\n",
    "\n",
    "La sintaxi d'un bucle `for` és la següent:\n",
    "\n",
    "    for <variable> in <collection>:\n",
    "        <statements>\n",
    "\n",
    "Un bucle `for` es presenta amb una col·lecció d'elements, i els processarà, en ordre, un per un. Cada cicle del bucle posarà un element a la variable que es dóna al costat de `for` i després es pot utilitzar al bloc de codi sota el `for`. La variable *no* necessita que existeixi abans que es trobi el bucle `for`. Si ho fa, es sobreescriu. És una variable real, per cert, en el sentit que encara existeix després que el bucle hagi acabat. Contindrà l'últim valor que s'ha assignat durant el processament del bucle.\n",
    "\n",
    "Arribats a aquest punt us podeu preguntar què és una \"col·lecció\". Hi ha molts tipus diferents de col·leccions a Python, i en aquesta secció n'introduirem algunes. En seccions posteriors es parlaran de les col·leccions amb més detall."
   ]
  },
  {
   "cell_type": "markdown",
   "metadata": {
    "id": "u6AMIg4C9vh6"
   },
   "source": [
    "### Bucle `for` amb cadenes"
   ]
  },
  {
   "cell_type": "markdown",
   "metadata": {
    "id": "tPz5V7iN9vh7"
   },
   "source": [
    "L'única col·lecció introduïda fins ara és la cadena. Una cadena és una col·lecció de caràcters, per exemple, la cadena \"plàtan\" és una col·lecció dels caràcters \"b\", \"a\", \"n\", \"a\", \"n\" i \"a\", en aquest ordre específic. El codi següent passa per cadascuna d'aquestes lletres:"
   ]
  },
  {
   "cell_type": "code",
   "execution_count": null,
   "metadata": {
    "colab": {
     "base_uri": "https://localhost:8080/"
    },
    "id": "pSrUp8uw9vh7",
    "outputId": "bc91b64e-e17e-40e8-be22-2f660a911813"
   },
   "outputs": [
    {
     "name": "stdout",
     "output_type": "stream",
     "text": [
      "b\n",
      "a\n",
      "n\n",
      "a\n",
      "n\n",
      "a\n",
      "Done\n"
     ]
    }
   ],
   "source": [
    "for letter in \"banana\":\n",
    "    print(letter)\n",
    "print(\"Done\")"
   ]
  },
  {
   "cell_type": "markdown",
   "metadata": {
    "id": "9lJgNep79vh7"
   },
   "source": [
    "Tot i que aquest codi és bastant trivial, anem a repassar-lo pas a pas.\n",
    "\n",
    "Quan es troba el bucle `for`, Python agafa el primer membre de la col·lecció (aquí, la primera lletra de la cadena `banana`, que és `b`) i la posa a la variable `letter`. A continuació, executa el bloc de codi a continuació `for`. El bloc de codi conté només una instrucció, que és la impressió de `letter`. Així que el programa imprimeix `b` i després torna a `for`.\n",
    "\n",
    "Aleshores, Python agafa la següent lletra, que és una `a`, i executa el bloc de codi amb `letter` com una `a`. A continuació, repeteix aquest procés per a cadascuna de les lletres restants.\n",
    "\n",
    "Un cop s'han utilitzat totes les lletres, s'acaba el bucle `for` i Python executa l'última línia del codi, que és la impressió de la paraula \"Done\".\n",
    "\n",
    "Per ser absolutament clar: en un bucle `for`, *no* heu d'escriure codi que augmenti explícitament algun tipus de variable que després agafa la lletra següent, o alguna cosa així. La sentència `for` ho gestiona automàticament: cada vegada que es torna en bucle, agafa el següent element de la col·lecció."
   ]
  },
  {
   "cell_type": "markdown",
   "metadata": {
    "id": "pihZDRul9vh7"
   },
   "source": [
    "### Bucle `for` amb cadenes"
   ]
  },
  {
   "cell_type": "markdown",
   "metadata": {
    "id": "xnwx7hq99vh7"
   },
   "source": [
    "Al codi anterior, es va utilitzar la cadena literal \"banana\" com a col·lecció, però també podria ser una variable que contingui una cadena. Per exemple, el codi següent introdueix una funció que imprimeix totes les lletres del seu paràmetre de text:"
   ]
  },
  {
   "cell_type": "code",
   "execution_count": null,
   "metadata": {
    "colab": {
     "base_uri": "https://localhost:8080/"
    },
    "id": "o1Jhkj7J9vh7",
    "outputId": "408be436-0f09-48e9-fe7d-0dd8d11ef2b3"
   },
   "outputs": [
    {
     "name": "stdout",
     "output_type": "stream",
     "text": [
      "b\n",
      "a\n",
      "n\n",
      "a\n",
      "n\n",
      "a\n",
      "Done\n",
      "a\n",
      "p\n",
      "p\n",
      "l\n",
      "e\n",
      "Done\n"
     ]
    }
   ],
   "source": [
    "def print_letters(text):\n",
    "    for letter in text:\n",
    "        print(letter)\n",
    "    print(\"Done\")\n",
    "    \n",
    "print_letters(\"banana\")\n",
    "print_letters(\"apple\")"
   ]
  },
  {
   "cell_type": "markdown",
   "metadata": {
    "id": "eOsPwqic9vh7"
   },
   "source": [
    "Potser us preguntareu si això no és perillós. Què passa si el programador canvia el contingut de la variable `text` *en* el bloc de codi del bucle? Provem-ho:"
   ]
  },
  {
   "cell_type": "code",
   "execution_count": null,
   "metadata": {
    "colab": {
     "base_uri": "https://localhost:8080/"
    },
    "id": "Wxbx7p8r9vh7",
    "outputId": "ef2b7bef-7a69-4756-a6a4-447d62fcd6f9"
   },
   "outputs": [
    {
     "name": "stdout",
     "output_type": "stream",
     "text": [
      "b\n",
      "banana\n",
      "a\n",
      "banana\n",
      "n\n",
      "orange\n",
      "a\n",
      "orange\n",
      "n\n",
      "orange\n",
      "a\n",
      "orange\n",
      "orange\n",
      "Done\n"
     ]
    }
   ],
   "source": [
    "def print_letters(text):\n",
    "\n",
    "  for letter in text:\n",
    "      print(letter)\n",
    "      if letter == \"n\":\n",
    "          text = \"orange\"    \n",
    "  print(\"Done\")\n",
    "    \n",
    "print_letters(\"banana\")"
   ]
  },
  {
   "cell_type": "markdown",
   "metadata": {
    "id": "SgBXQ1Ny9vh7"
   },
   "source": [
    "Com podeu veure quan executeu aquest codi, canviar el contingut de la variable `text` al bucle *no té cap efecte* en el processament del bucle. La seqüència de caràcters que processa el bucle només es constitueix una vegada, quan s'introdueix per primera vegada el bucle `for`. Aquesta és una gran característica dels bucles `for`, perquè vol dir que estan *garantits* per acabar. Els bucles `for` són infinits!\n",
    "\n",
    "Tingueu en compte que hi ha una declaració condicional al bucle anterior. No hi ha res que us impedeixi posar condicions al bloc de codi per a un bucle. Tampoc hi ha res en contra de posar bucles al bloc de codi per a una condició, o fins i tot posar bucles dins de bucles (més informació sobre aquesta darrera opció segueix més endavant en aquest capítol). Sempre que us atengueu als requisits sintàctics, podeu utilitzar declaracions condicionals i bucles allà on pugueu escriure sentències de Python."
   ]
  },
  {
   "cell_type": "markdown",
   "metadata": {
    "id": "3eg0w9SL9vh8"
   },
   "source": [
    "### Bucle `for` utilitzant un rang de números"
   ]
  },
  {
   "cell_type": "markdown",
   "metadata": {
    "id": "SJIsGGE79vh8"
   },
   "source": [
    "Python ofereix una funció `range()` que genera una col·lecció de nombres seqüencials, que s'utilitza sovint per a bucles `for`. La crida més senzilla a `range()` té un paràmetre, que és un número. Generarà tots els nombres enters, començant per zero, fins al paràmetre, però sense incloure el entrat."
   ]
  },
  {
   "cell_type": "code",
   "execution_count": null,
   "metadata": {
    "colab": {
     "base_uri": "https://localhost:8080/"
    },
    "id": "7rp_Oefy9vh8",
    "outputId": "11145943-a7d6-4b27-9959-a53b40e2e5d6"
   },
   "outputs": [
    {
     "name": "stdout",
     "output_type": "stream",
     "text": [
      "0\n",
      "1\n",
      "2\n",
      "3\n",
      "4\n",
      "5\n",
      "6\n",
      "7\n",
      "8\n",
      "9\n"
     ]
    }
   ],
   "source": [
    "for x in range(10):\n",
    "    print(x)"
   ]
  },
  {
   "cell_type": "markdown",
   "metadata": {
    "id": "QmbdXUfB9vh8"
   },
   "source": [
    "`range()` pot obtenir diversos paràmetres. Si doneu dos paràmetres, el primer serà el número inicial (el valor per defecte és zero), mentre que el segon serà el nombre \"fins però sense incloure\". Si doneu tres paràmetres, el tercer serà una mida de pas (per defecte és `1`). Podeu triar una mida de pas negativa si voleu fer el compte enrere. Amb una mida de pas negativa, assegureu-vos que el número inicial sigui més gran que el nombre que voleu comptar fins a (o fins a, en aquest cas)."
   ]
  },
  {
   "cell_type": "code",
   "execution_count": null,
   "metadata": {
    "id": "FWejsUiz9vh8"
   },
   "outputs": [],
   "source": [
    "for x in range(1, 11, 1):\n",
    "    print(x)"
   ]
  },
  {
   "cell_type": "markdown",
   "metadata": {
    "id": "pMzCzXRI9vh8"
   },
   "source": [
    "**Exercici:** Canvieu els tres paràmetres anteriors per observar-ne l'efecte, fins que enteneu completament la funció `range()`.\n",
    "\n",
    "**Exercici (opcional):** Escriu una funció que, utilitzant el bucle `for` i la funció `range()`, prengui dos paràmetres enters `a` i `b`, i imprimeixi múltiples de 3 començant per `a` i el compte enrere fins a `b`."
   ]
  },
  {
   "cell_type": "code",
   "execution_count": null,
   "metadata": {
    "id": "ZGgyWB7S9vh8",
    "outputId": "6133246d-fbbc-4724-bba7-37eb54903cf6"
   },
   "outputs": [
    {
     "name": "stdout",
     "output_type": "stream",
     "text": [
      "9\n",
      "6\n",
      "3\n"
     ]
    }
   ],
   "source": [
    "# Multiples of 3\n",
    "def multiples(start, end):\n",
    "  return\n",
    "    \n",
    "multiples(9,1)"
   ]
  },
  {
   "cell_type": "markdown",
   "metadata": {
    "id": "yP3WiyUU9vh8"
   },
   "source": [
    "### `for` loop with manual collections"
   ]
  },
  {
   "cell_type": "markdown",
   "metadata": {
    "id": "ekvr3SAn9vh9"
   },
   "source": [
    "Si voleu fer servir un bucle `for` per recórrer els elements d'una col·lecció que creeu manualment, podeu fer-ho enumerant tots els vostres elements entre parèntesis. Això defineix una `tupla` per als articles de la vostra col·lecció. Les tuples es parlaran més endavant."
   ]
  },
  {
   "cell_type": "code",
   "execution_count": null,
   "metadata": {
    "id": "fGFqNzFl9vh9",
    "outputId": "e4c9d430-4767-4e95-fade-64e193de1977"
   },
   "outputs": [
    {
     "name": "stdout",
     "output_type": "stream",
     "text": [
      "10\n",
      "100\n",
      "1000\n",
      "10000\n"
     ]
    }
   ],
   "source": [
    "for x in (10, 100, 1000, 10000):\n",
    "    print(x)"
   ]
  },
  {
   "cell_type": "markdown",
   "metadata": {
    "id": "yPOyvJRu9vh9"
   },
   "source": [
    "O:"
   ]
  },
  {
   "cell_type": "code",
   "execution_count": null,
   "metadata": {
    "id": "4g3w1wrv9vh9",
    "outputId": "4fe3a193-b3b5-4221-ab89-53f34b983e85"
   },
   "outputs": [
    {
     "name": "stdout",
     "output_type": "stream",
     "text": [
      "apple\n",
      "pear\n",
      "orange\n",
      "banana\n",
      "mango\n",
      "cherry\n"
     ]
    }
   ],
   "source": [
    "for x in (\"apple\", \"pear\", \"orange\", \"banana\", \"mango\", \"cherry\"):\n",
    "    print(x)"
   ]
  },
  {
   "cell_type": "markdown",
   "metadata": {
    "id": "xDu2-P5D9vh9"
   },
   "source": [
    "La vostra col·lecció fins i tot pot consistir en tipus mixtes."
   ]
  },
  {
   "cell_type": "markdown",
   "metadata": {
    "id": "4OqdS7L69vh9"
   },
   "source": [
    "Per aprendre bé com utilitzar els bucles `for`, feu els exercicis següents.\n",
    "\n",
    "**Exercici**: ja heu creat una funció amb un bucle `while` que imprimia els cinc primers múltiples de 23. Creeu un altre codi per a aquesta tasca, però ara feu servir un bucle `for`."
   ]
  },
  {
   "cell_type": "code",
   "execution_count": null,
   "metadata": {
    "id": "mGYGL9UN9vh9"
   },
   "outputs": [],
   "source": [
    "# Multiples of 23\n",
    "\n",
    "\n"
   ]
  },
  {
   "cell_type": "markdown",
   "metadata": {
    "id": "oTdfCKUI9vh-"
   },
   "source": [
    "### Loop control statements"
   ]
  },
  {
   "cell_type": "markdown",
   "metadata": {
    "id": "eHCeaoYJ9vh-"
   },
   "source": [
    "Hi ha tres declaracions addicionals que us ajuden a controlar el flux en un bucle. Són  `else`, `break`, i `continue`."
   ]
  },
  {
   "cell_type": "markdown",
   "metadata": {
    "id": "2W6FHvrK9vh-"
   },
   "source": [
    "### `else`"
   ]
  },
  {
   "cell_type": "markdown",
   "metadata": {
    "id": "X9_7UDyl9vh-"
   },
   "source": [
    "Igual que amb una instrucció `if`, podeu afegir una instrucció  `else` al final d'un bucle `while` o `for`. El bloc de codi per al  `else` s'executa sempre que el bucle acaba, és a dir, quan l'expressió booleana del bucle `while` s'avalua com a  `False`, o quan es processa l'últim element de la col·lecció del bucle  `for`.\n",
    "\n",
    "Aquí teniu un exemple d'ús de la clàusula  `else` per a un bucle `while`:"
   ]
  },
  {
   "cell_type": "code",
   "execution_count": null,
   "metadata": {
    "colab": {
     "base_uri": "https://localhost:8080/"
    },
    "id": "8xxPkm5F9viA",
    "outputId": "1e22bce1-99c0-49fd-87c6-31ae135ee918"
   },
   "outputs": [
    {
     "name": "stdout",
     "output_type": "stream",
     "text": [
      "2\n",
      "3\n",
      "4\n",
      "The loop ends, i is now 5\n",
      "Done\n"
     ]
    }
   ],
   "source": [
    "def count_up(i):\n",
    "    while i < 5:\n",
    "        print(i)\n",
    "        i += 1\n",
    "    else:\n",
    "        print(\"The loop ends, i is now\", i)\n",
    "    print(\"Done\")\n",
    "    \n",
    "count_up(2)"
   ]
  },
  {
   "cell_type": "markdown",
   "metadata": {
    "id": "-XTqHR4F9viB"
   },
   "source": [
    "I aquí hi ha un exemple d'ús de `else` per a un bucle `for`:"
   ]
  },
  {
   "cell_type": "code",
   "execution_count": null,
   "metadata": {
    "colab": {
     "base_uri": "https://localhost:8080/"
    },
    "id": "QGLHRHCJ9viB",
    "outputId": "97cd1c86-95d6-49bf-f24b-d9f93ec82bc4"
   },
   "outputs": [
    {
     "name": "stdout",
     "output_type": "stream",
     "text": [
      "apple\n",
      "orange\n",
      "strawberry\n",
      "The loop ends, fruit is now strawberry\n",
      "Done\n"
     ]
    }
   ],
   "source": [
    "def print_fruits():\n",
    "    for fruit in (\"apple\", \"orange\", \"strawberry\"):\n",
    "        print(fruit)\n",
    "    else:\n",
    "        print(\"The loop ends, fruit is now\", fruit)\n",
    "    print(\"Done\")   \n",
    "    \n",
    "print_fruits()"
   ]
  },
  {
   "cell_type": "markdown",
   "metadata": {
    "id": "9JWJmbBA9viB"
   },
   "source": [
    "### `break`"
   ]
  },
  {
   "cell_type": "markdown",
   "metadata": {
    "id": "QW5nJjEZ9viB"
   },
   "source": [
    "La declaració  `break`  us permet sortir prematurament d'un bucle. És a dir, quan Python troba la instrucció `break`, ja no processarà la resta del bloc de codi per al bucle i no tornarà a l'expressió booleana. Simplement continuarà amb la primera instrucció després del bloc de codi del bucle.\n",
    "\n",
    "Per veure per què això és útil, aquí segueix un exercici interessant. Estem buscant el primer nombre positiu inferior a 10.000 que sigui múltiple de 9 i de 21. Podem escriure una funció per fer-ho per nosaltres:"
   ]
  },
  {
   "cell_type": "code",
   "execution_count": null,
   "metadata": {
    "colab": {
     "base_uri": "https://localhost:8080/"
    },
    "id": "lJps-i289viB",
    "outputId": "79042b27-b113-4afc-eda8-a187f961499a"
   },
   "outputs": [
    {
     "name": "stdout",
     "output_type": "stream",
     "text": [
      "63 is our solution.\n"
     ]
    }
   ],
   "source": [
    "i = 1\n",
    "while i <= 10000:\n",
    "    if i%9 == 0 and i%21 == 0:\n",
    "      result = i \n",
    "      break\n",
    "    i += 1                      \n",
    "\n",
    "print (result, \"is our solution.\")"
   ]
  },
  {
   "cell_type": "markdown",
   "metadata": {
    "id": "aWzYM3F79viB"
   },
   "source": [
    "En aquest exemple veiem la declaració `break` utilitzada amb bon efecte. Com que no tenim ni idea de quin número estem buscant, només comprovarem un munt de números. deixem que un comptador `i` funcioni fins a `10000`. Podríem trobar la resposta en qualsevol moment, i quan ho fem, \"desferrem\" del bucle, perquè les proves posteriors dels números ja no serveixen per a res.\n",
    "\n",
    "\n",
    "Curiosament, `break` en un programa funciona de manera similar a `return` en una funció. Podem escriure el codi anterior com a funció i substituir `break` per `return`, amb el mateix efecte:"
   ]
  },
  {
   "cell_type": "code",
   "execution_count": null,
   "metadata": {
    "colab": {
     "base_uri": "https://localhost:8080/"
    },
    "id": "-sr-Vr-u9viC",
    "outputId": "9c018129-d371-43b8-b9d8-1ba2aa48dcc7"
   },
   "outputs": [
    {
     "name": "stdout",
     "output_type": "stream",
     "text": [
      "63 is our solution.\n"
     ]
    }
   ],
   "source": [
    "def joint_multiple():\n",
    "    i = 1\n",
    "    while i <= 10000:\n",
    "        if i%9 == 0 and i%21 == 0:\n",
    "            return i\n",
    "        i += 1\n",
    "\n",
    "print (joint_multiple(), \"is our solution.\")"
   ]
  },
  {
   "cell_type": "markdown",
   "metadata": {
    "id": "W9s3Yyqz9viC"
   },
   "source": [
    "O encara millor, podem passar els valors 9 i 21 a la funció com a paràmetres i fer-la més d'ús general:"
   ]
  },
  {
   "cell_type": "code",
   "execution_count": null,
   "metadata": {
    "colab": {
     "base_uri": "https://localhost:8080/"
    },
    "id": "z8M_-AsN9viC",
    "outputId": "41f1a205-09f0-420e-f685-585a7605dc88"
   },
   "outputs": [
    {
     "name": "stdout",
     "output_type": "stream",
     "text": [
      "63 is our solution.\n"
     ]
    }
   ],
   "source": [
    "def joint_multiple(a,b):\n",
    "    i = 1\n",
    "    while i <= 10000:\n",
    "        if i%a == 0 and i%b == 0:\n",
    "            return i\n",
    "        i += 1\n",
    "\n",
    "print (joint_multiple(9,21), \"is our solution.\")"
   ]
  },
  {
   "cell_type": "markdown",
   "metadata": {
    "id": "nGrrC9Rw9viC"
   },
   "source": [
    "La sentència `break` també funciona per als bucles `for`. Però no es pot utilitzar fora d'un bucle. Només es defineix per a bucles. Tingueu en compte que quan es troba una instrucció `break` i el bucle també té una clàusula `else`, el bloc de codi per a `else` *no* s'executarà.\n",
    "\n",
    "El codi següent verifica una llista de notes per a un estudiant. Sempre que totes les notes siguin iguals o superiors a 5.5, l'estudiant aprova. Quan una o més notes són inferiors a 5.5, l'estudiant suspen. Les qualificacions es troben en una col·lecció que es dóna a un bucle \"for\"."
   ]
  },
  {
   "cell_type": "code",
   "execution_count": null,
   "metadata": {
    "colab": {
     "base_uri": "https://localhost:8080/"
    },
    "id": "WD6dy5sK9viC",
    "outputId": "7ab01a07-6849-4834-fb8b-c8205f3c6876"
   },
   "outputs": [
    {
     "name": "stdout",
     "output_type": "stream",
     "text": [
      "The student fails!\n"
     ]
    }
   ],
   "source": [
    "for grade in (8, 7.5, 9, 6, 6, 5, 6, 7, 8, 7, 7.5):\n",
    "    if grade < 5.5:\n",
    "        print( \"The student fails!\" )\n",
    "        break\n",
    "else:\n",
    "    print( \"The student passes!\" )\n",
    "    "
   ]
  },
  {
   "cell_type": "markdown",
   "metadata": {
    "id": "KEpwlVX09viC"
   },
   "source": [
    "**Exercici**: Traieu el 5 de la llista de notes i observeu que ara l'alumne aprova. Estudieu aquest codi amb atenció fins que l'enteneu."
   ]
  },
  {
   "cell_type": "code",
   "execution_count": null,
   "metadata": {
    "id": "DjgPc6EnpNnW"
   },
   "outputs": [],
   "source": []
  },
  {
   "cell_type": "markdown",
   "metadata": {
    "id": "HqwQ4yZJ9viC"
   },
   "source": [
    "### `continue`"
   ]
  },
  {
   "cell_type": "markdown",
   "metadata": {
    "id": "VjOCy0MA9viC"
   },
   "source": [
    "Quan es troba la instrucció `continue` al bloc de codi d'un bucle, el cicle actual acaba immediatament i el codi torna a l'inici del bucle. Per a un bucle `while`, això significa que l'expressió booleana s'avalua de nou. Per a un bucle `for`, això significa que el següent element s'ha tret de la col·lecció i es processa.\n",
    "\n",
    "El codi següent imprimeix tots els números entre 1 i 100 que no es poden dividir per 2 o 3, que no acaben en 7 o 9 i no consten de dos dígits iguals."
   ]
  },
  {
   "cell_type": "code",
   "execution_count": null,
   "metadata": {
    "colab": {
     "base_uri": "https://localhost:8080/"
    },
    "id": "c9rXITSj9viC",
    "outputId": "02e1dac6-b1db-4c51-dd10-cb326ee4cd16"
   },
   "outputs": [
    {
     "name": "stdout",
     "output_type": "stream",
     "text": [
      "1\n",
      "5\n",
      "13\n",
      "23\n",
      "25\n",
      "31\n",
      "35\n",
      "41\n",
      "43\n",
      "53\n",
      "61\n",
      "65\n",
      "71\n",
      "73\n",
      "83\n",
      "85\n",
      "91\n",
      "95\n"
     ]
    }
   ],
   "source": [
    "for num in range(1, 101):\n",
    "    if num%2 == 0:\n",
    "        continue\n",
    "    if num%3 == 0:\n",
    "        continue\n",
    "    if num%10 == 7:\n",
    "        continue\n",
    "    if num%10 == 9:\n",
    "        continue\n",
    "    if num > 9:\n",
    "        if num%10 == int(num / 10):\n",
    "            continue\n",
    "    print(num)"
   ]
  },
  {
   "cell_type": "markdown",
   "metadata": {
    "id": "BBAi0Mrv9viD"
   },
   "source": [
    "Alternativament, podríeu haver creat una expressió booleana gran per a una declaració `if`, però això es tornaria il·legible ràpidament. Tot i així, igual que les declaracions `break`, les declaracions `continue` sempre es poden evitar si realment ho voleu, però ajuden a mantenir el codi comprensible.\n",
    "\n",
    "Tingueu en compte que les declaracions `continue`, igual que les declaracions `break`, només es poden utilitzar dins dels bucles.\n",
    "\n",
    "Aneu molt, molt amb compte quan feu servir un `continue` en un bucle `while`. La majoria dels bucles `while` utilitzen un nombre que restringeix el nombre de cicles a través del bucle. Normalment, aquest nombre augmenta a la part inferior del bloc de codi per al bucle. Una instrucció `continue` tornaria a l'expressió booleana immediatament, sense augmentar el nombre, i per tant, aquesta continuïtat podria provocar fàcilment un bucle sense fi. és a dir:\n",
    "\n",
    "    i = 0\n",
    "    while i < 10:\n",
    "        if i == 5:\n",
    "            continue\n",
    "        i += 1\n",
    "\n",
    "provoca un bucle interminable!\n",
    "\n",
    "**Exercici (opcional)**: escriu una funció que processi una col·lecció de nombres mitjançant un bucle `for`. El programa hauria d'acabar immediatament, imprimint només la paraula \"Done\", quan es trobi un zero (utilitzeu un `break` per a això). Els números negatius s'han d'ignorar (utilitzeu un `continue` per a això). Si no es troba cap zero, el programa hauria de mostrar la suma de tots els nombres (feu-ho en una clàusula `else`). Mostra sempre \"Done\" al final del programa.<br>\n",
    "Amb els números proporcionats, el programa només hauria de mostrar \"Done\". Si elimineu el zero, hauria de mostrar 85 (i \"Done\")."
   ]
  },
  {
   "cell_type": "code",
   "execution_count": null,
   "metadata": {
    "id": "NLVkJrRE9viD",
    "outputId": "65525a6e-1d47-47a7-94fa-47a35103ac35"
   },
   "outputs": [
    {
     "name": "stdout",
     "output_type": "stream",
     "text": [
      "Done\n"
     ]
    }
   ],
   "source": [
    "# Process numbers\n",
    "# Your function goes here\n",
    "def process_numbers(numbers):\n",
    "    return\n",
    "\n",
    "process_numbers((12, 4, 3, 33, -2, 0,  -5, 7, 22, 4))"
   ]
  },
  {
   "cell_type": "markdown",
   "metadata": {
    "id": "nu-whRls9viD"
   },
   "source": [
    "### Nested loops"
   ]
  },
  {
   "cell_type": "markdown",
   "metadata": {
    "id": "Xm5-c0tf9viD"
   },
   "source": [
    "Podeu posar un bucle dins d'un altre bucle.\n",
    "\n",
    "Aquesta és una afirmació senzilla, però és un dels conceptes més difícils per als estudiants d'embolcallar la seva ment.\n",
    "\n",
    "Vegem primer un exemple de bucle de doble \"nest\", és a dir, un bucle que conté un altre bucle. Normalment els programadors parlen d'un \"bucle exterior\" i un \"bucle interior\". El bucle interior forma part del bloc de codi per al bucle exterior."
   ]
  },
  {
   "cell_type": "code",
   "execution_count": null,
   "metadata": {
    "colab": {
     "base_uri": "https://localhost:8080/"
    },
    "id": "8rUtXrXm9viD",
    "outputId": "b7cf0ff1-f4d0-40b7-a80c-852ab9c8d087"
   },
   "outputs": [
    {
     "name": "stdout",
     "output_type": "stream",
     "text": [
      "Entering the outer loop for i = 0\n",
      "    Entering the inner loop for j = 0\n",
      "    0 , 0\n",
      "    Leaving the inner loop for j = 0\n",
      "    Entering the inner loop for j = 1\n",
      "    0 , 1\n",
      "    Leaving the inner loop for j = 1\n",
      "    Entering the inner loop for j = 2\n",
      "    0 , 2\n",
      "    Leaving the inner loop for j = 2\n",
      "Leaving the outer loop for i = 0\n",
      "\n",
      "Entering the outer loop for i = 1\n",
      "    Entering the inner loop for j = 0\n",
      "    1 , 0\n",
      "    Leaving the inner loop for j = 0\n",
      "    Entering the inner loop for j = 1\n",
      "    1 , 1\n",
      "    Leaving the inner loop for j = 1\n",
      "    Entering the inner loop for j = 2\n",
      "    1 , 2\n",
      "    Leaving the inner loop for j = 2\n",
      "Leaving the outer loop for i = 1\n",
      "\n",
      "Entering the outer loop for i = 2\n",
      "    Entering the inner loop for j = 0\n",
      "    2 , 0\n",
      "    Leaving the inner loop for j = 0\n",
      "    Entering the inner loop for j = 1\n",
      "    2 , 1\n",
      "    Leaving the inner loop for j = 1\n",
      "    Entering the inner loop for j = 2\n",
      "    2 , 2\n",
      "    Leaving the inner loop for j = 2\n",
      "Leaving the outer loop for i = 2\n",
      "\n"
     ]
    }
   ],
   "source": [
    "for i in range(3):\n",
    "    print(\"Entering the outer loop for i =\", i)\n",
    "    for j in range( 3 ):\n",
    "        print(\"    Entering the inner loop for j =\", j)\n",
    "        print(\"   \", i, \",\", j)\n",
    "        print(\"    Leaving the inner loop for j =\", j)\n",
    "    print(\"Leaving the outer loop for i =\", i)\n",
    "    print()"
   ]
  },
  {
   "cell_type": "markdown",
   "metadata": {
    "id": "GkIYmWBX9viE"
   },
   "source": [
    "Estudieu aquest codi i la seva sortida fins que l'enteneu completament!\n",
    "\n",
    "El codi primer dóna a `i` el valor `0`, i després permet que `j` assumeixi els valors `0`, `1` i `2`. A continuació, dóna a `i` el valor `1`, i després permet que `j` assumeixi els valors `0`, `1` i `2`. Finalment, dóna a `i` el valor `2`, i després permet que `j` assumeixi els valors `0`, `1` i `2`. Per tant, aquest codi passa per tots els parells possibles de `(i,j)` amb `i` i `j` sent `0`, `1` o `2`.\n",
    "\n",
    "Observeu com les variables del bucle exterior també són accessibles pel bucle interior. `i` existeix tant al bucle exterior com a l'interior.\n",
    "\n",
    "Suposem que voleu escriure una funció que imprimeixi tots els parells `(i,j)` on `i` i `j` poden prendre els valors `0` a `maximum`, però `j` ha de ser superior a `i`. La funció pren `maximum` com a paràmetre:"
   ]
  },
  {
   "cell_type": "code",
   "execution_count": null,
   "metadata": {
    "colab": {
     "base_uri": "https://localhost:8080/"
    },
    "id": "XqOh0PHF9viE",
    "outputId": "6ade711b-32a9-4dbb-90cc-d0cc08377956"
   },
   "outputs": [
    {
     "name": "stdout",
     "output_type": "stream",
     "text": [
      "0 , 1\n",
      "0 , 2\n",
      "0 , 3\n",
      "1 , 2\n",
      "1 , 3\n",
      "2 , 3\n"
     ]
    }
   ],
   "source": [
    "def print_pairs(maximum):\n",
    "    for i in range(maximum):\n",
    "        for j in range(i+1, maximum):\n",
    "            print(i, \",\", j)\n",
    "            \n",
    "print_pairs(4)"
   ]
  },
  {
   "cell_type": "markdown",
   "metadata": {
    "id": "_M2DLcGi9viE"
   },
   "source": [
    "Vegeu com s'utilitza el valor de `i` per establir l'interval de `j`?\n",
    "\n",
    "**Exercici (opcional)**: escriu una funció que imprimeixi tots els parells `(i,j)` on `i` i `j` poden prendre els valors `0` a `màxim`, però no poden ser iguals."
   ]
  },
  {
   "cell_type": "code",
   "execution_count": null,
   "metadata": {
    "id": "A-VKhQiU9viE",
    "outputId": "173bc3a8-0584-4b18-bb5e-d8096c13256b"
   },
   "outputs": [
    {
     "name": "stdout",
     "output_type": "stream",
     "text": [
      "0 , 1\n",
      "0 , 2\n",
      "0 , 3\n",
      "0 , 4\n",
      "1 , 0\n",
      "1 , 2\n",
      "1 , 3\n",
      "1 , 4\n",
      "2 , 0\n",
      "2 , 1\n",
      "2 , 3\n",
      "2 , 4\n",
      "3 , 0\n",
      "3 , 1\n",
      "3 , 2\n",
      "3 , 4\n"
     ]
    }
   ],
   "source": [
    "# Print non-equal pairs\n",
    "def Pairs_Of(maxi):\n",
    "  return\n",
    "  \n",
    "    \n",
    "Pairs_Of(4)    "
   ]
  },
  {
   "cell_type": "markdown",
   "metadata": {
    "id": "Sc5oGBjj9viE"
   },
   "source": [
    "Per descomptat, també podeu nidificar bucles `while` o barrejar nidificar bucles `for` amb bucles `while`.\n",
    "\n",
    "Heu de tenir en compte que quan feu servir un `break` o `continue` en un bucle intern, només \"s'escaparà\" del bucle intern o \"continuarà\" amb el bucle intern, respectivament. No hi ha cap ordre que pugueu donar en un bucle intern que surti tant del bucle intern com de l'exterior immediatament.\n",
    "\n",
    "Un cop hàgiu entès els bucles dobles, no hauria de sorprendre que també pugueu fer bucles triples, bucles quàdruples o aprofundir encara més. No obstant això, a la pràctica poques vegades es veu un \"nest\" més profund que el triple \"nest\"."
   ]
  },
  {
   "cell_type": "code",
   "execution_count": null,
   "metadata": {
    "colab": {
     "base_uri": "https://localhost:8080/"
    },
    "id": "-Hn746bG9viE",
    "outputId": "3080d283-e678-472b-81a2-e372d5f77dea"
   },
   "outputs": [
    {
     "name": "stdout",
     "output_type": "stream",
     "text": [
      "0 , 0 , 0\n",
      "0 , 0 , 1\n",
      "0 , 0 , 2\n",
      "0 , 1 , 0\n",
      "0 , 1 , 1\n",
      "0 , 1 , 2\n",
      "0 , 2 , 0\n",
      "0 , 2 , 1\n",
      "0 , 2 , 2\n",
      "1 , 0 , 0\n",
      "1 , 0 , 1\n",
      "1 , 0 , 2\n",
      "1 , 1 , 0\n",
      "1 , 1 , 1\n",
      "1 , 1 , 2\n",
      "1 , 2 , 0\n",
      "1 , 2 , 1\n",
      "1 , 2 , 2\n",
      "2 , 0 , 0\n",
      "2 , 0 , 1\n",
      "2 , 0 , 2\n",
      "2 , 1 , 0\n",
      "2 , 1 , 1\n",
      "2 , 1 , 2\n",
      "2 , 2 , 0\n",
      "2 , 2 , 1\n",
      "2 , 2 , 2\n"
     ]
    }
   ],
   "source": [
    "for i in range(3):\n",
    "    for j in range(3):\n",
    "        for k in range(3):\n",
    "            print(i, \",\", j, \",\", k)"
   ]
  },
  {
   "cell_type": "markdown",
   "metadata": {
    "id": "MhVBaRh59viE"
   },
   "source": [
    "### Ser intel·ligent amb els bucles"
   ]
  },
  {
   "cell_type": "markdown",
   "metadata": {
    "id": "jrL1_E_w9viE"
   },
   "source": [
    "Per completar aquesta secció, discutim algunes estratègies sobre el disseny de bucles."
   ]
  },
  {
   "cell_type": "markdown",
   "metadata": {
    "id": "3PspILly9viE"
   },
   "source": [
    "### Processing data items one by one"
   ]
  },
  {
   "cell_type": "markdown",
   "metadata": {
    "id": "uq0lzQ1y9viF"
   },
   "source": [
    "Normalment, quan s'aplica un bucle, esteu treballant amb una llarga sèrie d'elements de dades. Cada cicle del bucle processarà un d'aquests elements de dades. Aleshores, sovint necessiteu recordar alguna cosa sobre els elements de dades que heu processat fins ara, per als quals necessiteu variables addicionals. Cal ser intel·ligent a l'hora de pensar en aquestes variables.\n",
    "\n",
    "Preneu l'exemple següent: necessitem una funció que prengui deu paràmetres enters i retorni el més gran (o el més petit). Com que haureu de processar tots els números, haureu de pensar en un bucle i, en particular, en un bucle en què només teniu un dels números disponibles per cada cicle del bucle (però els veureu tots abans que acabi el bucle) . Ara heu de pensar en variables que podeu utilitzar per recordar alguna cosa cada cicle a través del bucle, que us permetin determinar, al final, quin nombre era el més gran o el més petit. Quines variables necessites?\n",
    "\n",
    "La resposta, que és fàcil per a qualsevol que hagi estat fent una mica de programació, és que cal recordar, cada cicle a través del bucle, quin és el nombre més gran o més petit *fins ara*. Això vol dir que a cada cicle del bucle compareu el nou nombre amb les variables en què conserveu el més gran o el més petit i les substituïu pel nou nombre si és adequat.\n",
    "\n",
    "Haureu de trobar bons valors inicials per a aquestes variables. Els més grans i els més petits necessiten un valor adequat. La millor solució en aquest cas és omplir-los amb el primer nombre, ja que aquest nombre és alhora el més gran i el més petit en aquest punt."
   ]
  },
  {
   "cell_type": "markdown",
   "metadata": {
    "id": "JUozMtJZ9viF"
   },
   "source": [
    "### On designing algorithms"
   ]
  },
  {
   "cell_type": "markdown",
   "metadata": {
    "id": "cf_3XMQL9viF"
   },
   "source": [
    "En aquest punt del curs, sovint us trobareu amb exercicis i problemes de codificació per als quals no esteu segur de com resoldre'ls. L'exemple de trobar el nombre més gran o més petit d'una col·lecció és un problema, i heu vist una solució per a això. Aquest enfocament de solució s'anomena \"algorisme\". Però, com es dissenyen aquests algorismes?\n",
    "\n",
    "El que has de fer en aquesta situació és seure, deixar el teclat sol i pensar \"Com resoldria aquest problema com a humà?\" Intenta anotar què faries si ho fes a mà. No importa si el que faries és una tasca molt avorrida que mai no *voldries* fer a mà: tens un ordinador per fer les coses avorrides per tu.\n",
    "\n",
    "Un cop hàgiu esbrinat què farieu, intenteu pensar com ho traduiríeu al codi. Perquè bàsicament, això és el que has de dir a l'ordinador: els passos que tu, com a humà, faries per arribar a una solució. Si realment no podeu pensar en cap manera que com a ésser humà utilitzaríeu per resoldre un problema, aleshores no podreu dir-li a l'ordinador com fer-ho per vosaltres."
   ]
  },
  {
   "cell_type": "markdown",
   "metadata": {
    "id": "-OFj8IrU9viF"
   },
   "source": [
    "### El que has après"
   ]
  },
  {
   "cell_type": "markdown",
   "metadata": {
    "id": "JaOu-pc09viF"
   },
   "source": [
    "En aquesta secció, heu après:\n",
    "\n",
    "- Què són els bucles\n",
    "- bucles `while`\n",
    "- bucles `for`\n",
    "- Bucles sense fi\n",
    "- Control de bucle mitjançant `else`, `break`, i `continue`\n",
    "- Bucles imbricats"
   ]
  },
  {
   "cell_type": "markdown",
   "metadata": {
    "id": "EfzW7-mU9viG"
   },
   "source": [
    "### Exercises"
   ]
  },
  {
   "cell_type": "markdown",
   "metadata": {
    "id": "xjwMNLBF9viG"
   },
   "source": [
    "**Exercici 5.1 (opcional):** Escriu una funció que imprimeixi una taula de multiplicar per a les xifres de l'1 al 10. Una taula de multiplicar per als nombres de l'`1` al `num = 3` és el següent:\n",
    "\n",
    "`. | 1 2 3`<br>\n",
    "`------------`<br>\n",
    "`1 | 1 2 3`<br>\n",
    "`2 | 2 4 6`<br>\n",
    "`3 | 3 6 9`\n",
    "\n",
    "Així, les etiquetes de les files es multipliquen per les etiquetes de les columnes i el resultat es mostra a la cel·la que es troba en aquesta combinació de fila/columna."
   ]
  },
  {
   "cell_type": "code",
   "execution_count": null,
   "metadata": {
    "id": "nfWEx_iN9viG",
    "outputId": "ab3dd275-9225-4250-b28a-57883ccd463f"
   },
   "outputs": [
    {
     "name": "stdout",
     "output_type": "stream",
     "text": [
      ".  |   1   2   3   4   5   6   7   8   9  10  11  12  13  14  15  16  17  18  19  20  21  22  23  24  25  26  27  28  29\n",
      "------------------------------------------------------------------------------------------------------------------------\n",
      "1  |   1   2   3   4   5   6   7   8   9  10  11  12  13  14  15  16  17  18  19  20  21  22  23  24  25  26  27  28  29\n",
      "2  |   2   4   6   8  10  12  14  16  18  20  22  24  26  28  30  32  34  36  38  40  42  44  46  48  50  52  54  56  58\n",
      "3  |   3   6   9  12  15  18  21  24  27  30  33  36  39  42  45  48  51  54  57  60  63  66  69  72  75  78  81  84  87\n",
      "4  |   4   8  12  16  20  24  28  32  36  40  44  48  52  56  60  64  68  72  76  80  84  88  92  96 100 104 108 112 116\n",
      "5  |   5  10  15  20  25  30  35  40  45  50  55  60  65  70  75  80  85  90  95 100 105 110 115 120 125 130 135 140 145\n",
      "6  |   6  12  18  24  30  36  42  48  54  60  66  72  78  84  90  96 102 108 114 120 126 132 138 144 150 156 162 168 174\n",
      "7  |   7  14  21  28  35  42  49  56  63  70  77  84  91  98 105 112 119 126 133 140 147 154 161 168 175 182 189 196 203\n",
      "8  |   8  16  24  32  40  48  56  64  72  80  88  96 104 112 120 128 136 144 152 160 168 176 184 192 200 208 216 224 232\n",
      "9  |   9  18  27  36  45  54  63  72  81  90  99 108 117 126 135 144 153 162 171 180 189 198 207 216 225 234 243 252 261\n",
      "10 |  10  20  30  40  50  60  70  80  90 100 110 120 130 140 150 160 170 180 190 200 210 220 230 240 250 260 270 280 290\n",
      "11 |  11  22  33  44  55  66  77  88  99 110 121 132 143 154 165 176 187 198 209 220 231 242 253 264 275 286 297 308 319\n",
      "12 |  12  24  36  48  60  72  84  96 108 120 132 144 156 168 180 192 204 216 228 240 252 264 276 288 300 312 324 336 348\n",
      "13 |  13  26  39  52  65  78  91 104 117 130 143 156 169 182 195 208 221 234 247 260 273 286 299 312 325 338 351 364 377\n",
      "14 |  14  28  42  56  70  84  98 112 126 140 154 168 182 196 210 224 238 252 266 280 294 308 322 336 350 364 378 392 406\n",
      "15 |  15  30  45  60  75  90 105 120 135 150 165 180 195 210 225 240 255 270 285 300 315 330 345 360 375 390 405 420 435\n",
      "16 |  16  32  48  64  80  96 112 128 144 160 176 192 208 224 240 256 272 288 304 320 336 352 368 384 400 416 432 448 464\n",
      "17 |  17  34  51  68  85 102 119 136 153 170 187 204 221 238 255 272 289 306 323 340 357 374 391 408 425 442 459 476 493\n",
      "18 |  18  36  54  72  90 108 126 144 162 180 198 216 234 252 270 288 306 324 342 360 378 396 414 432 450 468 486 504 522\n",
      "19 |  19  38  57  76  95 114 133 152 171 190 209 228 247 266 285 304 323 342 361 380 399 418 437 456 475 494 513 532 551\n",
      "20 |  20  40  60  80 100 120 140 160 180 200 220 240 260 280 300 320 340 360 380 400 420 440 460 480 500 520 540 560 580\n",
      "21 |  21  42  63  84 105 126 147 168 189 210 231 252 273 294 315 336 357 378 399 420 441 462 483 504 525 546 567 588 609\n",
      "22 |  22  44  66  88 110 132 154 176 198 220 242 264 286 308 330 352 374 396 418 440 462 484 506 528 550 572 594 616 638\n",
      "23 |  23  46  69  92 115 138 161 184 207 230 253 276 299 322 345 368 391 414 437 460 483 506 529 552 575 598 621 644 667\n",
      "24 |  24  48  72  96 120 144 168 192 216 240 264 288 312 336 360 384 408 432 456 480 504 528 552 576 600 624 648 672 696\n",
      "25 |  25  50  75 100 125 150 175 200 225 250 275 300 325 350 375 400 425 450 475 500 525 550 575 600 625 650 675 700 725\n",
      "26 |  26  52  78 104 130 156 182 208 234 260 286 312 338 364 390 416 442 468 494 520 546 572 598 624 650 676 702 728 754\n",
      "27 |  27  54  81 108 135 162 189 216 243 270 297 324 351 378 405 432 459 486 513 540 567 594 621 648 675 702 729 756 783\n",
      "28 |  28  56  84 112 140 168 196 224 252 280 308 336 364 392 420 448 476 504 532 560 588 616 644 672 700 728 756 784 812\n",
      "29 |  29  58  87 116 145 174 203 232 261 290 319 348 377 406 435 464 493 522 551 580 609 638 667 696 725 754 783 812 841\n"
     ]
    }
   ],
   "source": [
    "# Print multiplication table\n",
    "def mult_table(num):\n",
    "   return\n",
    "\n",
    "\n",
    "mult_table(29)\n",
    "\n"
   ]
  },
  {
   "cell_type": "markdown",
   "metadata": {
    "id": "Qn-kJN1H9viG"
   },
   "source": [
    "**Exercici 5.2 (opcional):** Si heu fet l'exercici anterior amb un bucle `while`, torneu a fer-ho amb un bucle `for`. Si ho heu fet amb un bucle `for`, torneu a fer-ho amb un bucle `while`."
   ]
  },
  {
   "cell_type": "code",
   "execution_count": null,
   "metadata": {
    "id": "GvJn0dvv9viO"
   },
   "outputs": [],
   "source": [
    "# Print multiplication table\n"
   ]
  },
  {
   "cell_type": "markdown",
   "metadata": {
    "id": "ugWczDQO9viO"
   },
   "source": [
    "**Exercici 5.3 (opcional):** Escriu i prova tres funcions que retornin el més gran, el més petit i el nombre de divisibles per 3 en una col·lecció de nombres determinada. Utilitzeu l'algorisme descrit anteriorment en aquest capítol."
   ]
  },
  {
   "cell_type": "code",
   "execution_count": null,
   "metadata": {
    "id": "GqbnCclU9viO"
   },
   "outputs": [],
   "source": [
    "# Your functions\n",
    "\n",
    "\n"
   ]
  },
  {
   "cell_type": "markdown",
   "metadata": {
    "id": "SayoWnHa9viO"
   },
   "source": [
    "**Exercici 5.4 (opcional):** \"99 bottles of beer\" és una cançó tradicional als Estats Units i al Canadà. És popular per cantar en viatges llargs, ja que té un format molt repetitiu que és fàcil de memoritzar, i pot trigar molt a cantar. La lletra senzilla de la cançó és la següent: \"99 bottles of beer on the wall, 99 bottles of beer. Take one down, pass it around, 98 bottles of beer on the wall.\". Es repeteix el mateix vers, cada cop amb una ampolla menys. La cançó es completa quan el cantant o cantants arriben a zero. Escriu una funció que generi i imprimeixi tots els versos de la cançó (tot i que pots començar una mica més baix, per exemple amb 10 ampolles). Assegureu-vos que el vostre bucle no sigui interminable i que feu servir la flexió adequada per a la paraula \"ampolla\"."
   ]
  },
  {
   "cell_type": "code",
   "execution_count": null,
   "metadata": {
    "id": "YNMgRico9viO"
   },
   "outputs": [],
   "source": [
    "# Beer song\n"
   ]
  },
  {
   "cell_type": "markdown",
   "metadata": {
    "id": "d4AsLbvP9viP"
   },
   "source": [
    "**Exercici 5.5 (opcional):** La seqüència de Fibonacci és una seqüència de nombres que comença amb 1, seguit d'1 de nou. Cada nombre següent és la suma dels dos nombres anteriors. És a dir, la seqüència comença amb 1, 1, 2, 3, 5, 8, 13, 21,... Escriu una funció que calculi i imprimeixi la seqüència de Fibonacci fins que els nombres siguin superiors a un \"màxim\"."
   ]
  },
  {
   "cell_type": "code",
   "execution_count": null,
   "metadata": {
    "id": "SkCaBszv9viP",
    "outputId": "8b328164-aac7-4838-b672-78dad82979a9"
   },
   "outputs": [
    {
     "name": "stdout",
     "output_type": "stream",
     "text": [
      "0\n",
      "1\n",
      "1\n",
      "2\n",
      "3\n",
      "5\n",
      "8\n",
      "13\n",
      "21\n",
      "34\n",
      "55\n",
      "89\n",
      "144\n",
      "233\n",
      "377\n",
      "610\n",
      "987\n",
      "1597\n",
      "2584\n",
      "4181\n",
      "6765\n",
      "10946\n",
      "17711\n",
      "28657\n",
      "46368\n",
      "75025\n",
      "121393\n",
      "196418\n",
      "317811\n",
      "514229\n",
      "832040\n",
      "1346269\n",
      "2178309\n",
      "3524578\n",
      "5702887\n",
      "9227465\n"
     ]
    }
   ],
   "source": [
    "# Fibonacci\n",
    "def fibonacci_max(maximum):\n",
    "   return\n",
    "        \n",
    "    \n",
    "fibonacci_max(10000000)"
   ]
  }
 ],
 "metadata": {
  "colab": {
   "provenance": []
  },
  "kernelspec": {
   "display_name": "Python 3",
   "language": "python",
   "name": "python3"
  },
  "language_info": {
   "codemirror_mode": {
    "name": "ipython",
    "version": 3
   },
   "file_extension": ".py",
   "mimetype": "text/x-python",
   "name": "python",
   "nbconvert_exporter": "python",
   "pygments_lexer": "ipython3",
   "version": "3.7.6"
  }
 },
 "nbformat": 4,
 "nbformat_minor": 4
}
